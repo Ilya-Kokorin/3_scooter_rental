{
 "cells": [
  {
   "cell_type": "markdown",
   "id": "4a835a9a",
   "metadata": {},
   "source": [
    "# Аренда самокатов "
   ]
  },
  {
   "cell_type": "markdown",
   "id": "3b0fff5c",
   "metadata": {
    "toc": true
   },
   "source": [
    "<h1>Оглавление<span class=\"tocSkip\"></span></h1>\n",
    "<div class=\"toc\"><ul class=\"toc-item\"><li><span><a href=\"#Общая-информация-о-данных\" data-toc-modified-id=\"Общая-информация-о-данных-1\"><span class=\"toc-item-num\">1&nbsp;&nbsp;</span>Общая информация о данных</a></span></li><li><span><a href=\"#Загрузка-данных-и-их-краткое-описание\" data-toc-modified-id=\"Загрузка-данных-и-их-краткое-описание-2\"><span class=\"toc-item-num\">2&nbsp;&nbsp;</span>Загрузка данных и их краткое описание</a></span></li><li><span><a href=\"#Предобработка-данных\" data-toc-modified-id=\"Предобработка-данных-3\"><span class=\"toc-item-num\">3&nbsp;&nbsp;</span>Предобработка данных</a></span></li><li><span><a href=\"#Исследовательский-анализ-данных\" data-toc-modified-id=\"Исследовательский-анализ-данных-4\"><span class=\"toc-item-num\">4&nbsp;&nbsp;</span>Исследовательский анализ данных</a></span></li><li><span><a href=\"#Объединение-данных\" data-toc-modified-id=\"Объединение-данных-5\"><span class=\"toc-item-num\">5&nbsp;&nbsp;</span>Объединение данных</a></span></li><li><span><a href=\"#Подсчёт-выручки\" data-toc-modified-id=\"Подсчёт-выручки-6\"><span class=\"toc-item-num\">6&nbsp;&nbsp;</span>Подсчёт выручки</a></span></li><li><span><a href=\"#Проверка-гипотез\" data-toc-modified-id=\"Проверка-гипотез-7\"><span class=\"toc-item-num\">7&nbsp;&nbsp;</span>Проверка гипотез</a></span><ul class=\"toc-item\"><li><span><a href=\"#Тратят-ли-пользователи-с-подпиской-больше-времени-на-поездки\" data-toc-modified-id=\"Тратят-ли-пользователи-с-подпиской-больше-времени-на-поездки-7.1\"><span class=\"toc-item-num\">7.1&nbsp;&nbsp;</span>Тратят ли пользователи с подпиской больше времени на поездки</a></span></li><li><span><a href=\"#Среднее-расстояние,-которое-проезжают-пользователи-с-подпиской-за-одну-поездку,-не-превышает-3130-метров\" data-toc-modified-id=\"Среднее-расстояние,-которое-проезжают-пользователи-с-подпиской-за-одну-поездку,-не-превышает-3130-метров-7.2\"><span class=\"toc-item-num\">7.2&nbsp;&nbsp;</span>Среднее расстояние, которое проезжают пользователи с подпиской за одну поездку, не превышает 3130 метров</a></span></li><li><span><a href=\"#Будет-ли-помесячная-выручка-от-пользователей-с-подпиской-по-месяцам-выше,-чем-выручка-от-пользователей-без-подписки?\" data-toc-modified-id=\"Будет-ли-помесячная-выручка-от-пользователей-с-подпиской-по-месяцам-выше,-чем-выручка-от-пользователей-без-подписки?-7.3\"><span class=\"toc-item-num\">7.3&nbsp;&nbsp;</span>Будет ли помесячная выручка от пользователей с подпиской по месяцам выше, чем выручка от пользователей без подписки?</a></span></li><li><span><a href=\"#Какой-тест-для-проверки-гипотезы-о-снижении-обращений-граждан-в-техподдержку-после-обновления-приложения?\" data-toc-modified-id=\"Какой-тест-для-проверки-гипотезы-о-снижении-обращений-граждан-в-техподдержку-после-обновления-приложения?-7.4\"><span class=\"toc-item-num\">7.4&nbsp;&nbsp;</span>Какой тест для проверки гипотезы о снижении обращений граждан в техподдержку после обновления приложения?</a></span></li></ul></li><li><span><a href=\"#Распределения\" data-toc-modified-id=\"Распределения-8\"><span class=\"toc-item-num\">8&nbsp;&nbsp;</span>Распределения</a></span><ul class=\"toc-item\"><li><span><a href=\"#Бесплатные-промокоды\" data-toc-modified-id=\"Бесплатные-промокоды-8.1\"><span class=\"toc-item-num\">8.1&nbsp;&nbsp;</span>Бесплатные промокоды</a></span></li><li><span><a href=\"#Открытие-push-уведомлений\" data-toc-modified-id=\"Открытие-push-уведомлений-8.2\"><span class=\"toc-item-num\">8.2&nbsp;&nbsp;</span>Открытие push-уведомлений</a></span></li></ul></li></ul></div>"
   ]
  },
  {
   "cell_type": "markdown",
   "id": "1ed8ece5",
   "metadata": {},
   "source": [
    "## Общая информация о данных"
   ]
  },
  {
   "cell_type": "markdown",
   "id": "ff65d40f",
   "metadata": {},
   "source": [
    "В данных, полученных для анализа содержится информация о клиентах популярного сервиса аренды самокатов GoFast из нескольких городов, а также об их поездках и наличию у них подписок. Цель исследования: проверить гипотезы, которые помогут сервису извлекать больше прибыли."
   ]
  },
  {
   "cell_type": "markdown",
   "id": "c42cbe00",
   "metadata": {},
   "source": [
    "## Загрузка данных и их краткое описание"
   ]
  },
  {
   "cell_type": "code",
   "execution_count": 1,
   "id": "c77573e1",
   "metadata": {},
   "outputs": [],
   "source": [
    "import pandas as pd\n",
    "import numpy as np\n",
    "import matplotlib.pyplot as plt\n",
    "from scipy import stats as st"
   ]
  },
  {
   "cell_type": "code",
   "execution_count": 2,
   "id": "eff9f206",
   "metadata": {},
   "outputs": [],
   "source": [
    "data_1 = pd.read_csv('/datasets/users_go.csv')\n",
    "data_2 = pd.read_csv('/datasets/rides_go.csv')\n",
    "data_3 = pd.read_csv('/datasets/subscriptions_go.csv')"
   ]
  },
  {
   "cell_type": "code",
   "execution_count": 3,
   "id": "d686b101",
   "metadata": {},
   "outputs": [
    {
     "data": {
      "text/html": [
       "<div>\n",
       "<style scoped>\n",
       "    .dataframe tbody tr th:only-of-type {\n",
       "        vertical-align: middle;\n",
       "    }\n",
       "\n",
       "    .dataframe tbody tr th {\n",
       "        vertical-align: top;\n",
       "    }\n",
       "\n",
       "    .dataframe thead th {\n",
       "        text-align: right;\n",
       "    }\n",
       "</style>\n",
       "<table border=\"1\" class=\"dataframe\">\n",
       "  <thead>\n",
       "    <tr style=\"text-align: right;\">\n",
       "      <th></th>\n",
       "      <th>user_id</th>\n",
       "      <th>name</th>\n",
       "      <th>age</th>\n",
       "      <th>city</th>\n",
       "      <th>subscription_type</th>\n",
       "    </tr>\n",
       "  </thead>\n",
       "  <tbody>\n",
       "    <tr>\n",
       "      <th>0</th>\n",
       "      <td>1</td>\n",
       "      <td>Кира</td>\n",
       "      <td>22</td>\n",
       "      <td>Тюмень</td>\n",
       "      <td>ultra</td>\n",
       "    </tr>\n",
       "    <tr>\n",
       "      <th>1</th>\n",
       "      <td>2</td>\n",
       "      <td>Станислав</td>\n",
       "      <td>31</td>\n",
       "      <td>Омск</td>\n",
       "      <td>ultra</td>\n",
       "    </tr>\n",
       "    <tr>\n",
       "      <th>2</th>\n",
       "      <td>3</td>\n",
       "      <td>Алексей</td>\n",
       "      <td>20</td>\n",
       "      <td>Москва</td>\n",
       "      <td>ultra</td>\n",
       "    </tr>\n",
       "    <tr>\n",
       "      <th>3</th>\n",
       "      <td>4</td>\n",
       "      <td>Константин</td>\n",
       "      <td>26</td>\n",
       "      <td>Ростов-на-Дону</td>\n",
       "      <td>ultra</td>\n",
       "    </tr>\n",
       "    <tr>\n",
       "      <th>4</th>\n",
       "      <td>5</td>\n",
       "      <td>Адель</td>\n",
       "      <td>28</td>\n",
       "      <td>Омск</td>\n",
       "      <td>ultra</td>\n",
       "    </tr>\n",
       "  </tbody>\n",
       "</table>\n",
       "</div>"
      ],
      "text/plain": [
       "   user_id        name  age            city subscription_type\n",
       "0        1        Кира   22          Тюмень             ultra\n",
       "1        2   Станислав   31            Омск             ultra\n",
       "2        3     Алексей   20          Москва             ultra\n",
       "3        4  Константин   26  Ростов-на-Дону             ultra\n",
       "4        5       Адель   28            Омск             ultra"
      ]
     },
     "metadata": {},
     "output_type": "display_data"
    },
    {
     "name": "stdout",
     "output_type": "stream",
     "text": [
      "<class 'pandas.core.frame.DataFrame'>\n",
      "RangeIndex: 1565 entries, 0 to 1564\n",
      "Data columns (total 5 columns):\n",
      " #   Column             Non-Null Count  Dtype \n",
      "---  ------             --------------  ----- \n",
      " 0   user_id            1565 non-null   int64 \n",
      " 1   name               1565 non-null   object\n",
      " 2   age                1565 non-null   int64 \n",
      " 3   city               1565 non-null   object\n",
      " 4   subscription_type  1565 non-null   object\n",
      "dtypes: int64(2), object(3)\n",
      "memory usage: 61.3+ KB\n"
     ]
    }
   ],
   "source": [
    "display(data_1.head())\n",
    "data_1.info()"
   ]
  },
  {
   "cell_type": "code",
   "execution_count": 4,
   "id": "7197ff51",
   "metadata": {},
   "outputs": [
    {
     "data": {
      "text/html": [
       "<div>\n",
       "<style scoped>\n",
       "    .dataframe tbody tr th:only-of-type {\n",
       "        vertical-align: middle;\n",
       "    }\n",
       "\n",
       "    .dataframe tbody tr th {\n",
       "        vertical-align: top;\n",
       "    }\n",
       "\n",
       "    .dataframe thead th {\n",
       "        text-align: right;\n",
       "    }\n",
       "</style>\n",
       "<table border=\"1\" class=\"dataframe\">\n",
       "  <thead>\n",
       "    <tr style=\"text-align: right;\">\n",
       "      <th></th>\n",
       "      <th>user_id</th>\n",
       "      <th>distance</th>\n",
       "      <th>duration</th>\n",
       "      <th>date</th>\n",
       "    </tr>\n",
       "  </thead>\n",
       "  <tbody>\n",
       "    <tr>\n",
       "      <th>0</th>\n",
       "      <td>1</td>\n",
       "      <td>4409.919140</td>\n",
       "      <td>25.599769</td>\n",
       "      <td>2021-01-01</td>\n",
       "    </tr>\n",
       "    <tr>\n",
       "      <th>1</th>\n",
       "      <td>1</td>\n",
       "      <td>2617.592153</td>\n",
       "      <td>15.816871</td>\n",
       "      <td>2021-01-18</td>\n",
       "    </tr>\n",
       "    <tr>\n",
       "      <th>2</th>\n",
       "      <td>1</td>\n",
       "      <td>754.159807</td>\n",
       "      <td>6.232113</td>\n",
       "      <td>2021-04-20</td>\n",
       "    </tr>\n",
       "    <tr>\n",
       "      <th>3</th>\n",
       "      <td>1</td>\n",
       "      <td>2694.783254</td>\n",
       "      <td>18.511000</td>\n",
       "      <td>2021-08-11</td>\n",
       "    </tr>\n",
       "    <tr>\n",
       "      <th>4</th>\n",
       "      <td>1</td>\n",
       "      <td>4028.687306</td>\n",
       "      <td>26.265803</td>\n",
       "      <td>2021-08-28</td>\n",
       "    </tr>\n",
       "  </tbody>\n",
       "</table>\n",
       "</div>"
      ],
      "text/plain": [
       "   user_id     distance   duration        date\n",
       "0        1  4409.919140  25.599769  2021-01-01\n",
       "1        1  2617.592153  15.816871  2021-01-18\n",
       "2        1   754.159807   6.232113  2021-04-20\n",
       "3        1  2694.783254  18.511000  2021-08-11\n",
       "4        1  4028.687306  26.265803  2021-08-28"
      ]
     },
     "metadata": {},
     "output_type": "display_data"
    },
    {
     "name": "stdout",
     "output_type": "stream",
     "text": [
      "<class 'pandas.core.frame.DataFrame'>\n",
      "RangeIndex: 18068 entries, 0 to 18067\n",
      "Data columns (total 4 columns):\n",
      " #   Column    Non-Null Count  Dtype  \n",
      "---  ------    --------------  -----  \n",
      " 0   user_id   18068 non-null  int64  \n",
      " 1   distance  18068 non-null  float64\n",
      " 2   duration  18068 non-null  float64\n",
      " 3   date      18068 non-null  object \n",
      "dtypes: float64(2), int64(1), object(1)\n",
      "memory usage: 564.8+ KB\n"
     ]
    }
   ],
   "source": [
    "display(data_2.head())\n",
    "data_2.info()"
   ]
  },
  {
   "cell_type": "code",
   "execution_count": 5,
   "id": "69956be2",
   "metadata": {},
   "outputs": [
    {
     "data": {
      "text/html": [
       "<div>\n",
       "<style scoped>\n",
       "    .dataframe tbody tr th:only-of-type {\n",
       "        vertical-align: middle;\n",
       "    }\n",
       "\n",
       "    .dataframe tbody tr th {\n",
       "        vertical-align: top;\n",
       "    }\n",
       "\n",
       "    .dataframe thead th {\n",
       "        text-align: right;\n",
       "    }\n",
       "</style>\n",
       "<table border=\"1\" class=\"dataframe\">\n",
       "  <thead>\n",
       "    <tr style=\"text-align: right;\">\n",
       "      <th></th>\n",
       "      <th>subscription_type</th>\n",
       "      <th>minute_price</th>\n",
       "      <th>start_ride_price</th>\n",
       "      <th>subscription_fee</th>\n",
       "    </tr>\n",
       "  </thead>\n",
       "  <tbody>\n",
       "    <tr>\n",
       "      <th>0</th>\n",
       "      <td>free</td>\n",
       "      <td>8</td>\n",
       "      <td>50</td>\n",
       "      <td>0</td>\n",
       "    </tr>\n",
       "    <tr>\n",
       "      <th>1</th>\n",
       "      <td>ultra</td>\n",
       "      <td>6</td>\n",
       "      <td>0</td>\n",
       "      <td>199</td>\n",
       "    </tr>\n",
       "  </tbody>\n",
       "</table>\n",
       "</div>"
      ],
      "text/plain": [
       "  subscription_type  minute_price  start_ride_price  subscription_fee\n",
       "0              free             8                50                 0\n",
       "1             ultra             6                 0               199"
      ]
     },
     "metadata": {},
     "output_type": "display_data"
    },
    {
     "name": "stdout",
     "output_type": "stream",
     "text": [
      "<class 'pandas.core.frame.DataFrame'>\n",
      "RangeIndex: 2 entries, 0 to 1\n",
      "Data columns (total 4 columns):\n",
      " #   Column             Non-Null Count  Dtype \n",
      "---  ------             --------------  ----- \n",
      " 0   subscription_type  2 non-null      object\n",
      " 1   minute_price       2 non-null      int64 \n",
      " 2   start_ride_price   2 non-null      int64 \n",
      " 3   subscription_fee   2 non-null      int64 \n",
      "dtypes: int64(3), object(1)\n",
      "memory usage: 192.0+ bytes\n"
     ]
    }
   ],
   "source": [
    "display(data_3.head())\n",
    "data_3.info()"
   ]
  },
  {
   "cell_type": "markdown",
   "id": "434a6563",
   "metadata": {},
   "source": [
    "<br>**Вывод**\n",
    "<br>Первый датасет состоит из информации по клиентам сервиса, такой как имя, возраст, город проживания, наличие подписки на самокаты. Второй датасет содержит информацию о поездках данных граждан (продолжительность, расстояние и дата каждой поездки). Число строк во втором датафрейме очевидно больше, чем в первом по причине того, что многие граждане пользовались самокатами не один раз. Третий датасет состоит из информации о существующих подписках (free и ultra): стоимости одной минуты поездки, цены использования самоката, абонентской стоимости подписки.\n",
    "Пропусков в данных нет."
   ]
  },
  {
   "cell_type": "markdown",
   "id": "e95ebca7",
   "metadata": {},
   "source": [
    "## Предобработка данных"
   ]
  },
  {
   "cell_type": "markdown",
   "id": "dc481560",
   "metadata": {},
   "source": [
    "Вначале в датафрейме с информацией о поездках каждого клиента (data_2) округлим десятичные значения до 2 цифр после запятой и приведем даты в приемлемый вид."
   ]
  },
  {
   "cell_type": "code",
   "execution_count": 6,
   "id": "8416fdf6",
   "metadata": {},
   "outputs": [
    {
     "data": {
      "text/html": [
       "<div>\n",
       "<style scoped>\n",
       "    .dataframe tbody tr th:only-of-type {\n",
       "        vertical-align: middle;\n",
       "    }\n",
       "\n",
       "    .dataframe tbody tr th {\n",
       "        vertical-align: top;\n",
       "    }\n",
       "\n",
       "    .dataframe thead th {\n",
       "        text-align: right;\n",
       "    }\n",
       "</style>\n",
       "<table border=\"1\" class=\"dataframe\">\n",
       "  <thead>\n",
       "    <tr style=\"text-align: right;\">\n",
       "      <th></th>\n",
       "      <th>user_id</th>\n",
       "      <th>distance</th>\n",
       "      <th>duration</th>\n",
       "      <th>date</th>\n",
       "    </tr>\n",
       "  </thead>\n",
       "  <tbody>\n",
       "    <tr>\n",
       "      <th>0</th>\n",
       "      <td>1</td>\n",
       "      <td>4409.919140</td>\n",
       "      <td>25.599769</td>\n",
       "      <td>2021-01-01</td>\n",
       "    </tr>\n",
       "    <tr>\n",
       "      <th>1</th>\n",
       "      <td>1</td>\n",
       "      <td>2617.592153</td>\n",
       "      <td>15.816871</td>\n",
       "      <td>2021-01-18</td>\n",
       "    </tr>\n",
       "    <tr>\n",
       "      <th>2</th>\n",
       "      <td>1</td>\n",
       "      <td>754.159807</td>\n",
       "      <td>6.232113</td>\n",
       "      <td>2021-04-20</td>\n",
       "    </tr>\n",
       "    <tr>\n",
       "      <th>3</th>\n",
       "      <td>1</td>\n",
       "      <td>2694.783254</td>\n",
       "      <td>18.511000</td>\n",
       "      <td>2021-08-11</td>\n",
       "    </tr>\n",
       "    <tr>\n",
       "      <th>4</th>\n",
       "      <td>1</td>\n",
       "      <td>4028.687306</td>\n",
       "      <td>26.265803</td>\n",
       "      <td>2021-08-28</td>\n",
       "    </tr>\n",
       "  </tbody>\n",
       "</table>\n",
       "</div>"
      ],
      "text/plain": [
       "   user_id     distance   duration        date\n",
       "0        1  4409.919140  25.599769  2021-01-01\n",
       "1        1  2617.592153  15.816871  2021-01-18\n",
       "2        1   754.159807   6.232113  2021-04-20\n",
       "3        1  2694.783254  18.511000  2021-08-11\n",
       "4        1  4028.687306  26.265803  2021-08-28"
      ]
     },
     "execution_count": 6,
     "metadata": {},
     "output_type": "execute_result"
    }
   ],
   "source": [
    "data_2.head()"
   ]
  },
  {
   "cell_type": "code",
   "execution_count": 7,
   "id": "0545c0fa",
   "metadata": {},
   "outputs": [
    {
     "data": {
      "text/html": [
       "<div>\n",
       "<style scoped>\n",
       "    .dataframe tbody tr th:only-of-type {\n",
       "        vertical-align: middle;\n",
       "    }\n",
       "\n",
       "    .dataframe tbody tr th {\n",
       "        vertical-align: top;\n",
       "    }\n",
       "\n",
       "    .dataframe thead th {\n",
       "        text-align: right;\n",
       "    }\n",
       "</style>\n",
       "<table border=\"1\" class=\"dataframe\">\n",
       "  <thead>\n",
       "    <tr style=\"text-align: right;\">\n",
       "      <th></th>\n",
       "      <th>user_id</th>\n",
       "      <th>distance</th>\n",
       "      <th>duration</th>\n",
       "      <th>date</th>\n",
       "    </tr>\n",
       "  </thead>\n",
       "  <tbody>\n",
       "    <tr>\n",
       "      <th>0</th>\n",
       "      <td>1</td>\n",
       "      <td>4409.92</td>\n",
       "      <td>25.60</td>\n",
       "      <td>2021-01-01</td>\n",
       "    </tr>\n",
       "    <tr>\n",
       "      <th>1</th>\n",
       "      <td>1</td>\n",
       "      <td>2617.59</td>\n",
       "      <td>15.82</td>\n",
       "      <td>2021-01-18</td>\n",
       "    </tr>\n",
       "    <tr>\n",
       "      <th>2</th>\n",
       "      <td>1</td>\n",
       "      <td>754.16</td>\n",
       "      <td>6.23</td>\n",
       "      <td>2021-04-20</td>\n",
       "    </tr>\n",
       "    <tr>\n",
       "      <th>3</th>\n",
       "      <td>1</td>\n",
       "      <td>2694.78</td>\n",
       "      <td>18.51</td>\n",
       "      <td>2021-08-11</td>\n",
       "    </tr>\n",
       "    <tr>\n",
       "      <th>4</th>\n",
       "      <td>1</td>\n",
       "      <td>4028.69</td>\n",
       "      <td>26.27</td>\n",
       "      <td>2021-08-28</td>\n",
       "    </tr>\n",
       "  </tbody>\n",
       "</table>\n",
       "</div>"
      ],
      "text/plain": [
       "   user_id  distance  duration        date\n",
       "0        1   4409.92     25.60  2021-01-01\n",
       "1        1   2617.59     15.82  2021-01-18\n",
       "2        1    754.16      6.23  2021-04-20\n",
       "3        1   2694.78     18.51  2021-08-11\n",
       "4        1   4028.69     26.27  2021-08-28"
      ]
     },
     "execution_count": 7,
     "metadata": {},
     "output_type": "execute_result"
    }
   ],
   "source": [
    "data_2 = data_2.round(2)\n",
    "data_2.head()"
   ]
  },
  {
   "cell_type": "code",
   "execution_count": 8,
   "id": "515a9d7e",
   "metadata": {},
   "outputs": [],
   "source": [
    "data_2['date'] = pd.to_datetime(data_2['date'], format='%Y.%m.%d')"
   ]
  },
  {
   "cell_type": "markdown",
   "id": "5af9aebe",
   "metadata": {},
   "source": [
    "Добавм столбец с месяцем поездки"
   ]
  },
  {
   "cell_type": "code",
   "execution_count": 9,
   "id": "3c185ae2",
   "metadata": {},
   "outputs": [
    {
     "data": {
      "text/html": [
       "<div>\n",
       "<style scoped>\n",
       "    .dataframe tbody tr th:only-of-type {\n",
       "        vertical-align: middle;\n",
       "    }\n",
       "\n",
       "    .dataframe tbody tr th {\n",
       "        vertical-align: top;\n",
       "    }\n",
       "\n",
       "    .dataframe thead th {\n",
       "        text-align: right;\n",
       "    }\n",
       "</style>\n",
       "<table border=\"1\" class=\"dataframe\">\n",
       "  <thead>\n",
       "    <tr style=\"text-align: right;\">\n",
       "      <th></th>\n",
       "      <th>user_id</th>\n",
       "      <th>distance</th>\n",
       "      <th>duration</th>\n",
       "      <th>date</th>\n",
       "      <th>month</th>\n",
       "    </tr>\n",
       "  </thead>\n",
       "  <tbody>\n",
       "    <tr>\n",
       "      <th>0</th>\n",
       "      <td>1</td>\n",
       "      <td>4409.92</td>\n",
       "      <td>25.60</td>\n",
       "      <td>2021-01-01</td>\n",
       "      <td>1</td>\n",
       "    </tr>\n",
       "    <tr>\n",
       "      <th>1</th>\n",
       "      <td>1</td>\n",
       "      <td>2617.59</td>\n",
       "      <td>15.82</td>\n",
       "      <td>2021-01-18</td>\n",
       "      <td>1</td>\n",
       "    </tr>\n",
       "    <tr>\n",
       "      <th>2</th>\n",
       "      <td>1</td>\n",
       "      <td>754.16</td>\n",
       "      <td>6.23</td>\n",
       "      <td>2021-04-20</td>\n",
       "      <td>4</td>\n",
       "    </tr>\n",
       "    <tr>\n",
       "      <th>3</th>\n",
       "      <td>1</td>\n",
       "      <td>2694.78</td>\n",
       "      <td>18.51</td>\n",
       "      <td>2021-08-11</td>\n",
       "      <td>8</td>\n",
       "    </tr>\n",
       "    <tr>\n",
       "      <th>4</th>\n",
       "      <td>1</td>\n",
       "      <td>4028.69</td>\n",
       "      <td>26.27</td>\n",
       "      <td>2021-08-28</td>\n",
       "      <td>8</td>\n",
       "    </tr>\n",
       "  </tbody>\n",
       "</table>\n",
       "</div>"
      ],
      "text/plain": [
       "   user_id  distance  duration       date  month\n",
       "0        1   4409.92     25.60 2021-01-01      1\n",
       "1        1   2617.59     15.82 2021-01-18      1\n",
       "2        1    754.16      6.23 2021-04-20      4\n",
       "3        1   2694.78     18.51 2021-08-11      8\n",
       "4        1   4028.69     26.27 2021-08-28      8"
      ]
     },
     "execution_count": 9,
     "metadata": {},
     "output_type": "execute_result"
    }
   ],
   "source": [
    "data_2['month'] = pd.DatetimeIndex(data_2['date']).month\n",
    "data_2.head()"
   ]
  },
  {
   "cell_type": "markdown",
   "id": "7025f0fa",
   "metadata": {},
   "source": [
    "Ранее выяснили, что пропущеных значений в датафрейме нет. Выполним проверку на наличие дубликатов. Если таковые имеются, удалим их."
   ]
  },
  {
   "cell_type": "code",
   "execution_count": 10,
   "id": "dada96fe",
   "metadata": {},
   "outputs": [
    {
     "data": {
      "text/plain": [
       "(31, 0, 0)"
      ]
     },
     "execution_count": 10,
     "metadata": {},
     "output_type": "execute_result"
    }
   ],
   "source": [
    "data_1.duplicated().sum(), data_2.duplicated().sum(), data_3.duplicated().sum()"
   ]
  },
  {
   "cell_type": "code",
   "execution_count": 11,
   "id": "be29975b",
   "metadata": {},
   "outputs": [
    {
     "data": {
      "text/html": [
       "<div>\n",
       "<style scoped>\n",
       "    .dataframe tbody tr th:only-of-type {\n",
       "        vertical-align: middle;\n",
       "    }\n",
       "\n",
       "    .dataframe tbody tr th {\n",
       "        vertical-align: top;\n",
       "    }\n",
       "\n",
       "    .dataframe thead th {\n",
       "        text-align: right;\n",
       "    }\n",
       "</style>\n",
       "<table border=\"1\" class=\"dataframe\">\n",
       "  <thead>\n",
       "    <tr style=\"text-align: right;\">\n",
       "      <th></th>\n",
       "      <th>user_id</th>\n",
       "      <th>name</th>\n",
       "      <th>age</th>\n",
       "      <th>city</th>\n",
       "      <th>subscription_type</th>\n",
       "    </tr>\n",
       "  </thead>\n",
       "  <tbody>\n",
       "    <tr>\n",
       "      <th>0</th>\n",
       "      <td>1</td>\n",
       "      <td>Кира</td>\n",
       "      <td>22</td>\n",
       "      <td>Тюмень</td>\n",
       "      <td>ultra</td>\n",
       "    </tr>\n",
       "    <tr>\n",
       "      <th>1</th>\n",
       "      <td>2</td>\n",
       "      <td>Станислав</td>\n",
       "      <td>31</td>\n",
       "      <td>Омск</td>\n",
       "      <td>ultra</td>\n",
       "    </tr>\n",
       "    <tr>\n",
       "      <th>2</th>\n",
       "      <td>3</td>\n",
       "      <td>Алексей</td>\n",
       "      <td>20</td>\n",
       "      <td>Москва</td>\n",
       "      <td>ultra</td>\n",
       "    </tr>\n",
       "    <tr>\n",
       "      <th>3</th>\n",
       "      <td>4</td>\n",
       "      <td>Константин</td>\n",
       "      <td>26</td>\n",
       "      <td>Ростов-на-Дону</td>\n",
       "      <td>ultra</td>\n",
       "    </tr>\n",
       "    <tr>\n",
       "      <th>4</th>\n",
       "      <td>5</td>\n",
       "      <td>Адель</td>\n",
       "      <td>28</td>\n",
       "      <td>Омск</td>\n",
       "      <td>ultra</td>\n",
       "    </tr>\n",
       "    <tr>\n",
       "      <th>...</th>\n",
       "      <td>...</td>\n",
       "      <td>...</td>\n",
       "      <td>...</td>\n",
       "      <td>...</td>\n",
       "      <td>...</td>\n",
       "    </tr>\n",
       "    <tr>\n",
       "      <th>1560</th>\n",
       "      <td>829</td>\n",
       "      <td>Федор</td>\n",
       "      <td>29</td>\n",
       "      <td>Пятигорск</td>\n",
       "      <td>free</td>\n",
       "    </tr>\n",
       "    <tr>\n",
       "      <th>1561</th>\n",
       "      <td>809</td>\n",
       "      <td>Юрий</td>\n",
       "      <td>26</td>\n",
       "      <td>Сочи</td>\n",
       "      <td>free</td>\n",
       "    </tr>\n",
       "    <tr>\n",
       "      <th>1562</th>\n",
       "      <td>307</td>\n",
       "      <td>Ясмина</td>\n",
       "      <td>19</td>\n",
       "      <td>Краснодар</td>\n",
       "      <td>ultra</td>\n",
       "    </tr>\n",
       "    <tr>\n",
       "      <th>1563</th>\n",
       "      <td>47</td>\n",
       "      <td>Юрий</td>\n",
       "      <td>28</td>\n",
       "      <td>Тюмень</td>\n",
       "      <td>ultra</td>\n",
       "    </tr>\n",
       "    <tr>\n",
       "      <th>1564</th>\n",
       "      <td>1045</td>\n",
       "      <td>Артемий</td>\n",
       "      <td>28</td>\n",
       "      <td>Ростов-на-Дону</td>\n",
       "      <td>free</td>\n",
       "    </tr>\n",
       "  </tbody>\n",
       "</table>\n",
       "<p>1565 rows × 5 columns</p>\n",
       "</div>"
      ],
      "text/plain": [
       "      user_id        name  age            city subscription_type\n",
       "0           1        Кира   22          Тюмень             ultra\n",
       "1           2   Станислав   31            Омск             ultra\n",
       "2           3     Алексей   20          Москва             ultra\n",
       "3           4  Константин   26  Ростов-на-Дону             ultra\n",
       "4           5       Адель   28            Омск             ultra\n",
       "...       ...         ...  ...             ...               ...\n",
       "1560      829       Федор   29       Пятигорск              free\n",
       "1561      809        Юрий   26            Сочи              free\n",
       "1562      307      Ясмина   19       Краснодар             ultra\n",
       "1563       47        Юрий   28          Тюмень             ultra\n",
       "1564     1045     Артемий   28  Ростов-на-Дону              free\n",
       "\n",
       "[1565 rows x 5 columns]"
      ]
     },
     "execution_count": 11,
     "metadata": {},
     "output_type": "execute_result"
    }
   ],
   "source": [
    "data_1"
   ]
  },
  {
   "cell_type": "code",
   "execution_count": 12,
   "id": "e3bd0144",
   "metadata": {},
   "outputs": [
    {
     "data": {
      "text/plain": [
       "1534"
      ]
     },
     "execution_count": 12,
     "metadata": {},
     "output_type": "execute_result"
    }
   ],
   "source": [
    "data_1['user_id'].max()"
   ]
  },
  {
   "cell_type": "code",
   "execution_count": 13,
   "id": "f7a9d51f",
   "metadata": {},
   "outputs": [],
   "source": [
    "data_1 = data_1.drop_duplicates().reset_index(drop=True)"
   ]
  },
  {
   "cell_type": "code",
   "execution_count": 14,
   "id": "3552bcc3",
   "metadata": {},
   "outputs": [
    {
     "data": {
      "text/html": [
       "<div>\n",
       "<style scoped>\n",
       "    .dataframe tbody tr th:only-of-type {\n",
       "        vertical-align: middle;\n",
       "    }\n",
       "\n",
       "    .dataframe tbody tr th {\n",
       "        vertical-align: top;\n",
       "    }\n",
       "\n",
       "    .dataframe thead th {\n",
       "        text-align: right;\n",
       "    }\n",
       "</style>\n",
       "<table border=\"1\" class=\"dataframe\">\n",
       "  <thead>\n",
       "    <tr style=\"text-align: right;\">\n",
       "      <th></th>\n",
       "      <th>user_id</th>\n",
       "      <th>name</th>\n",
       "      <th>age</th>\n",
       "      <th>city</th>\n",
       "      <th>subscription_type</th>\n",
       "    </tr>\n",
       "  </thead>\n",
       "  <tbody>\n",
       "    <tr>\n",
       "      <th>0</th>\n",
       "      <td>1</td>\n",
       "      <td>Кира</td>\n",
       "      <td>22</td>\n",
       "      <td>Тюмень</td>\n",
       "      <td>ultra</td>\n",
       "    </tr>\n",
       "    <tr>\n",
       "      <th>1</th>\n",
       "      <td>2</td>\n",
       "      <td>Станислав</td>\n",
       "      <td>31</td>\n",
       "      <td>Омск</td>\n",
       "      <td>ultra</td>\n",
       "    </tr>\n",
       "    <tr>\n",
       "      <th>2</th>\n",
       "      <td>3</td>\n",
       "      <td>Алексей</td>\n",
       "      <td>20</td>\n",
       "      <td>Москва</td>\n",
       "      <td>ultra</td>\n",
       "    </tr>\n",
       "    <tr>\n",
       "      <th>3</th>\n",
       "      <td>4</td>\n",
       "      <td>Константин</td>\n",
       "      <td>26</td>\n",
       "      <td>Ростов-на-Дону</td>\n",
       "      <td>ultra</td>\n",
       "    </tr>\n",
       "    <tr>\n",
       "      <th>4</th>\n",
       "      <td>5</td>\n",
       "      <td>Адель</td>\n",
       "      <td>28</td>\n",
       "      <td>Омск</td>\n",
       "      <td>ultra</td>\n",
       "    </tr>\n",
       "    <tr>\n",
       "      <th>...</th>\n",
       "      <td>...</td>\n",
       "      <td>...</td>\n",
       "      <td>...</td>\n",
       "      <td>...</td>\n",
       "      <td>...</td>\n",
       "    </tr>\n",
       "    <tr>\n",
       "      <th>1529</th>\n",
       "      <td>1530</td>\n",
       "      <td>Ростислав</td>\n",
       "      <td>29</td>\n",
       "      <td>Сочи</td>\n",
       "      <td>free</td>\n",
       "    </tr>\n",
       "    <tr>\n",
       "      <th>1530</th>\n",
       "      <td>1531</td>\n",
       "      <td>Никита</td>\n",
       "      <td>25</td>\n",
       "      <td>Пятигорск</td>\n",
       "      <td>free</td>\n",
       "    </tr>\n",
       "    <tr>\n",
       "      <th>1531</th>\n",
       "      <td>1532</td>\n",
       "      <td>Алексей</td>\n",
       "      <td>26</td>\n",
       "      <td>Тюмень</td>\n",
       "      <td>free</td>\n",
       "    </tr>\n",
       "    <tr>\n",
       "      <th>1532</th>\n",
       "      <td>1533</td>\n",
       "      <td>Степан</td>\n",
       "      <td>22</td>\n",
       "      <td>Краснодар</td>\n",
       "      <td>free</td>\n",
       "    </tr>\n",
       "    <tr>\n",
       "      <th>1533</th>\n",
       "      <td>1534</td>\n",
       "      <td>Альберт</td>\n",
       "      <td>25</td>\n",
       "      <td>Краснодар</td>\n",
       "      <td>free</td>\n",
       "    </tr>\n",
       "  </tbody>\n",
       "</table>\n",
       "<p>1534 rows × 5 columns</p>\n",
       "</div>"
      ],
      "text/plain": [
       "      user_id        name  age            city subscription_type\n",
       "0           1        Кира   22          Тюмень             ultra\n",
       "1           2   Станислав   31            Омск             ultra\n",
       "2           3     Алексей   20          Москва             ultra\n",
       "3           4  Константин   26  Ростов-на-Дону             ultra\n",
       "4           5       Адель   28            Омск             ultra\n",
       "...       ...         ...  ...             ...               ...\n",
       "1529     1530   Ростислав   29            Сочи              free\n",
       "1530     1531      Никита   25       Пятигорск              free\n",
       "1531     1532     Алексей   26          Тюмень              free\n",
       "1532     1533      Степан   22       Краснодар              free\n",
       "1533     1534     Альберт   25       Краснодар              free\n",
       "\n",
       "[1534 rows x 5 columns]"
      ]
     },
     "execution_count": 14,
     "metadata": {},
     "output_type": "execute_result"
    }
   ],
   "source": [
    "data_1"
   ]
  },
  {
   "cell_type": "markdown",
   "id": "712c46a7",
   "metadata": {},
   "source": [
    "<br>**Вывод**\n",
    "<br>В результате выполненной предобработки даннных даты были переведены из формата object к формату datetime, дробные значения в датасете data_2 были округлены, а дубликаты в датасете data были удалены."
   ]
  },
  {
   "cell_type": "markdown",
   "id": "212593c7",
   "metadata": {},
   "source": [
    "## Исследовательский анализ данных"
   ]
  },
  {
   "cell_type": "markdown",
   "id": "92cfcc3a",
   "metadata": {},
   "source": [
    "Посмотрим на частоту встречаемости городов и построим даграммы распределения клиентов с подпиской и без по городам."
   ]
  },
  {
   "cell_type": "code",
   "execution_count": 15,
   "id": "3daabae8",
   "metadata": {},
   "outputs": [
    {
     "data": {
      "text/plain": [
       "array(['Тюмень', 'Омск', 'Москва', 'Ростов-на-Дону', 'Краснодар',\n",
       "       'Пятигорск', 'Екатеринбург', 'Сочи'], dtype=object)"
      ]
     },
     "execution_count": 15,
     "metadata": {},
     "output_type": "execute_result"
    }
   ],
   "source": [
    "data_1['city'].unique()"
   ]
  },
  {
   "cell_type": "code",
   "execution_count": 16,
   "id": "a17ad26b",
   "metadata": {},
   "outputs": [
    {
     "data": {
      "text/html": [
       "<div>\n",
       "<style scoped>\n",
       "    .dataframe tbody tr th:only-of-type {\n",
       "        vertical-align: middle;\n",
       "    }\n",
       "\n",
       "    .dataframe tbody tr th {\n",
       "        vertical-align: top;\n",
       "    }\n",
       "\n",
       "    .dataframe thead th {\n",
       "        text-align: right;\n",
       "    }\n",
       "</style>\n",
       "<table border=\"1\" class=\"dataframe\">\n",
       "  <thead>\n",
       "    <tr style=\"text-align: right;\">\n",
       "      <th>subscription_type</th>\n",
       "      <th>free</th>\n",
       "      <th>ultra</th>\n",
       "    </tr>\n",
       "    <tr>\n",
       "      <th>city</th>\n",
       "      <th></th>\n",
       "      <th></th>\n",
       "    </tr>\n",
       "  </thead>\n",
       "  <tbody>\n",
       "    <tr>\n",
       "      <th>Москва</th>\n",
       "      <td>84</td>\n",
       "      <td>84</td>\n",
       "    </tr>\n",
       "    <tr>\n",
       "      <th>Тюмень</th>\n",
       "      <td>98</td>\n",
       "      <td>82</td>\n",
       "    </tr>\n",
       "    <tr>\n",
       "      <th>Омск</th>\n",
       "      <td>92</td>\n",
       "      <td>91</td>\n",
       "    </tr>\n",
       "    <tr>\n",
       "      <th>Сочи</th>\n",
       "      <td>103</td>\n",
       "      <td>86</td>\n",
       "    </tr>\n",
       "    <tr>\n",
       "      <th>Краснодар</th>\n",
       "      <td>112</td>\n",
       "      <td>81</td>\n",
       "    </tr>\n",
       "    <tr>\n",
       "      <th>Ростов-на-Дону</th>\n",
       "      <td>109</td>\n",
       "      <td>89</td>\n",
       "    </tr>\n",
       "    <tr>\n",
       "      <th>Екатеринбург</th>\n",
       "      <td>112</td>\n",
       "      <td>92</td>\n",
       "    </tr>\n",
       "    <tr>\n",
       "      <th>Пятигорск</th>\n",
       "      <td>125</td>\n",
       "      <td>94</td>\n",
       "    </tr>\n",
       "  </tbody>\n",
       "</table>\n",
       "</div>"
      ],
      "text/plain": [
       "subscription_type  free  ultra\n",
       "city                          \n",
       "Москва               84     84\n",
       "Тюмень               98     82\n",
       "Омск                 92     91\n",
       "Сочи                103     86\n",
       "Краснодар           112     81\n",
       "Ростов-на-Дону      109     89\n",
       "Екатеринбург        112     92\n",
       "Пятигорск           125     94"
      ]
     },
     "execution_count": 16,
     "metadata": {},
     "output_type": "execute_result"
    }
   ],
   "source": [
    "temp = data_1.pivot_table(index='city', columns='subscription_type', values='user_id', aggfunc='count', margins=True).\\\n",
    "sort_values(by='All').drop('All').drop('All', axis=1)\n",
    "temp"
   ]
  },
  {
   "cell_type": "code",
   "execution_count": 17,
   "id": "090b7e39",
   "metadata": {},
   "outputs": [
    {
     "data": {
      "image/png": "[encoded data removed]",
      "text/plain": [
       "<Figure size 432x360 with 1 Axes>"
      ]
     },
     "metadata": {
      "needs_background": "light"
     },
     "output_type": "display_data"
    }
   ],
   "source": [
    "temp.plot(\n",
    "    kind='bar', grid=True, figsize=(6, 5), stacked=True,\n",
    "    title='Распределение клиентов по городам',\n",
    "    xlabel='Город',\n",
    "    ylabel='Количество клиентов')\n",
    "plt.xticks(rotation=40);"
   ]
  },
  {
   "cell_type": "markdown",
   "id": "0ce16812",
   "metadata": {},
   "source": [
    "Посмотрим на то, как распределяются клиенты с подпиской в зависимости от общего количества клиентов в городе."
   ]
  },
  {
   "cell_type": "code",
   "execution_count": 18,
   "id": "258b7a06",
   "metadata": {},
   "outputs": [
    {
     "data": {
      "text/html": [
       "<div>\n",
       "<style scoped>\n",
       "    .dataframe tbody tr th:only-of-type {\n",
       "        vertical-align: middle;\n",
       "    }\n",
       "\n",
       "    .dataframe tbody tr th {\n",
       "        vertical-align: top;\n",
       "    }\n",
       "\n",
       "    .dataframe thead th {\n",
       "        text-align: right;\n",
       "    }\n",
       "</style>\n",
       "<table border=\"1\" class=\"dataframe\">\n",
       "  <thead>\n",
       "    <tr style=\"text-align: right;\">\n",
       "      <th>subscription_type</th>\n",
       "      <th>free</th>\n",
       "      <th>ultra</th>\n",
       "      <th>total</th>\n",
       "      <th>ultra/total</th>\n",
       "    </tr>\n",
       "    <tr>\n",
       "      <th>city</th>\n",
       "      <th></th>\n",
       "      <th></th>\n",
       "      <th></th>\n",
       "      <th></th>\n",
       "    </tr>\n",
       "  </thead>\n",
       "  <tbody>\n",
       "    <tr>\n",
       "      <th>Москва</th>\n",
       "      <td>84</td>\n",
       "      <td>84</td>\n",
       "      <td>168</td>\n",
       "      <td>0.500000</td>\n",
       "    </tr>\n",
       "    <tr>\n",
       "      <th>Тюмень</th>\n",
       "      <td>98</td>\n",
       "      <td>82</td>\n",
       "      <td>180</td>\n",
       "      <td>0.455556</td>\n",
       "    </tr>\n",
       "    <tr>\n",
       "      <th>Омск</th>\n",
       "      <td>92</td>\n",
       "      <td>91</td>\n",
       "      <td>183</td>\n",
       "      <td>0.497268</td>\n",
       "    </tr>\n",
       "    <tr>\n",
       "      <th>Сочи</th>\n",
       "      <td>103</td>\n",
       "      <td>86</td>\n",
       "      <td>189</td>\n",
       "      <td>0.455026</td>\n",
       "    </tr>\n",
       "    <tr>\n",
       "      <th>Краснодар</th>\n",
       "      <td>112</td>\n",
       "      <td>81</td>\n",
       "      <td>193</td>\n",
       "      <td>0.419689</td>\n",
       "    </tr>\n",
       "    <tr>\n",
       "      <th>Ростов-на-Дону</th>\n",
       "      <td>109</td>\n",
       "      <td>89</td>\n",
       "      <td>198</td>\n",
       "      <td>0.449495</td>\n",
       "    </tr>\n",
       "    <tr>\n",
       "      <th>Екатеринбург</th>\n",
       "      <td>112</td>\n",
       "      <td>92</td>\n",
       "      <td>204</td>\n",
       "      <td>0.450980</td>\n",
       "    </tr>\n",
       "    <tr>\n",
       "      <th>Пятигорск</th>\n",
       "      <td>125</td>\n",
       "      <td>94</td>\n",
       "      <td>219</td>\n",
       "      <td>0.429224</td>\n",
       "    </tr>\n",
       "  </tbody>\n",
       "</table>\n",
       "</div>"
      ],
      "text/plain": [
       "subscription_type  free  ultra  total  ultra/total\n",
       "city                                              \n",
       "Москва               84     84    168     0.500000\n",
       "Тюмень               98     82    180     0.455556\n",
       "Омск                 92     91    183     0.497268\n",
       "Сочи                103     86    189     0.455026\n",
       "Краснодар           112     81    193     0.419689\n",
       "Ростов-на-Дону      109     89    198     0.449495\n",
       "Екатеринбург        112     92    204     0.450980\n",
       "Пятигорск           125     94    219     0.429224"
      ]
     },
     "execution_count": 18,
     "metadata": {},
     "output_type": "execute_result"
    }
   ],
   "source": [
    "temp['total'] = temp['free'] + temp['ultra']\n",
    "temp['ultra/total'] = temp['ultra'] / temp['total']\n",
    "temp.sort_values(by='total')\n",
    "temp"
   ]
  },
  {
   "cell_type": "code",
   "execution_count": 19,
   "id": "7b12072e",
   "metadata": {},
   "outputs": [
    {
     "data": {
      "image/png": "[encoded data removed]",
      "text/plain": [
       "<Figure size 432x288 with 2 Axes>"
      ]
     },
     "metadata": {
      "needs_background": "light"
     },
     "output_type": "display_data"
    }
   ],
   "source": [
    "fig, ax = plt.subplots()\n",
    "\n",
    "ax.plot(temp['total'], color='r', label='Все клиенты')\n",
    "ax.set_xlabel('Город')\n",
    "ax.set_ylabel('Все клиенты')\n",
    "plt.xticks(rotation=40)\n",
    "plt.legend()\n",
    "\n",
    "ax2 = ax.twinx()\n",
    "ax2.plot(temp['ultra/total'], color='b', label='Доля клиентов с подпиской')\n",
    "ax2.set_ylabel('Доля клиентов с подпиской')\n",
    "plt.legend()\n",
    "plt.show()"
   ]
  },
  {
   "cell_type": "code",
   "execution_count": 20,
   "id": "0157ae56",
   "metadata": {},
   "outputs": [
    {
     "data": {
      "text/plain": [
       "(0.4571547469074858, 0.4530034235916589)"
      ]
     },
     "execution_count": 20,
     "metadata": {},
     "output_type": "execute_result"
    }
   ],
   "source": [
    "temp['ultra/total'].mean(), temp['ultra/total'].median()"
   ]
  },
  {
   "cell_type": "markdown",
   "id": "1daacd86",
   "metadata": {},
   "source": [
    "Как можно видеть из диаграммы, наибольшее количество клиентов находится в Пятигорске и Екатеринбурге, а наименьшее в Москве и Тюмени. \n",
    "<br>Наименее охотно люди оформляют подписки в Краснодаре и Пятигорске, наиболее в Москве и Омске. \n",
    "<br>В среднем 46% пользователей оформляют подписки.\n",
    "<br>В целом наблюдается тенденция снижения приобретения подписок клиентами в городах с наибольшим количеством пользователей самокатов."
   ]
  },
  {
   "cell_type": "code",
   "execution_count": 21,
   "id": "55ebb672",
   "metadata": {},
   "outputs": [
    {
     "data": {
      "text/plain": [
       "0.837125748502994"
      ]
     },
     "execution_count": 21,
     "metadata": {},
     "output_type": "execute_result"
    }
   ],
   "source": [
    "data_1.query('subscription_type == \"ultra\"')['user_id'].count() / \\\n",
    "data_1.query('subscription_type == \"free\"')['user_id'].count()"
   ]
  },
  {
   "cell_type": "code",
   "execution_count": 22,
   "id": "fb2617f6",
   "metadata": {},
   "outputs": [
    {
     "data": {
      "image/png": "[encoded data removed]",
      "text/plain": [
       "<Figure size 432x288 with 1 Axes>"
      ]
     },
     "metadata": {},
     "output_type": "display_data"
    }
   ],
   "source": [
    "plt.pie(temp['total'], autopct='%.1f', labels=temp.index)\n",
    "plt.title('Распределение пользователей по городам, %');"
   ]
  },
  {
   "cell_type": "code",
   "execution_count": 23,
   "id": "edd95735",
   "metadata": {},
   "outputs": [
    {
     "data": {
      "text/plain": [
       "subscription_type\n",
       "free     835\n",
       "ultra    699\n",
       "Name: user_id, dtype: int64"
      ]
     },
     "execution_count": 23,
     "metadata": {},
     "output_type": "execute_result"
    }
   ],
   "source": [
    "temp = data_1.groupby('subscription_type')['user_id'].count()\n",
    "temp"
   ]
  },
  {
   "cell_type": "code",
   "execution_count": 24,
   "id": "2989a0f3",
   "metadata": {},
   "outputs": [
    {
     "data": {
      "image/png": "[encoded data removed]",
      "text/plain": [
       "<Figure size 432x288 with 1 Axes>"
      ]
     },
     "metadata": {},
     "output_type": "display_data"
    }
   ],
   "source": [
    "plt.pie(temp, autopct='%.1f', labels=temp.index)\n",
    "plt.title('Общее распределение пользователей с подпиской и без, %');"
   ]
  },
  {
   "cell_type": "markdown",
   "id": "1e60941d",
   "metadata": {},
   "source": [
    "Посмотрим, в каком возрасте люди чаще пользуются самокатами"
   ]
  },
  {
   "cell_type": "code",
   "execution_count": 25,
   "id": "35bc9dd5",
   "metadata": {},
   "outputs": [
    {
     "data": {
      "text/plain": [
       "(12, 43)"
      ]
     },
     "execution_count": 25,
     "metadata": {},
     "output_type": "execute_result"
    }
   ],
   "source": [
    "data_1['age'].min(), data_1['age'].max()"
   ]
  },
  {
   "cell_type": "code",
   "execution_count": 26,
   "id": "bd5f0a2f",
   "metadata": {},
   "outputs": [
    {
     "data": {
      "image/png": "[encoded data removed]",
      "text/plain": [
       "<Figure size 432x432 with 1 Axes>"
      ]
     },
     "metadata": {
      "needs_background": "light"
     },
     "output_type": "display_data"
    }
   ],
   "source": [
    "data_1['age'].plot(kind='hist', bins=30, grid=True, figsize=(6, 6), title='Распределение клиентов по возрастам')\n",
    "plt.xlabel('Возраст')\n",
    "plt.ylabel('Количество клиентов');"
   ]
  },
  {
   "cell_type": "markdown",
   "id": "25a8afac",
   "metadata": {},
   "source": [
    "Имется нормальное распределение клиентов по возрастам. Наибольшее количество клиентов в возрасте от 24 до 26 лет."
   ]
  },
  {
   "cell_type": "code",
   "execution_count": 27,
   "id": "3b3e2a06",
   "metadata": {},
   "outputs": [
    {
     "data": {
      "text/plain": [
       "count    1534.000000\n",
       "mean       24.903520\n",
       "std         4.572367\n",
       "min        12.000000\n",
       "25%        22.000000\n",
       "50%        25.000000\n",
       "75%        28.000000\n",
       "max        43.000000\n",
       "Name: age, dtype: float64"
      ]
     },
     "execution_count": 27,
     "metadata": {},
     "output_type": "execute_result"
    }
   ],
   "source": [
    "data_1['age'].describe()"
   ]
  },
  {
   "cell_type": "markdown",
   "id": "7cff0961",
   "metadata": {},
   "source": [
    "Для исследования дальности и продолжительности поездок рассмотрим датасет data_2."
   ]
  },
  {
   "cell_type": "code",
   "execution_count": 28,
   "id": "5d38ed44",
   "metadata": {},
   "outputs": [
    {
     "data": {
      "text/html": [
       "<div>\n",
       "<style scoped>\n",
       "    .dataframe tbody tr th:only-of-type {\n",
       "        vertical-align: middle;\n",
       "    }\n",
       "\n",
       "    .dataframe tbody tr th {\n",
       "        vertical-align: top;\n",
       "    }\n",
       "\n",
       "    .dataframe thead th {\n",
       "        text-align: right;\n",
       "    }\n",
       "</style>\n",
       "<table border=\"1\" class=\"dataframe\">\n",
       "  <thead>\n",
       "    <tr style=\"text-align: right;\">\n",
       "      <th></th>\n",
       "      <th>user_id</th>\n",
       "      <th>distance</th>\n",
       "      <th>duration</th>\n",
       "      <th>date</th>\n",
       "      <th>month</th>\n",
       "    </tr>\n",
       "  </thead>\n",
       "  <tbody>\n",
       "    <tr>\n",
       "      <th>0</th>\n",
       "      <td>1</td>\n",
       "      <td>4409.92</td>\n",
       "      <td>25.60</td>\n",
       "      <td>2021-01-01</td>\n",
       "      <td>1</td>\n",
       "    </tr>\n",
       "    <tr>\n",
       "      <th>1</th>\n",
       "      <td>1</td>\n",
       "      <td>2617.59</td>\n",
       "      <td>15.82</td>\n",
       "      <td>2021-01-18</td>\n",
       "      <td>1</td>\n",
       "    </tr>\n",
       "    <tr>\n",
       "      <th>2</th>\n",
       "      <td>1</td>\n",
       "      <td>754.16</td>\n",
       "      <td>6.23</td>\n",
       "      <td>2021-04-20</td>\n",
       "      <td>4</td>\n",
       "    </tr>\n",
       "    <tr>\n",
       "      <th>3</th>\n",
       "      <td>1</td>\n",
       "      <td>2694.78</td>\n",
       "      <td>18.51</td>\n",
       "      <td>2021-08-11</td>\n",
       "      <td>8</td>\n",
       "    </tr>\n",
       "    <tr>\n",
       "      <th>4</th>\n",
       "      <td>1</td>\n",
       "      <td>4028.69</td>\n",
       "      <td>26.27</td>\n",
       "      <td>2021-08-28</td>\n",
       "      <td>8</td>\n",
       "    </tr>\n",
       "    <tr>\n",
       "      <th>...</th>\n",
       "      <td>...</td>\n",
       "      <td>...</td>\n",
       "      <td>...</td>\n",
       "      <td>...</td>\n",
       "      <td>...</td>\n",
       "    </tr>\n",
       "    <tr>\n",
       "      <th>18063</th>\n",
       "      <td>1534</td>\n",
       "      <td>3781.10</td>\n",
       "      <td>19.82</td>\n",
       "      <td>2021-11-04</td>\n",
       "      <td>11</td>\n",
       "    </tr>\n",
       "    <tr>\n",
       "      <th>18064</th>\n",
       "      <td>1534</td>\n",
       "      <td>2840.42</td>\n",
       "      <td>21.41</td>\n",
       "      <td>2021-11-16</td>\n",
       "      <td>11</td>\n",
       "    </tr>\n",
       "    <tr>\n",
       "      <th>18065</th>\n",
       "      <td>1534</td>\n",
       "      <td>3826.19</td>\n",
       "      <td>18.44</td>\n",
       "      <td>2021-11-18</td>\n",
       "      <td>11</td>\n",
       "    </tr>\n",
       "    <tr>\n",
       "      <th>18066</th>\n",
       "      <td>1534</td>\n",
       "      <td>2902.31</td>\n",
       "      <td>16.67</td>\n",
       "      <td>2021-11-27</td>\n",
       "      <td>11</td>\n",
       "    </tr>\n",
       "    <tr>\n",
       "      <th>18067</th>\n",
       "      <td>1534</td>\n",
       "      <td>2371.71</td>\n",
       "      <td>15.89</td>\n",
       "      <td>2021-12-29</td>\n",
       "      <td>12</td>\n",
       "    </tr>\n",
       "  </tbody>\n",
       "</table>\n",
       "<p>18068 rows × 5 columns</p>\n",
       "</div>"
      ],
      "text/plain": [
       "       user_id  distance  duration       date  month\n",
       "0            1   4409.92     25.60 2021-01-01      1\n",
       "1            1   2617.59     15.82 2021-01-18      1\n",
       "2            1    754.16      6.23 2021-04-20      4\n",
       "3            1   2694.78     18.51 2021-08-11      8\n",
       "4            1   4028.69     26.27 2021-08-28      8\n",
       "...        ...       ...       ...        ...    ...\n",
       "18063     1534   3781.10     19.82 2021-11-04     11\n",
       "18064     1534   2840.42     21.41 2021-11-16     11\n",
       "18065     1534   3826.19     18.44 2021-11-18     11\n",
       "18066     1534   2902.31     16.67 2021-11-27     11\n",
       "18067     1534   2371.71     15.89 2021-12-29     12\n",
       "\n",
       "[18068 rows x 5 columns]"
      ]
     },
     "execution_count": 28,
     "metadata": {},
     "output_type": "execute_result"
    }
   ],
   "source": [
    "data_2"
   ]
  },
  {
   "cell_type": "code",
   "execution_count": 29,
   "id": "9839da5a",
   "metadata": {},
   "outputs": [
    {
     "data": {
      "image/png": "[encoded data removed]",
      "text/plain": [
       "<Figure size 432x432 with 1 Axes>"
      ]
     },
     "metadata": {
      "needs_background": "light"
     },
     "output_type": "display_data"
    }
   ],
   "source": [
    "data_2['distance'].hist(bins=30, figsize=(6, 6))\n",
    "plt.title('Распределение поездок по расстоянию')\n",
    "plt.xlabel('Расстояние')\n",
    "plt.ylabel('Количество поездок');"
   ]
  },
  {
   "cell_type": "code",
   "execution_count": 30,
   "id": "b7415632",
   "metadata": {},
   "outputs": [
    {
     "data": {
      "image/png": "[encoded data removed]",
      "text/plain": [
       "<Figure size 432x432 with 1 Axes>"
      ]
     },
     "metadata": {
      "needs_background": "light"
     },
     "output_type": "display_data"
    }
   ],
   "source": [
    "data_2['duration'].hist(bins=30, figsize=(6, 6))\n",
    "plt.title('Распределение поездок по продолжительности')\n",
    "plt.xlabel('Время поездки')\n",
    "plt.ylabel('Количество поездок');"
   ]
  },
  {
   "cell_type": "markdown",
   "id": "73b6415a",
   "metadata": {},
   "source": [
    "<br>**Вывод**\n",
    "<br>Наибольшее количество клиентов находится в Пятигорске и Екатеринбурге, а наименьшее в Москве и Тюмени. Наименее охотно люди оформляют подписки в Краснодаре и Пятигорске, наиболее в Москве и Омске.\n",
    "<br>В среднем 46% пользователей оформляют подписки. В целом наблюдается тенденция снижения приобретения подписок клиентами в городах с наибольшим количеством пользователей самокатов.\n",
    "<br>Имется нормальное распределение клиентов по возрастам. Наибольшее количество клиентов в возрасте от 24 до 26 лет.\n",
    "<br>Распределение поездок по расстоянию близко к нормальному с наибольшим числом поездок от 2800 м. до 3400 м., но имеется малое количество поездок на расстояния от 1000 до 1800 м.Распределение поездок по затраченному времени представляет собой нормальное распределение с наибольшим временем от 15 до 21 минуты."
   ]
  },
  {
   "cell_type": "markdown",
   "id": "4ef51331",
   "metadata": {},
   "source": [
    "## Объединение данных"
   ]
  },
  {
   "cell_type": "markdown",
   "id": "9f7a7dd5",
   "metadata": {},
   "source": [
    "Объеденим датасет с информацией о клиентах (data), датасет с информацией о поездках (data_2) и датасет с информацией о подписках (data_3). data_2 содержит больше строк, чем data и data_3, поскольку 1 клиент мог совершить несколько поездок, поэтому к data_2 присоединим data и data_3, чтобы сохранить максимальное количество данных."
   ]
  },
  {
   "cell_type": "code",
   "execution_count": 31,
   "id": "4263e826",
   "metadata": {},
   "outputs": [
    {
     "data": {
      "text/html": [
       "<div>\n",
       "<style scoped>\n",
       "    .dataframe tbody tr th:only-of-type {\n",
       "        vertical-align: middle;\n",
       "    }\n",
       "\n",
       "    .dataframe tbody tr th {\n",
       "        vertical-align: top;\n",
       "    }\n",
       "\n",
       "    .dataframe thead th {\n",
       "        text-align: right;\n",
       "    }\n",
       "</style>\n",
       "<table border=\"1\" class=\"dataframe\">\n",
       "  <thead>\n",
       "    <tr style=\"text-align: right;\">\n",
       "      <th></th>\n",
       "      <th>user_id</th>\n",
       "      <th>distance</th>\n",
       "      <th>duration</th>\n",
       "      <th>date</th>\n",
       "      <th>month</th>\n",
       "      <th>name</th>\n",
       "      <th>age</th>\n",
       "      <th>city</th>\n",
       "      <th>subscription_type</th>\n",
       "      <th>minute_price</th>\n",
       "      <th>start_ride_price</th>\n",
       "      <th>subscription_fee</th>\n",
       "    </tr>\n",
       "  </thead>\n",
       "  <tbody>\n",
       "    <tr>\n",
       "      <th>0</th>\n",
       "      <td>1</td>\n",
       "      <td>4409.92</td>\n",
       "      <td>25.60</td>\n",
       "      <td>2021-01-01</td>\n",
       "      <td>1</td>\n",
       "      <td>Кира</td>\n",
       "      <td>22</td>\n",
       "      <td>Тюмень</td>\n",
       "      <td>ultra</td>\n",
       "      <td>6</td>\n",
       "      <td>0</td>\n",
       "      <td>199</td>\n",
       "    </tr>\n",
       "    <tr>\n",
       "      <th>1</th>\n",
       "      <td>1</td>\n",
       "      <td>2617.59</td>\n",
       "      <td>15.82</td>\n",
       "      <td>2021-01-18</td>\n",
       "      <td>1</td>\n",
       "      <td>Кира</td>\n",
       "      <td>22</td>\n",
       "      <td>Тюмень</td>\n",
       "      <td>ultra</td>\n",
       "      <td>6</td>\n",
       "      <td>0</td>\n",
       "      <td>199</td>\n",
       "    </tr>\n",
       "    <tr>\n",
       "      <th>2</th>\n",
       "      <td>1</td>\n",
       "      <td>754.16</td>\n",
       "      <td>6.23</td>\n",
       "      <td>2021-04-20</td>\n",
       "      <td>4</td>\n",
       "      <td>Кира</td>\n",
       "      <td>22</td>\n",
       "      <td>Тюмень</td>\n",
       "      <td>ultra</td>\n",
       "      <td>6</td>\n",
       "      <td>0</td>\n",
       "      <td>199</td>\n",
       "    </tr>\n",
       "    <tr>\n",
       "      <th>3</th>\n",
       "      <td>1</td>\n",
       "      <td>2694.78</td>\n",
       "      <td>18.51</td>\n",
       "      <td>2021-08-11</td>\n",
       "      <td>8</td>\n",
       "      <td>Кира</td>\n",
       "      <td>22</td>\n",
       "      <td>Тюмень</td>\n",
       "      <td>ultra</td>\n",
       "      <td>6</td>\n",
       "      <td>0</td>\n",
       "      <td>199</td>\n",
       "    </tr>\n",
       "    <tr>\n",
       "      <th>4</th>\n",
       "      <td>1</td>\n",
       "      <td>4028.69</td>\n",
       "      <td>26.27</td>\n",
       "      <td>2021-08-28</td>\n",
       "      <td>8</td>\n",
       "      <td>Кира</td>\n",
       "      <td>22</td>\n",
       "      <td>Тюмень</td>\n",
       "      <td>ultra</td>\n",
       "      <td>6</td>\n",
       "      <td>0</td>\n",
       "      <td>199</td>\n",
       "    </tr>\n",
       "    <tr>\n",
       "      <th>...</th>\n",
       "      <td>...</td>\n",
       "      <td>...</td>\n",
       "      <td>...</td>\n",
       "      <td>...</td>\n",
       "      <td>...</td>\n",
       "      <td>...</td>\n",
       "      <td>...</td>\n",
       "      <td>...</td>\n",
       "      <td>...</td>\n",
       "      <td>...</td>\n",
       "      <td>...</td>\n",
       "      <td>...</td>\n",
       "    </tr>\n",
       "    <tr>\n",
       "      <th>18063</th>\n",
       "      <td>1534</td>\n",
       "      <td>3781.10</td>\n",
       "      <td>19.82</td>\n",
       "      <td>2021-11-04</td>\n",
       "      <td>11</td>\n",
       "      <td>Альберт</td>\n",
       "      <td>25</td>\n",
       "      <td>Краснодар</td>\n",
       "      <td>free</td>\n",
       "      <td>8</td>\n",
       "      <td>50</td>\n",
       "      <td>0</td>\n",
       "    </tr>\n",
       "    <tr>\n",
       "      <th>18064</th>\n",
       "      <td>1534</td>\n",
       "      <td>2840.42</td>\n",
       "      <td>21.41</td>\n",
       "      <td>2021-11-16</td>\n",
       "      <td>11</td>\n",
       "      <td>Альберт</td>\n",
       "      <td>25</td>\n",
       "      <td>Краснодар</td>\n",
       "      <td>free</td>\n",
       "      <td>8</td>\n",
       "      <td>50</td>\n",
       "      <td>0</td>\n",
       "    </tr>\n",
       "    <tr>\n",
       "      <th>18065</th>\n",
       "      <td>1534</td>\n",
       "      <td>3826.19</td>\n",
       "      <td>18.44</td>\n",
       "      <td>2021-11-18</td>\n",
       "      <td>11</td>\n",
       "      <td>Альберт</td>\n",
       "      <td>25</td>\n",
       "      <td>Краснодар</td>\n",
       "      <td>free</td>\n",
       "      <td>8</td>\n",
       "      <td>50</td>\n",
       "      <td>0</td>\n",
       "    </tr>\n",
       "    <tr>\n",
       "      <th>18066</th>\n",
       "      <td>1534</td>\n",
       "      <td>2902.31</td>\n",
       "      <td>16.67</td>\n",
       "      <td>2021-11-27</td>\n",
       "      <td>11</td>\n",
       "      <td>Альберт</td>\n",
       "      <td>25</td>\n",
       "      <td>Краснодар</td>\n",
       "      <td>free</td>\n",
       "      <td>8</td>\n",
       "      <td>50</td>\n",
       "      <td>0</td>\n",
       "    </tr>\n",
       "    <tr>\n",
       "      <th>18067</th>\n",
       "      <td>1534</td>\n",
       "      <td>2371.71</td>\n",
       "      <td>15.89</td>\n",
       "      <td>2021-12-29</td>\n",
       "      <td>12</td>\n",
       "      <td>Альберт</td>\n",
       "      <td>25</td>\n",
       "      <td>Краснодар</td>\n",
       "      <td>free</td>\n",
       "      <td>8</td>\n",
       "      <td>50</td>\n",
       "      <td>0</td>\n",
       "    </tr>\n",
       "  </tbody>\n",
       "</table>\n",
       "<p>18068 rows × 12 columns</p>\n",
       "</div>"
      ],
      "text/plain": [
       "       user_id  distance  duration       date  month     name  age       city  \\\n",
       "0            1   4409.92     25.60 2021-01-01      1     Кира   22     Тюмень   \n",
       "1            1   2617.59     15.82 2021-01-18      1     Кира   22     Тюмень   \n",
       "2            1    754.16      6.23 2021-04-20      4     Кира   22     Тюмень   \n",
       "3            1   2694.78     18.51 2021-08-11      8     Кира   22     Тюмень   \n",
       "4            1   4028.69     26.27 2021-08-28      8     Кира   22     Тюмень   \n",
       "...        ...       ...       ...        ...    ...      ...  ...        ...   \n",
       "18063     1534   3781.10     19.82 2021-11-04     11  Альберт   25  Краснодар   \n",
       "18064     1534   2840.42     21.41 2021-11-16     11  Альберт   25  Краснодар   \n",
       "18065     1534   3826.19     18.44 2021-11-18     11  Альберт   25  Краснодар   \n",
       "18066     1534   2902.31     16.67 2021-11-27     11  Альберт   25  Краснодар   \n",
       "18067     1534   2371.71     15.89 2021-12-29     12  Альберт   25  Краснодар   \n",
       "\n",
       "      subscription_type  minute_price  start_ride_price  subscription_fee  \n",
       "0                 ultra             6                 0               199  \n",
       "1                 ultra             6                 0               199  \n",
       "2                 ultra             6                 0               199  \n",
       "3                 ultra             6                 0               199  \n",
       "4                 ultra             6                 0               199  \n",
       "...                 ...           ...               ...               ...  \n",
       "18063              free             8                50                 0  \n",
       "18064              free             8                50                 0  \n",
       "18065              free             8                50                 0  \n",
       "18066              free             8                50                 0  \n",
       "18067              free             8                50                 0  \n",
       "\n",
       "[18068 rows x 12 columns]"
      ]
     },
     "execution_count": 31,
     "metadata": {},
     "output_type": "execute_result"
    }
   ],
   "source": [
    "data = data_2.merge(data_1).merge(data_3)\n",
    "data"
   ]
  },
  {
   "cell_type": "markdown",
   "id": "6bc7fa6c",
   "metadata": {},
   "source": [
    "Создадим 2 дополнительных датасета с пользователями, оформившими подписку (data_ultra) и без нее (data_free)."
   ]
  },
  {
   "cell_type": "code",
   "execution_count": 32,
   "id": "e3d6f28a",
   "metadata": {},
   "outputs": [],
   "source": [
    "data_ultra = data.query('subscription_type == \"ultra\"')\n",
    "data_free = data.query('subscription_type == \"free\"')"
   ]
  },
  {
   "cell_type": "code",
   "execution_count": 33,
   "id": "3eca0fac",
   "metadata": {},
   "outputs": [
    {
     "data": {
      "text/plain": [
       "18068"
      ]
     },
     "execution_count": 33,
     "metadata": {},
     "output_type": "execute_result"
    }
   ],
   "source": [
    "data_ultra.shape[0] + data_free.shape[0]  # Проверим, все ли данные вошли в 2 новых датасета"
   ]
  },
  {
   "cell_type": "markdown",
   "id": "4e73464f",
   "metadata": {},
   "source": [
    "Посмотрим, как распределяется расстояние и время поездок между клиентами с подпиской и без нее."
   ]
  },
  {
   "cell_type": "code",
   "execution_count": 34,
   "id": "fb167c8b",
   "metadata": {
    "scrolled": false
   },
   "outputs": [
    {
     "data": {
      "image/png": "[encoded data removed]",
      "text/plain": [
       "<Figure size 432x432 with 1 Axes>"
      ]
     },
     "metadata": {
      "needs_background": "light"
     },
     "output_type": "display_data"
    }
   ],
   "source": [
    "data_free['distance'].hist(bins=30, figsize=(6, 6), label='Без подписки')\n",
    "data_ultra['distance'].hist(bins=30, figsize=(6, 6), label='С подпиской', alpha=0.6)\n",
    "\n",
    "plt.title('Распределение поездок по расстоянию')\n",
    "plt.xlabel('Расстояние, м')\n",
    "plt.ylabel('Количество поездок')\n",
    "plt.legend();"
   ]
  },
  {
   "cell_type": "code",
   "execution_count": 35,
   "id": "5d2954b0",
   "metadata": {},
   "outputs": [
    {
     "data": {
      "image/png": "[encoded data removed]",
      "text/plain": [
       "<Figure size 432x432 with 1 Axes>"
      ]
     },
     "metadata": {
      "needs_background": "light"
     },
     "output_type": "display_data"
    }
   ],
   "source": [
    "data_free['duration'].hist(bins=30, figsize=(6, 6), label='Без подписки')\n",
    "data_ultra['duration'].hist(bins=30, figsize=(6, 6), label='С подпиской', alpha=0.6)\n",
    "\n",
    "plt.title('Распределение поездок по продолжительности')\n",
    "plt.xlabel('Время, мин')\n",
    "plt.ylabel('Количество поездок')\n",
    "plt.legend();"
   ]
  },
  {
   "cell_type": "markdown",
   "id": "9e8b713f",
   "metadata": {},
   "source": [
    "<br>**Вывод**\n",
    "<br>Было выполнено объединение датасета с информацией о клиентах, датасета с информацией о поездках и датасета с информацией о подписках. Датасет с информацией о поездках содержит больше строк, чем два других, поскольку 1 клиент мог совершить несколько поездок, поэтому к нему были присоеденены остальные датасеты, чтобы сохранить максимальное количество данных.\n",
    "<br>Также было создано 2 дополнительных датасета с пользователями, оформившими подписку и без нее.\n",
    "<br>Распределения расстояния и времени поездок для клиентов с подпиской и без нее вцелом аналогичны, за тем исключением, что количество поездок, совершаемых людьми без подписки больше. В тоже время клиенты с подпиской чаще тратят на поездки более 35 минут, чем клиенты без подписки. Видно, что при поездках более 20 минут клиенты без подписки по количеству поездок все ближе к клиентам с подпиской."
   ]
  },
  {
   "cell_type": "markdown",
   "id": "402d620f",
   "metadata": {},
   "source": [
    "## Подсчёт выручки"
   ]
  },
  {
   "cell_type": "markdown",
   "id": "003dc06b",
   "metadata": {},
   "source": [
    "Создадим датафрейм с суммарным расстоянием, количеством поездок и суммарным временем для каждого пользователя за каждый месяц. Сразу устраним множественное наименование колонок."
   ]
  },
  {
   "cell_type": "code",
   "execution_count": 36,
   "id": "53049e0a",
   "metadata": {},
   "outputs": [
    {
     "data": {
      "text/html": [
       "<div>\n",
       "<style scoped>\n",
       "    .dataframe tbody tr th:only-of-type {\n",
       "        vertical-align: middle;\n",
       "    }\n",
       "\n",
       "    .dataframe tbody tr th {\n",
       "        vertical-align: top;\n",
       "    }\n",
       "\n",
       "    .dataframe thead th {\n",
       "        text-align: right;\n",
       "    }\n",
       "</style>\n",
       "<table border=\"1\" class=\"dataframe\">\n",
       "  <thead>\n",
       "    <tr style=\"text-align: right;\">\n",
       "      <th></th>\n",
       "      <th>user_id</th>\n",
       "      <th>month</th>\n",
       "      <th>dist_cnt</th>\n",
       "      <th>dist_sum</th>\n",
       "      <th>dur_sum</th>\n",
       "      <th>subscription_type</th>\n",
       "    </tr>\n",
       "  </thead>\n",
       "  <tbody>\n",
       "    <tr>\n",
       "      <th>0</th>\n",
       "      <td>1</td>\n",
       "      <td>1</td>\n",
       "      <td>2</td>\n",
       "      <td>7027.51</td>\n",
       "      <td>42</td>\n",
       "      <td>ultra</td>\n",
       "    </tr>\n",
       "    <tr>\n",
       "      <th>1</th>\n",
       "      <td>1</td>\n",
       "      <td>4</td>\n",
       "      <td>1</td>\n",
       "      <td>754.16</td>\n",
       "      <td>7</td>\n",
       "      <td>ultra</td>\n",
       "    </tr>\n",
       "    <tr>\n",
       "      <th>2</th>\n",
       "      <td>1</td>\n",
       "      <td>8</td>\n",
       "      <td>2</td>\n",
       "      <td>6723.47</td>\n",
       "      <td>45</td>\n",
       "      <td>ultra</td>\n",
       "    </tr>\n",
       "    <tr>\n",
       "      <th>3</th>\n",
       "      <td>1</td>\n",
       "      <td>10</td>\n",
       "      <td>2</td>\n",
       "      <td>5809.91</td>\n",
       "      <td>32</td>\n",
       "      <td>ultra</td>\n",
       "    </tr>\n",
       "    <tr>\n",
       "      <th>4</th>\n",
       "      <td>1</td>\n",
       "      <td>11</td>\n",
       "      <td>3</td>\n",
       "      <td>7003.50</td>\n",
       "      <td>54</td>\n",
       "      <td>ultra</td>\n",
       "    </tr>\n",
       "    <tr>\n",
       "      <th>...</th>\n",
       "      <td>...</td>\n",
       "      <td>...</td>\n",
       "      <td>...</td>\n",
       "      <td>...</td>\n",
       "      <td>...</td>\n",
       "      <td>...</td>\n",
       "    </tr>\n",
       "    <tr>\n",
       "      <th>11326</th>\n",
       "      <td>1534</td>\n",
       "      <td>6</td>\n",
       "      <td>2</td>\n",
       "      <td>3409.47</td>\n",
       "      <td>25</td>\n",
       "      <td>free</td>\n",
       "    </tr>\n",
       "    <tr>\n",
       "      <th>11327</th>\n",
       "      <td>1534</td>\n",
       "      <td>8</td>\n",
       "      <td>2</td>\n",
       "      <td>7622.45</td>\n",
       "      <td>48</td>\n",
       "      <td>free</td>\n",
       "    </tr>\n",
       "    <tr>\n",
       "      <th>11328</th>\n",
       "      <td>1534</td>\n",
       "      <td>9</td>\n",
       "      <td>1</td>\n",
       "      <td>4928.17</td>\n",
       "      <td>23</td>\n",
       "      <td>free</td>\n",
       "    </tr>\n",
       "    <tr>\n",
       "      <th>11329</th>\n",
       "      <td>1534</td>\n",
       "      <td>11</td>\n",
       "      <td>4</td>\n",
       "      <td>13350.02</td>\n",
       "      <td>77</td>\n",
       "      <td>free</td>\n",
       "    </tr>\n",
       "    <tr>\n",
       "      <th>11330</th>\n",
       "      <td>1534</td>\n",
       "      <td>12</td>\n",
       "      <td>1</td>\n",
       "      <td>2371.71</td>\n",
       "      <td>16</td>\n",
       "      <td>free</td>\n",
       "    </tr>\n",
       "  </tbody>\n",
       "</table>\n",
       "<p>11331 rows × 6 columns</p>\n",
       "</div>"
      ],
      "text/plain": [
       "       user_id  month  dist_cnt  dist_sum  dur_sum subscription_type\n",
       "0            1      1         2   7027.51       42             ultra\n",
       "1            1      4         1    754.16        7             ultra\n",
       "2            1      8         2   6723.47       45             ultra\n",
       "3            1     10         2   5809.91       32             ultra\n",
       "4            1     11         3   7003.50       54             ultra\n",
       "...        ...    ...       ...       ...      ...               ...\n",
       "11326     1534      6         2   3409.47       25              free\n",
       "11327     1534      8         2   7622.45       48              free\n",
       "11328     1534      9         1   4928.17       23              free\n",
       "11329     1534     11         4  13350.02       77              free\n",
       "11330     1534     12         1   2371.71       16              free\n",
       "\n",
       "[11331 rows x 6 columns]"
      ]
     },
     "execution_count": 36,
     "metadata": {},
     "output_type": "execute_result"
    }
   ],
   "source": [
    "every_client = data.groupby(['user_id', 'month']).agg(\n",
    "    dist_cnt=('distance', 'count'), \n",
    "    dist_sum=('distance', 'sum'), \n",
    "    dur_sum=('duration', 'sum')).reset_index()\n",
    "\n",
    "every_client = every_client.merge(data_1[['user_id', 'subscription_type']], on='user_id', how='outer')  # Добавим подписку\n",
    "every_client['dur_sum'] = np.ceil(every_client['dur_sum']).astype(int)  # Округлим продолжительность поездки \n",
    "                                                                        # до большего целого, переведем в int\n",
    "\n",
    "every_client"
   ]
  },
  {
   "cell_type": "markdown",
   "id": "13b37657",
   "metadata": {},
   "source": [
    "В этот же датафрейм добавим столбец с помесячной выручкой, которую принёс каждый пользователь."
   ]
  },
  {
   "cell_type": "code",
   "execution_count": 37,
   "id": "aa789ba7",
   "metadata": {},
   "outputs": [
    {
     "data": {
      "text/html": [
       "<div>\n",
       "<style scoped>\n",
       "    .dataframe tbody tr th:only-of-type {\n",
       "        vertical-align: middle;\n",
       "    }\n",
       "\n",
       "    .dataframe tbody tr th {\n",
       "        vertical-align: top;\n",
       "    }\n",
       "\n",
       "    .dataframe thead th {\n",
       "        text-align: right;\n",
       "    }\n",
       "</style>\n",
       "<table border=\"1\" class=\"dataframe\">\n",
       "  <thead>\n",
       "    <tr style=\"text-align: right;\">\n",
       "      <th></th>\n",
       "      <th>user_id</th>\n",
       "      <th>month</th>\n",
       "      <th>dist_cnt</th>\n",
       "      <th>dist_sum</th>\n",
       "      <th>dur_sum</th>\n",
       "      <th>subscription_type</th>\n",
       "      <th>paid</th>\n",
       "    </tr>\n",
       "  </thead>\n",
       "  <tbody>\n",
       "    <tr>\n",
       "      <th>0</th>\n",
       "      <td>1</td>\n",
       "      <td>1</td>\n",
       "      <td>2</td>\n",
       "      <td>7027.51</td>\n",
       "      <td>42</td>\n",
       "      <td>ultra</td>\n",
       "      <td>451</td>\n",
       "    </tr>\n",
       "    <tr>\n",
       "      <th>1</th>\n",
       "      <td>1</td>\n",
       "      <td>4</td>\n",
       "      <td>1</td>\n",
       "      <td>754.16</td>\n",
       "      <td>7</td>\n",
       "      <td>ultra</td>\n",
       "      <td>241</td>\n",
       "    </tr>\n",
       "    <tr>\n",
       "      <th>2</th>\n",
       "      <td>1</td>\n",
       "      <td>8</td>\n",
       "      <td>2</td>\n",
       "      <td>6723.47</td>\n",
       "      <td>45</td>\n",
       "      <td>ultra</td>\n",
       "      <td>469</td>\n",
       "    </tr>\n",
       "    <tr>\n",
       "      <th>3</th>\n",
       "      <td>1</td>\n",
       "      <td>10</td>\n",
       "      <td>2</td>\n",
       "      <td>5809.91</td>\n",
       "      <td>32</td>\n",
       "      <td>ultra</td>\n",
       "      <td>391</td>\n",
       "    </tr>\n",
       "    <tr>\n",
       "      <th>4</th>\n",
       "      <td>1</td>\n",
       "      <td>11</td>\n",
       "      <td>3</td>\n",
       "      <td>7003.50</td>\n",
       "      <td>54</td>\n",
       "      <td>ultra</td>\n",
       "      <td>523</td>\n",
       "    </tr>\n",
       "    <tr>\n",
       "      <th>...</th>\n",
       "      <td>...</td>\n",
       "      <td>...</td>\n",
       "      <td>...</td>\n",
       "      <td>...</td>\n",
       "      <td>...</td>\n",
       "      <td>...</td>\n",
       "      <td>...</td>\n",
       "    </tr>\n",
       "    <tr>\n",
       "      <th>11326</th>\n",
       "      <td>1534</td>\n",
       "      <td>6</td>\n",
       "      <td>2</td>\n",
       "      <td>3409.47</td>\n",
       "      <td>25</td>\n",
       "      <td>free</td>\n",
       "      <td>300</td>\n",
       "    </tr>\n",
       "    <tr>\n",
       "      <th>11327</th>\n",
       "      <td>1534</td>\n",
       "      <td>8</td>\n",
       "      <td>2</td>\n",
       "      <td>7622.45</td>\n",
       "      <td>48</td>\n",
       "      <td>free</td>\n",
       "      <td>484</td>\n",
       "    </tr>\n",
       "    <tr>\n",
       "      <th>11328</th>\n",
       "      <td>1534</td>\n",
       "      <td>9</td>\n",
       "      <td>1</td>\n",
       "      <td>4928.17</td>\n",
       "      <td>23</td>\n",
       "      <td>free</td>\n",
       "      <td>234</td>\n",
       "    </tr>\n",
       "    <tr>\n",
       "      <th>11329</th>\n",
       "      <td>1534</td>\n",
       "      <td>11</td>\n",
       "      <td>4</td>\n",
       "      <td>13350.02</td>\n",
       "      <td>77</td>\n",
       "      <td>free</td>\n",
       "      <td>816</td>\n",
       "    </tr>\n",
       "    <tr>\n",
       "      <th>11330</th>\n",
       "      <td>1534</td>\n",
       "      <td>12</td>\n",
       "      <td>1</td>\n",
       "      <td>2371.71</td>\n",
       "      <td>16</td>\n",
       "      <td>free</td>\n",
       "      <td>178</td>\n",
       "    </tr>\n",
       "  </tbody>\n",
       "</table>\n",
       "<p>11331 rows × 7 columns</p>\n",
       "</div>"
      ],
      "text/plain": [
       "       user_id  month  dist_cnt  dist_sum  dur_sum subscription_type paid\n",
       "0            1      1         2   7027.51       42             ultra  451\n",
       "1            1      4         1    754.16        7             ultra  241\n",
       "2            1      8         2   6723.47       45             ultra  469\n",
       "3            1     10         2   5809.91       32             ultra  391\n",
       "4            1     11         3   7003.50       54             ultra  523\n",
       "...        ...    ...       ...       ...      ...               ...  ...\n",
       "11326     1534      6         2   3409.47       25              free  300\n",
       "11327     1534      8         2   7622.45       48              free  484\n",
       "11328     1534      9         1   4928.17       23              free  234\n",
       "11329     1534     11         4  13350.02       77              free  816\n",
       "11330     1534     12         1   2371.71       16              free  178\n",
       "\n",
       "[11331 rows x 7 columns]"
      ]
     },
     "execution_count": 37,
     "metadata": {},
     "output_type": "execute_result"
    }
   ],
   "source": [
    "every_client['paid'] = ''\n",
    "every_client.loc[every_client['subscription_type'] == 'ultra', 'paid'] = 6 * every_client['dur_sum'] + 199\n",
    "every_client.loc[every_client['subscription_type'] == 'free', 'paid'] = 50 * every_client['dist_cnt'] + 8*every_client['dur_sum']\n",
    "every_client"
   ]
  },
  {
   "cell_type": "code",
   "execution_count": 38,
   "id": "8d18693e",
   "metadata": {},
   "outputs": [
    {
     "data": {
      "text/html": [
       "<div>\n",
       "<style scoped>\n",
       "    .dataframe tbody tr th:only-of-type {\n",
       "        vertical-align: middle;\n",
       "    }\n",
       "\n",
       "    .dataframe tbody tr th {\n",
       "        vertical-align: top;\n",
       "    }\n",
       "\n",
       "    .dataframe thead th {\n",
       "        text-align: right;\n",
       "    }\n",
       "</style>\n",
       "<table border=\"1\" class=\"dataframe\">\n",
       "  <thead>\n",
       "    <tr style=\"text-align: right;\">\n",
       "      <th></th>\n",
       "      <th>user_id</th>\n",
       "      <th>month</th>\n",
       "      <th>dist_cnt</th>\n",
       "      <th>dist_sum</th>\n",
       "      <th>dur_sum</th>\n",
       "      <th>subscription_type</th>\n",
       "      <th>paid</th>\n",
       "    </tr>\n",
       "  </thead>\n",
       "  <tbody>\n",
       "  </tbody>\n",
       "</table>\n",
       "</div>"
      ],
      "text/plain": [
       "Empty DataFrame\n",
       "Columns: [user_id, month, dist_cnt, dist_sum, dur_sum, subscription_type, paid]\n",
       "Index: []"
      ]
     },
     "execution_count": 38,
     "metadata": {},
     "output_type": "execute_result"
    }
   ],
   "source": [
    "every_client.query('paid == \"\"') # Проверим, остались ли незаполненные строки"
   ]
  },
  {
   "cell_type": "code",
   "execution_count": 39,
   "id": "06df733e",
   "metadata": {},
   "outputs": [
    {
     "data": {
      "text/plain": [
       "3853193"
      ]
     },
     "execution_count": 39,
     "metadata": {},
     "output_type": "execute_result"
    }
   ],
   "source": [
    "every_client['paid'].sum()"
   ]
  },
  {
   "cell_type": "markdown",
   "id": "2ffad67b",
   "metadata": {},
   "source": [
    "<br>**Вывод**\n",
    "<br>Для подсчета выручки был создан новый датафрейм с суммарным расстоянием, количеством поездок и суммарным временем для каждого пользователя за каждый месяц. Сюда же был добавлен столбец с помесячной выручкой, которую принёс каждый пользователь. Общая выручка компании составила 3853193 руб."
   ]
  },
  {
   "cell_type": "markdown",
   "id": "41545ac0",
   "metadata": {},
   "source": [
    "## Проверка гипотез"
   ]
  },
  {
   "cell_type": "markdown",
   "id": "17ca05f7",
   "metadata": {},
   "source": [
    "Проверим несколько гипотез:\n",
    "1. Тратят ли пользователи с подпиской больше времени на поездки? \n",
    "2. Среднее расстояние, которое проезжают пользователи с подпиской за одну поездку, не превышает 3130 метров\n",
    "3. Будет ли помесячная выручка от пользователей с подпиской по месяцам выше, чем выручка от пользователей без подписки?\n",
    "4. Какой тест для проверки гипотезы о снижении обращений граждан в техподдержку после обновления приложения?"
   ]
  },
  {
   "cell_type": "markdown",
   "id": "53c4bc10",
   "metadata": {},
   "source": [
    "### Тратят ли пользователи с подпиской больше времени на поездки"
   ]
  },
  {
   "cell_type": "markdown",
   "id": "f2f199ae",
   "metadata": {},
   "source": [
    "За нулевую гипотезу примем то, что пользователи с подпиской тратят столько же времени на поездки на самокате, сколько и пользователи без подписки. Альтернативная гипотеза будет левосторонней и будет гласить, что время, затрачиваемое пользователями без подписки меньше, чем время, затрачиваемое пользователями с подпиской.\n",
    "<br>Уровень значимости примем равным 5%.\n",
    "<br>Поскольку у нас имеются две независимые выборки, то в качестве t-теста примем двухвыборочный тест для независимых выборок.  "
   ]
  },
  {
   "cell_type": "code",
   "execution_count": 40,
   "id": "3691fa70",
   "metadata": {},
   "outputs": [
    {
     "data": {
      "text/html": [
       "<div>\n",
       "<style scoped>\n",
       "    .dataframe tbody tr th:only-of-type {\n",
       "        vertical-align: middle;\n",
       "    }\n",
       "\n",
       "    .dataframe tbody tr th {\n",
       "        vertical-align: top;\n",
       "    }\n",
       "\n",
       "    .dataframe thead th {\n",
       "        text-align: right;\n",
       "    }\n",
       "</style>\n",
       "<table border=\"1\" class=\"dataframe\">\n",
       "  <thead>\n",
       "    <tr style=\"text-align: right;\">\n",
       "      <th></th>\n",
       "      <th>user_id</th>\n",
       "      <th>distance</th>\n",
       "      <th>duration</th>\n",
       "      <th>date</th>\n",
       "      <th>month</th>\n",
       "      <th>name</th>\n",
       "      <th>age</th>\n",
       "      <th>city</th>\n",
       "      <th>subscription_type</th>\n",
       "      <th>minute_price</th>\n",
       "      <th>start_ride_price</th>\n",
       "      <th>subscription_fee</th>\n",
       "    </tr>\n",
       "  </thead>\n",
       "  <tbody>\n",
       "    <tr>\n",
       "      <th>0</th>\n",
       "      <td>1</td>\n",
       "      <td>4409.92</td>\n",
       "      <td>25.60</td>\n",
       "      <td>2021-01-01</td>\n",
       "      <td>1</td>\n",
       "      <td>Кира</td>\n",
       "      <td>22</td>\n",
       "      <td>Тюмень</td>\n",
       "      <td>ultra</td>\n",
       "      <td>6</td>\n",
       "      <td>0</td>\n",
       "      <td>199</td>\n",
       "    </tr>\n",
       "    <tr>\n",
       "      <th>1</th>\n",
       "      <td>1</td>\n",
       "      <td>2617.59</td>\n",
       "      <td>15.82</td>\n",
       "      <td>2021-01-18</td>\n",
       "      <td>1</td>\n",
       "      <td>Кира</td>\n",
       "      <td>22</td>\n",
       "      <td>Тюмень</td>\n",
       "      <td>ultra</td>\n",
       "      <td>6</td>\n",
       "      <td>0</td>\n",
       "      <td>199</td>\n",
       "    </tr>\n",
       "    <tr>\n",
       "      <th>2</th>\n",
       "      <td>1</td>\n",
       "      <td>754.16</td>\n",
       "      <td>6.23</td>\n",
       "      <td>2021-04-20</td>\n",
       "      <td>4</td>\n",
       "      <td>Кира</td>\n",
       "      <td>22</td>\n",
       "      <td>Тюмень</td>\n",
       "      <td>ultra</td>\n",
       "      <td>6</td>\n",
       "      <td>0</td>\n",
       "      <td>199</td>\n",
       "    </tr>\n",
       "    <tr>\n",
       "      <th>3</th>\n",
       "      <td>1</td>\n",
       "      <td>2694.78</td>\n",
       "      <td>18.51</td>\n",
       "      <td>2021-08-11</td>\n",
       "      <td>8</td>\n",
       "      <td>Кира</td>\n",
       "      <td>22</td>\n",
       "      <td>Тюмень</td>\n",
       "      <td>ultra</td>\n",
       "      <td>6</td>\n",
       "      <td>0</td>\n",
       "      <td>199</td>\n",
       "    </tr>\n",
       "    <tr>\n",
       "      <th>4</th>\n",
       "      <td>1</td>\n",
       "      <td>4028.69</td>\n",
       "      <td>26.27</td>\n",
       "      <td>2021-08-28</td>\n",
       "      <td>8</td>\n",
       "      <td>Кира</td>\n",
       "      <td>22</td>\n",
       "      <td>Тюмень</td>\n",
       "      <td>ultra</td>\n",
       "      <td>6</td>\n",
       "      <td>0</td>\n",
       "      <td>199</td>\n",
       "    </tr>\n",
       "  </tbody>\n",
       "</table>\n",
       "</div>"
      ],
      "text/plain": [
       "   user_id  distance  duration       date  month  name  age    city  \\\n",
       "0        1   4409.92     25.60 2021-01-01      1  Кира   22  Тюмень   \n",
       "1        1   2617.59     15.82 2021-01-18      1  Кира   22  Тюмень   \n",
       "2        1    754.16      6.23 2021-04-20      4  Кира   22  Тюмень   \n",
       "3        1   2694.78     18.51 2021-08-11      8  Кира   22  Тюмень   \n",
       "4        1   4028.69     26.27 2021-08-28      8  Кира   22  Тюмень   \n",
       "\n",
       "  subscription_type  minute_price  start_ride_price  subscription_fee  \n",
       "0             ultra             6                 0               199  \n",
       "1             ultra             6                 0               199  \n",
       "2             ultra             6                 0               199  \n",
       "3             ultra             6                 0               199  \n",
       "4             ultra             6                 0               199  "
      ]
     },
     "execution_count": 40,
     "metadata": {},
     "output_type": "execute_result"
    }
   ],
   "source": [
    "data.head()"
   ]
  },
  {
   "cell_type": "code",
   "execution_count": 41,
   "id": "9afab694",
   "metadata": {},
   "outputs": [],
   "source": [
    "sample_1 = data_ultra['duration']  # Создадим выборки из значений продолжительности поездки\n",
    "sample_2 = data_free['duration']\n",
    "alpha = 0.05                       # Выберем уровень статичстической значимости (5%)"
   ]
  },
  {
   "cell_type": "code",
   "execution_count": 42,
   "id": "189712ab",
   "metadata": {},
   "outputs": [
    {
     "data": {
      "text/plain": [
       "(18.542016923076922, 17.390899896265562)"
      ]
     },
     "execution_count": 42,
     "metadata": {},
     "output_type": "execute_result"
    }
   ],
   "source": [
    "sample_1.mean(), sample_2.mean()   # среднее первой и второй выборки"
   ]
  },
  {
   "cell_type": "code",
   "execution_count": 43,
   "id": "5b9aa20d",
   "metadata": {},
   "outputs": [
    {
     "data": {
      "text/plain": [
       "1.274138957151199e-34"
      ]
     },
     "execution_count": 43,
     "metadata": {},
     "output_type": "execute_result"
    }
   ],
   "source": [
    "results = st.ttest_ind(sample_1, sample_2, alternative='greater')\n",
    "results.pvalue    # p-значение"
   ]
  },
  {
   "cell_type": "markdown",
   "id": "20baad6b",
   "metadata": {},
   "source": [
    "Поскольку p-value меньше, чем уровень ститистической значимости, есть все основания отвергнуть гипотезу о том, что пользователи с подпиской тратят столько же времени на поездки на самокате, сколько и пользователи без подписки в пользу альтернативной гипотезы о том, что пользователи с подписой тратят больше времени на самокат."
   ]
  },
  {
   "cell_type": "markdown",
   "id": "71223f9d",
   "metadata": {},
   "source": [
    "### Среднее расстояние, которое проезжают пользователи с подпиской за одну поездку, не превышает 3130 метров"
   ]
  },
  {
   "cell_type": "markdown",
   "id": "db2b928b",
   "metadata": {},
   "source": [
    "За нулевую гипотезу примем то, что среднее расстояние, которое проезжают пользователи с подпиской за одну поездку, равняется 3130 метрам. Альтернативная гипотеза будет левосторонней и будет гласить, что расстояние, которое проезжают пользователи с подпиской за одну поездку, не превышает 3130 метров.\n",
    "<br>Уровень значимости примем равным 5%.\n",
    "<br>Выполним одновыборочный t-тест о равенстве среднего генеральной совокупности числу, равному 3130."
   ]
  },
  {
   "cell_type": "code",
   "execution_count": 44,
   "id": "9a9ca8c9",
   "metadata": {},
   "outputs": [
    {
     "data": {
      "text/plain": [
       "3115.445430769231"
      ]
     },
     "execution_count": 44,
     "metadata": {},
     "output_type": "execute_result"
    }
   ],
   "source": [
    "sample = data_ultra['distance']\n",
    "value = 3130\n",
    "alpha = 0.05\n",
    "sample.mean()"
   ]
  },
  {
   "cell_type": "code",
   "execution_count": 45,
   "id": "c74d9d65",
   "metadata": {},
   "outputs": [
    {
     "data": {
      "text/plain": [
       "0.0804637394157586"
      ]
     },
     "execution_count": 45,
     "metadata": {},
     "output_type": "execute_result"
    }
   ],
   "source": [
    "results = st.ttest_1samp(sample, value, alternative='less')\n",
    "results.pvalue"
   ]
  },
  {
   "cell_type": "code",
   "execution_count": 46,
   "id": "22b7e923",
   "metadata": {},
   "outputs": [
    {
     "data": {
      "text/plain": [
       "0.9195362605842414"
      ]
     },
     "execution_count": 46,
     "metadata": {},
     "output_type": "execute_result"
    }
   ],
   "source": [
    "results = st.ttest_1samp(sample, value, alternative='greater')\n",
    "results.pvalue"
   ]
  },
  {
   "cell_type": "markdown",
   "id": "d23de9b2",
   "metadata": {},
   "source": [
    "Поскольку p-value больше, чем уровень статистической значимости, у нас недостаточно оснований отвергнуть нулевую гипотезу о том, что среднее расстояние, которое проезжают пользователи с подпиской за одну поездку, равняется 3130 метрам в пользу гипотезы о том, что расстояние поездки пользователей с подпиской не превышеат 3130 м."
   ]
  },
  {
   "cell_type": "markdown",
   "id": "9dcf2f1e",
   "metadata": {},
   "source": [
    "### Будет ли помесячная выручка от пользователей с подпиской по месяцам выше, чем выручка от пользователей без подписки?"
   ]
  },
  {
   "cell_type": "markdown",
   "id": "4814dafa",
   "metadata": {},
   "source": [
    "За нулевую гипотезу примем то, что средняя выручка от пользователей с подпиской по месяцам равна выручке от пользователей без подписки. Альтернативная гипотеза будет левосторонней и будет гласить, что пользователи без подписки будут приносить денег меньше. чем пользователи с подпиской.\n",
    "<br>Уровень значимости примем равным 5%.\n",
    "<br>Выполним двухвыборочный t-тест для независимых выборок.\n",
    "\n",
    "<br>Чтобы проверить данную гипотезу сделаем группировку датасета every_client по месяцам и посчитаем общий платеж."
   ]
  },
  {
   "cell_type": "code",
   "execution_count": 47,
   "id": "113178b2",
   "metadata": {},
   "outputs": [
    {
     "data": {
      "text/html": [
       "<div>\n",
       "<style scoped>\n",
       "    .dataframe tbody tr th:only-of-type {\n",
       "        vertical-align: middle;\n",
       "    }\n",
       "\n",
       "    .dataframe tbody tr th {\n",
       "        vertical-align: top;\n",
       "    }\n",
       "\n",
       "    .dataframe thead th {\n",
       "        text-align: right;\n",
       "    }\n",
       "</style>\n",
       "<table border=\"1\" class=\"dataframe\">\n",
       "  <thead>\n",
       "    <tr style=\"text-align: right;\">\n",
       "      <th></th>\n",
       "      <th>user_id</th>\n",
       "      <th>month</th>\n",
       "      <th>dist_cnt</th>\n",
       "      <th>dist_sum</th>\n",
       "      <th>dur_sum</th>\n",
       "      <th>subscription_type</th>\n",
       "      <th>paid</th>\n",
       "    </tr>\n",
       "  </thead>\n",
       "  <tbody>\n",
       "    <tr>\n",
       "      <th>0</th>\n",
       "      <td>1</td>\n",
       "      <td>1</td>\n",
       "      <td>2</td>\n",
       "      <td>7027.51</td>\n",
       "      <td>42</td>\n",
       "      <td>ultra</td>\n",
       "      <td>451</td>\n",
       "    </tr>\n",
       "    <tr>\n",
       "      <th>1</th>\n",
       "      <td>1</td>\n",
       "      <td>4</td>\n",
       "      <td>1</td>\n",
       "      <td>754.16</td>\n",
       "      <td>7</td>\n",
       "      <td>ultra</td>\n",
       "      <td>241</td>\n",
       "    </tr>\n",
       "    <tr>\n",
       "      <th>2</th>\n",
       "      <td>1</td>\n",
       "      <td>8</td>\n",
       "      <td>2</td>\n",
       "      <td>6723.47</td>\n",
       "      <td>45</td>\n",
       "      <td>ultra</td>\n",
       "      <td>469</td>\n",
       "    </tr>\n",
       "    <tr>\n",
       "      <th>3</th>\n",
       "      <td>1</td>\n",
       "      <td>10</td>\n",
       "      <td>2</td>\n",
       "      <td>5809.91</td>\n",
       "      <td>32</td>\n",
       "      <td>ultra</td>\n",
       "      <td>391</td>\n",
       "    </tr>\n",
       "    <tr>\n",
       "      <th>4</th>\n",
       "      <td>1</td>\n",
       "      <td>11</td>\n",
       "      <td>3</td>\n",
       "      <td>7003.50</td>\n",
       "      <td>54</td>\n",
       "      <td>ultra</td>\n",
       "      <td>523</td>\n",
       "    </tr>\n",
       "  </tbody>\n",
       "</table>\n",
       "</div>"
      ],
      "text/plain": [
       "   user_id  month  dist_cnt  dist_sum  dur_sum subscription_type paid\n",
       "0        1      1         2   7027.51       42             ultra  451\n",
       "1        1      4         1    754.16        7             ultra  241\n",
       "2        1      8         2   6723.47       45             ultra  469\n",
       "3        1     10         2   5809.91       32             ultra  391\n",
       "4        1     11         3   7003.50       54             ultra  523"
      ]
     },
     "execution_count": 47,
     "metadata": {},
     "output_type": "execute_result"
    }
   ],
   "source": [
    "every_client.head()"
   ]
  },
  {
   "cell_type": "code",
   "execution_count": 48,
   "id": "62a9de52",
   "metadata": {},
   "outputs": [],
   "source": [
    "sample_1 = every_client.query('subscription_type == \"ultra\"')['paid'].tolist() # убрал: .groupby('month')['paid'].sum()\n",
    "sample_2 = every_client.query('subscription_type == \"free\"')['paid'].tolist() # убрал: .groupby('month')['paid'].sum()\n",
    "alpha = 0.05"
   ]
  },
  {
   "cell_type": "code",
   "execution_count": 49,
   "id": "b478a556",
   "metadata": {},
   "outputs": [
    {
     "data": {
      "text/plain": [
       "(361.44209133024486, 325.79817593409825)"
      ]
     },
     "execution_count": 49,
     "metadata": {},
     "output_type": "execute_result"
    }
   ],
   "source": [
    "sum(sample_1) / len(sample_1), sum(sample_2) / len(sample_2)  # Расчет средних значений для обоих выборок"
   ]
  },
  {
   "cell_type": "code",
   "execution_count": 50,
   "id": "bead51df",
   "metadata": {},
   "outputs": [
    {
     "data": {
      "text/plain": [
       "2.743416414547796e-35"
      ]
     },
     "execution_count": 50,
     "metadata": {},
     "output_type": "execute_result"
    }
   ],
   "source": [
    "results = st.ttest_ind(sample_1, sample_2, alternative='greater')\n",
    "results.pvalue"
   ]
  },
  {
   "cell_type": "markdown",
   "id": "ef38cb16",
   "metadata": {},
   "source": [
    "Поскольку p-value больше, чем уровень статистической значимости, недостаточно оснований отвергнуть нулевую гипотезу о том, что средняя выручка от пользователей с подпиской по месяцам равна выручке от пользователей без подписки в пользу алтернативной гипотезы о том, что пользователи с подпиской приносят больше денег в месяц. \n",
    "<br>Но нулевую гипотезу можно смело отвергнуть в пользу альтернативной гипотезы о том, что пользователи с подпиской приносят меньше денег в месяц.\n",
    "<br>Как видно из расчета средних значений, пользователи без подписки приносят большую часть выручки компании, ввиду того, что их больше."
   ]
  },
  {
   "cell_type": "markdown",
   "id": "1686b886",
   "metadata": {},
   "source": [
    "### Какой тест для проверки гипотезы о снижении обращений граждан в техподдержку после обновления приложения?"
   ]
  },
  {
   "cell_type": "markdown",
   "id": "942faf51",
   "metadata": {},
   "source": [
    "В случае если техническая команда сервиса обновит сервера, с которыми взаимодействует мобильное приложение, то для проверки гипотезы о снижении обращений в техподдержку после обновления понадобится двухвыборочный t-тест для зависимых выборок."
   ]
  },
  {
   "cell_type": "markdown",
   "id": "1e3a3c5d",
   "metadata": {},
   "source": [
    "<br>**Вывод**\n",
    "<br>В рамках исследования было проверено 4 гипотезы:\n",
    "<br>1. Тратят ли пользователи с подпиской больше времени на поездки.\n",
    "<br>Нулевая гипотеза: \"пользователи с подпиской в среднем тратят столько же времени на поездки на самокате, сколько и пользователи без подписки\". Альтернативная гипотеза правосторонняя: \"cреднее время поездки у пользователей с подпиской больше, чем у пользователей без подписки\".\n",
    "Уровень значимости при проверке всех четырех гипотез (alpha) принят равным 5%.\n",
    "<br>Поскольку у нас имеются две независимые выборки, то в качестве t-теста был принят двухвыборочный тест для независимых выборок.\n",
    "<br>**Расчитанный p-value (1,3е-34) меньше, чем alpha: есть основания отвергнуть нулевую гипотезу о том, что пользователи с подпиской в среднем тратят столько же времени на поездки на самокате, сколько и пользователи без подписки в пользу гипотезы о том, что среднее время поездки у пользователей с подпиской больше, чем у пользователей без подписки.**\n",
    "\n",
    "<br>2. Среднее расстояние, которое проезжают пользователи с подпиской за одну поездку, не превышает 3130 метров.\n",
    "<br>Нулевая гипотеза: \"среднее расстояние, которое проезжают пользователи с подпиской за одну поездку, равняется 3130 метрам\". Альтернативная гипотеза правосторонняя: \"Среднее расстояние, которое проезжают пользователи с подпиской за одну поездку, больше 3130 метров\".\n",
    "Был проведен одновыборочный t-тест о равенстве среднего генеральной совокупности числу, равному 3130.\n",
    "<br>**Рассчитанный p-value (0,92) больше, чем alpha: недостаточно оснований отвергнуть нулевую гипотезу о том, что среднее расстояние, которое проезжают пользователи с подпиской за одну поездку, равняется 3130 метрам в пользу гипотезы о том, что среднее расстояние, которое проезжают пользователи с подпиской за одну поездку, больше 3130 метров.**\n",
    "\n",
    "<br>3. Будет ли помесячная выручка от пользователей с подпиской по месяцам выше, чем выручка от пользователей без подписки.\n",
    "<br>Нулевая гипотеза: \"средняя помесячная выручка от одного пользователеля с подпиской равна выручке от одного пользователя без подписки\". Альтернативная гипотеза будет правосторонней: \"один пользователь с подпиской в среднем будет приносить денег в месяц больше, чем один пользователь без нее\".\n",
    "Был выполнен двухвыборочный t-тест для независимых выборок.\n",
    "<br>**Поскольку p-value (2,7e-35) меньше, чем alpha: есть все основания отвергнуть нулевую гипотезу о том, что средняя выручка от одного пользователеля с подпиской в месяц равна выручке от одного пользователя без подписки в пользу алтернативной гипотезы о том, что один пользователь с подпиской в среднем приносит больше денег в месяц.**\n",
    "<br>Как видно из расчета средних значений выручки (для пользователей без подписки: 184564.67 руб и для пользователей с подпиской: 136534.75 руб), совокупно пользователи без подписки приносят большую часть выручки компании, ввиду того, что их больше и поездки они совершают чаще.\n",
    "\n",
    "<br>4. Какой тест для проверки гипотезы о снижении обращений граждан в техподдержку после обновления приложения?\n",
    "<br>В случае если техническая команда сервиса обновит сервера, с которыми взаимодействует мобильное приложение, то для проверки гипотезы о снижении обращений в техподдержку после обновления понадобится двухвыборочный t-тест для зависимых выборок с проверкой правосторонней гипотезы о том, что после обновления обращений стало меньше.\n"
   ]
  },
  {
   "cell_type": "markdown",
   "id": "61213c5e",
   "metadata": {},
   "source": [
    "## Распределения"
   ]
  },
  {
   "cell_type": "markdown",
   "id": "6f757c21",
   "metadata": {},
   "source": [
    "### Бесплатные промокоды"
   ]
  },
  {
   "cell_type": "markdown",
   "id": "b24e91dc",
   "metadata": {},
   "source": [
    "Нужно провести акцию с раздачей промокодов на один бесплатный месяц подписки, в рамках которой как минимум 100 существующих клиентов должны продлить эту подписку. То есть по завершении периода действия подписки пользователь может либо отказаться от неё, либо продлить, совершив соответствующий платёж. \n",
    "Эта акция уже проводилась ранее и по итогу выяснилось, что после бесплатного пробного периода подписку продлевают 10% пользователей. Какое минимальное количество промокодов нужно разослать, чтобы вероятность не выполнить план была примерно 5%."
   ]
  },
  {
   "cell_type": "markdown",
   "id": "f8b76640",
   "metadata": {},
   "source": [
    "Чтобы решить данную задачу подберем параметр n. Параметры: k = 99, р = 0.1.\n",
    "<br>С помощью функции binom.cdf найдем вероятность получить 100 или меньше клиентов. Она должна быть равна 0.05."
   ]
  },
  {
   "cell_type": "code",
   "execution_count": 51,
   "id": "7d88f559",
   "metadata": {},
   "outputs": [],
   "source": [
    "k, p = 99, 0.1  # k уменьшим на 1 т.к. нам нужно найти вероятность получить меньше 100 подписок при помощи binom.cdf"
   ]
  },
  {
   "cell_type": "code",
   "execution_count": 52,
   "id": "d2e4ceba",
   "metadata": {},
   "outputs": [
    {
     "name": "stdout",
     "output_type": "stream",
     "text": [
      "1161 0.04976090094990249\n"
     ]
    }
   ],
   "source": [
    "# Напишем функцию для подбора n и вывода значения, при котором вероятность получить k < 100 не более 5% \n",
    "for n in range(100, 3000):\n",
    "    a = st.binom.cdf(k, n, p)\n",
    "    if a <= 0.05:\n",
    "        print(n, a)\n",
    "        break"
   ]
  },
  {
   "cell_type": "markdown",
   "id": "fcf98feb",
   "metadata": {},
   "source": [
    "Построим график вероятности получения k успехов из n испытаний"
   ]
  },
  {
   "cell_type": "code",
   "execution_count": 53,
   "id": "95cd1d51",
   "metadata": {},
   "outputs": [
    {
     "name": "stderr",
     "output_type": "stream",
     "text": [
      "/opt/conda/lib/python3.9/site-packages/scipy/stats/_discrete_distns.py:78: RuntimeWarning: divide by zero encountered in _binom_pdf\n",
      "  return _boost._binom_pdf(x, n, p)\n"
     ]
    },
    {
     "data": {
      "image/png": "[encoded data removed]",
      "text/plain": [
       "<Figure size 432x288 with 1 Axes>"
      ]
     },
     "metadata": {
      "needs_background": "light"
     },
     "output_type": "display_data"
    }
   ],
   "source": [
    "n = 1161 # количество попыток\n",
    "p = 0.1 # вероятность успеха\n",
    "\n",
    "dist = []\n",
    "\n",
    "for k in range(0, n + 1):\n",
    "    cur_val = st.binom.pmf(k, n, p)\n",
    "    dist.append(cur_val)\n",
    "    \n",
    "plt.bar(range(0, n + 1), dist)\n",
    "plt.title('Вероятность получения k успехов из n испытаний')\n",
    "plt.xlabel('Значения k')\n",
    "plt.ylabel('Вероятность');"
   ]
  },
  {
   "cell_type": "markdown",
   "id": "d01159dd",
   "metadata": {},
   "source": [
    "Исходя из проведенных расчетов можно сделать вывод, что 1161 - это минимальное количество промокодов, которое нужно разослать, чтобы вероятность не выполнить план по продлению подписки для минимум 100 клиентов была менее 5%."
   ]
  },
  {
   "cell_type": "markdown",
   "id": "fc57baf3",
   "metadata": {},
   "source": [
    "### Открытие push-уведомлений"
   ]
  },
  {
   "cell_type": "markdown",
   "id": "f1f088ef",
   "metadata": {},
   "source": [
    "Известно, что push-уведомления открывают около 40 % получивших клиентов. Отдел планирует разослать 1 млн уведомлений. Необходимо оценить вероятность того, что уведомление откроют не более 399,5 тыс. пользователей."
   ]
  },
  {
   "cell_type": "code",
   "execution_count": 54,
   "id": "ae26ab11",
   "metadata": {},
   "outputs": [],
   "source": [
    "k, p, n = 399500, 0.4, 1000000"
   ]
  },
  {
   "cell_type": "code",
   "execution_count": 55,
   "id": "d3ab7f1b",
   "metadata": {},
   "outputs": [
    {
     "data": {
      "text/plain": [
       "0.1539584359564276"
      ]
     },
     "execution_count": 55,
     "metadata": {},
     "output_type": "execute_result"
    }
   ],
   "source": [
    "st.binom.cdf(k, n, p)"
   ]
  },
  {
   "cell_type": "markdown",
   "id": "baa7bc6c",
   "metadata": {},
   "source": [
    "Аппроксимируем биномиальное распределение нормальным."
   ]
  },
  {
   "cell_type": "code",
   "execution_count": 56,
   "id": "ee9e6e4a",
   "metadata": {},
   "outputs": [
    {
     "data": {
      "text/plain": [
       "489.89794855663564"
      ]
     },
     "execution_count": 56,
     "metadata": {},
     "output_type": "execute_result"
    }
   ],
   "source": [
    "np.sqrt(n*p*(1-p))  # Лежит ли в пределах [0, n] (условие возможности аппроксимаци)"
   ]
  },
  {
   "cell_type": "code",
   "execution_count": 57,
   "id": "3e265e0b",
   "metadata": {},
   "outputs": [
    {
     "data": {
      "text/plain": [
       "0.15371708296369768"
      ]
     },
     "execution_count": 57,
     "metadata": {},
     "output_type": "execute_result"
    }
   ],
   "source": [
    "mu, sigma = n*p, np.sqrt(n*p*(1-p))\n",
    "distr = st.norm(mu, sigma)\n",
    "distr.cdf(399500)"
   ]
  },
  {
   "cell_type": "code",
   "execution_count": 58,
   "id": "e87eff96",
   "metadata": {},
   "outputs": [
    {
     "data": {
      "image/png": "[encoded data removed]",
      "text/plain": [
       "<Figure size 432x288 with 1 Axes>"
      ]
     },
     "metadata": {
      "needs_background": "light"
     },
     "output_type": "display_data"
    }
   ],
   "source": [
    "x = np.linspace(mu - 3*sigma, mu + 3*sigma)\n",
    "plt.plot(x, st.norm.pdf(x, mu, sigma))\n",
    "plt.title('Аппроксимация нормальным распределением')\n",
    "plt.show()"
   ]
  },
  {
   "cell_type": "markdown",
   "id": "676fd725",
   "metadata": {},
   "source": [
    "<br>**Вывод**\n",
    "<br>1. Раздача промокодов\n",
    "<br>Чтобы провести акцию с раздачей промокодов на один бесплатный месяц подписки, в рамках которой как минимум 100 существующих клиентов должны продлить эту подписку, при условии, что клиент ее продлит с вероятностью 10% необходимо раздать 1161 бесплатных промокодов при условии что план не будет выполнен с вероятностью примерно 5%. \n",
    "<br>2. Открытие push-уведомлений\n",
    "<br>Вероятность того, что уведомление откроют не более 399,5 тыс. пользователей при разосланном 1 млн. уведомлений и вероятности открытия 40% составляет 15,39%."
   ]
  },
  {
   "cell_type": "markdown",
   "id": "f0251bcd",
   "metadata": {},
   "source": [
    "# Выводы"
   ]
  },
  {
   "cell_type": "markdown",
   "id": "4b4ed877",
   "metadata": {},
   "source": [
    "<br>Общая информация о данных\n",
    "<br>В данных, полученных для анализа содержится информация о клиентах популярного сервиса аренды самокатов GoFast из нескольких городов, а также об их поездках и наличию у них подписок. Цель исследования: проверить гипотезы, которые помогут сервису извлекать больше прибыли.\n",
    "<br>Первый датасет состоит из информации по клиентам сервиса, такой как имя, возраст, город проживания, наличие подписки на самокаты. Второй датасет содержит информацию о поездках данных граждан (продолжительность, расстояние и дата каждой поездки). Число строк во втором датафрейме очевидно больше, чем в первом по причине того, что многие граждане пользовались самокатами не один раз. Третий датасет состоит из информации о существующих подписках (free и ultra): стоимости одной минуты поездки, цены использования самоката, абонентской стоимости подписки. Пропусков в данных нет.\n",
    "\n",
    "<br>Предобработка данных\n",
    "<br>В датасете с информацией о клиентах были обнаружены и удалены дубликаты. В датасете с информацией о поездках даты были приведены к формату Datetime. Был добавлен столбец с месяцем поездки.\n",
    "\n",
    "<br>Исследовательский анализ данных\n",
    "<br>Наибольшее количество клиентов находится в Пятигорске и Екатеринбурге, а наименьшее в Москве и Тюмени. Наименее охотно люди оформляют подписки в Краснодаре и Пятигорске, наиболее в Москве и Омске.\n",
    "<br>В среднем 46% пользователей оформляют подписки. В целом наблюдается тенденция снижения приобретения подписок клиентами в городах с наибольшим количеством пользователей самокатов.\n",
    "<br>Имется нормальное распределение клиентов по возрастам. Наибольшее количество клиентов в возрасте от 24 до 26 лет.\n",
    "<br>Распределение поездок по расстоянию близко к нормальному с наибольшим числом поездок от 2800 м. до 3400 м., но имеется малое количество поездок на расстояния от 1000 до 1800 м.Распределение поездок по затраченному времени представляет собой нормальное распределение с наибольшим временем от 15 до 21 минуты.\n",
    "<br>Объединение данных\n",
    "<br>Было выполнено объединение датасета с информацией о клиентах, датасета с информацией о поездках и датасета с информацией о подписках. Датасет с информацией о поездках содержит больше строк, чем два других, поскольку 1 клиент мог совершить несколько поездок, поэтому к нему были присоеденены остальные датасеты, чтобы сохранить максимальное количество данных.\n",
    "<br>Также было создано 2 дополнительных датасета с пользователями, оформившими подписку и без нее.\n",
    "<br>Распределения расстояния и времени поездок для клиентов с подпиской и без нее вцелом аналогичны, за тем исключением, что количество поездок, совершаемых людьми без подписки больше. В тоже время клиенты с подпиской чаще тратят на поездки боле е 35 минут, чем клиенты без подписки. Видно, что при поездках более 20 минут клиенты без подписки по количеству поездок все ближе к клиентам с попиской.\n",
    "\n",
    "<br>Подсчёт выручки\n",
    "<br>Для подсчета выручки был создан новый датафрейм с суммарным расстоянием, количеством поездок и суммарным временем для каждого пользователя за каждый месяц. Сюда же был добавлен столбец с помесячной выручкой, которую принёс каждый пользователь. Общая выручка компании составила 3853193 руб.\n",
    "\n",
    "<br>Проверка гипотез\n",
    "<br>В рамках исследования было проверено 4 гипотезы:\n",
    "1. Тратят ли пользователи с подпиской больше времени на поездки.\n",
    "<br>Нулевая гипотеза: \"пользователи с подпиской в среднем тратят столько же времени на поездки на самокате, сколько и пользователи без подписки\". \n",
    "<br>Альтернативная гипотеза правосторонняя: \"cреднее время поездки у пользователей с подпиской больше, чем у пользователей без подписки\". \n",
    "<br>Уровень значимости при проверке всех четырех гипотез (alpha) принят равным 5%.\n",
    "<br>Поскольку у нас имеются две независимые выборки, то в качестве t-теста был принят двухвыборочный тест для независимых выборок.\n",
    "<br>**Расчитанный p-value (1,3е-34) меньше, чем alpha: есть основания отвергнуть нулевую гипотезу о том, что пользователи с подпиской в среднем тратят столько же времени на поездки на самокате, сколько и пользователи без подписки в пользу гипотезы о том, что среднее время поездки у пользователей с подпиской больше, чем у пользователей без подписки.**\n",
    "\n",
    "\n",
    "2. Среднее расстояние, которое проезжают пользователи с подпиской за одну поездку, не превышает 3130 метров.\n",
    "<br>Нулевая гипотеза: \"среднее расстояние, которое проезжают пользователи с подпиской за одну поездку, равняется 3130 метрам\". Альтернативная гипотеза правосторонняя: \"Среднее расстояние, которое проезжают пользователи с подпиской за одну поездку, больше 3130 метров\". Был проведен одновыборочный t-тест о равенстве среднего генеральной совокупности числу, равному 3130.\n",
    "Рассчитанный p-value (0,92) больше, чем alpha: недостаточно оснований отвергнуть нулевую гипотезу о том, что среднее расстояние, которое проезжают пользователи с подпиской за одну поездку, равняется 3130 метрам в пользу гипотезы о том, что среднее расстояние, которое проезжают пользователи с подпиской за одну поездку, больше 3130 метров.\n",
    "\n",
    "\n",
    "3. Будет ли помесячная выручка от пользователей с подпиской по месяцам выше, чем выручка от пользователей без подписки.\n",
    "<br>Нулевая гипотеза: \"средняя помесячная выручка от одного пользователеля с подпиской равна выручке от одного пользователя без подписки\". \n",
    "<br>Альтернативная гипотеза будет правосторонней: \"один пользователь с подпиской в среднем будет приносить денег в месяц больше, чем один пользователь без нее\". Был выполнен двухвыборочный t-тест для независимых выборок.\n",
    "<br>**Поскольку p-value (2,7e-35) меньше, чем alpha: есть все основания отвергнуть нулевую гипотезу о том, что средняя выручка от одного пользователеля с подпиской в месяц равна выручке от одного пользователя без подписки в пользу алтернативной гипотезы о том, что один пользователь с подпиской в среднем приносит больше денег в месяц.**\n",
    "Как видно из расчета средних значений выручки (для пользователей без подписки: 184564.67 руб и для пользователей с подпиской: 136534.75 руб), совокупно пользователи без подписки приносят большую часть выручки компании, ввиду того, что их больше и поездки они совершают чаще.\n",
    "\n",
    "\n",
    "4. Какой тест для проверки гипотезы о снижении обращений граждан в техподдержку после обновления приложения?\n",
    "<br>В случае если техническая команда сервиса обновит сервера, с которыми взаимодействует мобильное приложение, то для проверки гипотезы о снижении обращений в техподдержку после обновления понадобится двухвыборочный t-тест для зависимых выборок с проверкой правосторонней гипотезы о том, что после обновления обращений стало меньше.\n",
    "\n",
    "<br>Распределения\n",
    "<br>Раздача промокодов\n",
    "<br>Чтобы провести акцию с раздачей промокодов на один бесплатный месяц подписки, в рамках которой как минимум 100 существующих клиентов должны продлить эту подписку, при условии, что клиент ее продлит с вероятностью 10% необходимо раздать 1161 бесплатных промокодов при условии что план не будет выполнен с вероятностью примерно 5%. \n",
    "<br>Открытие push-уведомлений\n",
    "<br>Вероятность того, что уведомление откроют не более 399,5 тыс. пользователей при разосланном 1 млн. уведомлений и вероятности открытия 40% составляет 15,39%.\n",
    "\n",
    "<br>**Реомендации**\n",
    "<br>В среднем один пользователь с подпиской приносит больше денег компании не говоря о том, что такой клиент более надежен в долгосрочной перспективе. Поэтому имеет смысл увеличивать количество клиентов с подпиской раздачей бесплатных месячных подписок, улучшением имиджа самокатчиков в лице общественности, демонстрацией преимуществ использования самокатов и прочими мерами."
   ]
  },
  {
   "cell_type": "code",
   "execution_count": null,
   "id": "861c7331",
   "metadata": {},
   "outputs": [],
   "source": []
  }
 ],
 "metadata": {
  "ExecuteTimeLog": [
   {
    "duration": 76,
    "start_time": "2024-07-09T05:48:31.927Z"
   },
   {
    "duration": 7,
    "start_time": "2024-07-09T05:50:02.983Z"
   },
   {
    "duration": 437,
    "start_time": "2024-07-09T05:50:08.966Z"
   },
   {
    "duration": 73,
    "start_time": "2024-07-09T05:50:10.981Z"
   },
   {
    "duration": 170,
    "start_time": "2024-07-09T05:52:22.447Z"
   },
   {
    "duration": 27,
    "start_time": "2024-07-09T05:52:31.703Z"
   },
   {
    "duration": 8,
    "start_time": "2024-07-09T05:53:57.934Z"
   },
   {
    "duration": 10,
    "start_time": "2024-07-09T05:54:07.775Z"
   },
   {
    "duration": 16,
    "start_time": "2024-07-09T05:54:17.681Z"
   },
   {
    "duration": 15,
    "start_time": "2024-07-09T05:54:33.540Z"
   },
   {
    "duration": 18,
    "start_time": "2024-07-09T05:55:21.454Z"
   },
   {
    "duration": 22,
    "start_time": "2024-07-09T05:55:36.195Z"
   },
   {
    "duration": 13,
    "start_time": "2024-07-09T05:57:48.604Z"
   },
   {
    "duration": 46,
    "start_time": "2024-07-09T14:06:31.357Z"
   },
   {
    "duration": 380,
    "start_time": "2024-07-09T14:06:39.225Z"
   },
   {
    "duration": 209,
    "start_time": "2024-07-09T14:06:40.126Z"
   },
   {
    "duration": 20,
    "start_time": "2024-07-09T14:06:40.337Z"
   },
   {
    "duration": 15,
    "start_time": "2024-07-09T14:06:40.493Z"
   },
   {
    "duration": 13,
    "start_time": "2024-07-09T14:06:40.685Z"
   },
   {
    "duration": 5,
    "start_time": "2024-07-09T14:06:41.645Z"
   },
   {
    "duration": 5,
    "start_time": "2024-07-09T14:08:47.577Z"
   },
   {
    "duration": 4,
    "start_time": "2024-07-09T14:08:56.241Z"
   },
   {
    "duration": 11,
    "start_time": "2024-07-09T14:10:46.170Z"
   },
   {
    "duration": 8,
    "start_time": "2024-07-09T14:11:22.337Z"
   },
   {
    "duration": 3,
    "start_time": "2024-07-09T14:51:36.046Z"
   },
   {
    "duration": 7,
    "start_time": "2024-07-09T14:51:48.806Z"
   },
   {
    "duration": 38,
    "start_time": "2024-07-09T14:53:05.811Z"
   },
   {
    "duration": 810,
    "start_time": "2024-07-09T14:53:48.765Z"
   },
   {
    "duration": 3,
    "start_time": "2024-07-09T14:53:57.814Z"
   },
   {
    "duration": 5,
    "start_time": "2024-07-09T14:54:02.278Z"
   },
   {
    "duration": 417,
    "start_time": "2024-07-09T14:55:12.727Z"
   },
   {
    "duration": 75,
    "start_time": "2024-07-09T14:55:13.146Z"
   },
   {
    "duration": 22,
    "start_time": "2024-07-09T14:55:13.222Z"
   },
   {
    "duration": 28,
    "start_time": "2024-07-09T14:55:13.246Z"
   },
   {
    "duration": 32,
    "start_time": "2024-07-09T14:55:13.275Z"
   },
   {
    "duration": 94,
    "start_time": "2024-07-09T14:55:13.309Z"
   },
   {
    "duration": 91,
    "start_time": "2024-07-09T14:55:13.405Z"
   },
   {
    "duration": 5,
    "start_time": "2024-07-09T14:57:03.462Z"
   },
   {
    "duration": 10,
    "start_time": "2024-07-09T14:57:08.474Z"
   },
   {
    "duration": 14,
    "start_time": "2024-07-09T14:57:34.565Z"
   },
   {
    "duration": 7,
    "start_time": "2024-07-09T15:04:16.770Z"
   },
   {
    "duration": 16,
    "start_time": "2024-07-09T15:04:22.491Z"
   },
   {
    "duration": 43,
    "start_time": "2024-07-09T15:04:46.622Z"
   },
   {
    "duration": 10,
    "start_time": "2024-07-09T15:04:48.580Z"
   },
   {
    "duration": 444,
    "start_time": "2024-07-09T15:07:00.289Z"
   },
   {
    "duration": 68,
    "start_time": "2024-07-09T15:07:00.734Z"
   },
   {
    "duration": 27,
    "start_time": "2024-07-09T15:07:00.803Z"
   },
   {
    "duration": 36,
    "start_time": "2024-07-09T15:07:00.832Z"
   },
   {
    "duration": 26,
    "start_time": "2024-07-09T15:07:00.869Z"
   },
   {
    "duration": 32,
    "start_time": "2024-07-09T15:07:00.896Z"
   },
   {
    "duration": 40,
    "start_time": "2024-07-09T15:07:00.929Z"
   },
   {
    "duration": 23,
    "start_time": "2024-07-09T15:07:00.971Z"
   },
   {
    "duration": 43,
    "start_time": "2024-07-09T15:07:00.995Z"
   },
   {
    "duration": 10,
    "start_time": "2024-07-09T15:07:26.261Z"
   },
   {
    "duration": 383,
    "start_time": "2024-07-10T04:45:44.377Z"
   },
   {
    "duration": 201,
    "start_time": "2024-07-10T04:45:44.762Z"
   },
   {
    "duration": 23,
    "start_time": "2024-07-10T04:45:44.964Z"
   },
   {
    "duration": 17,
    "start_time": "2024-07-10T04:45:44.989Z"
   },
   {
    "duration": 43,
    "start_time": "2024-07-10T04:45:45.008Z"
   },
   {
    "duration": 19,
    "start_time": "2024-07-10T04:45:45.053Z"
   },
   {
    "duration": 23,
    "start_time": "2024-07-10T04:45:45.074Z"
   },
   {
    "duration": 14,
    "start_time": "2024-07-10T04:45:45.099Z"
   },
   {
    "duration": 72,
    "start_time": "2024-07-10T04:45:45.115Z"
   },
   {
    "duration": 14,
    "start_time": "2024-07-10T04:45:55.129Z"
   },
   {
    "duration": 12,
    "start_time": "2024-07-10T04:46:16.490Z"
   },
   {
    "duration": 11,
    "start_time": "2024-07-10T04:51:49.230Z"
   },
   {
    "duration": 7,
    "start_time": "2024-07-10T04:51:57.006Z"
   },
   {
    "duration": 10,
    "start_time": "2024-07-10T04:52:30.288Z"
   },
   {
    "duration": 13,
    "start_time": "2024-07-10T04:54:50.108Z"
   },
   {
    "duration": 6,
    "start_time": "2024-07-10T04:55:21.538Z"
   },
   {
    "duration": 13,
    "start_time": "2024-07-10T04:55:24.823Z"
   },
   {
    "duration": 424,
    "start_time": "2024-07-10T04:56:16.075Z"
   },
   {
    "duration": 67,
    "start_time": "2024-07-10T04:56:16.501Z"
   },
   {
    "duration": 23,
    "start_time": "2024-07-10T04:56:16.571Z"
   },
   {
    "duration": 16,
    "start_time": "2024-07-10T04:56:16.596Z"
   },
   {
    "duration": 17,
    "start_time": "2024-07-10T04:56:16.614Z"
   },
   {
    "duration": 32,
    "start_time": "2024-07-10T04:56:16.632Z"
   },
   {
    "duration": 22,
    "start_time": "2024-07-10T04:56:16.666Z"
   },
   {
    "duration": 15,
    "start_time": "2024-07-10T04:56:16.689Z"
   },
   {
    "duration": 15,
    "start_time": "2024-07-10T04:56:16.705Z"
   },
   {
    "duration": 11,
    "start_time": "2024-07-10T04:56:16.722Z"
   },
   {
    "duration": 14,
    "start_time": "2024-07-10T04:56:16.734Z"
   },
   {
    "duration": 25,
    "start_time": "2024-07-10T04:56:16.749Z"
   },
   {
    "duration": 22,
    "start_time": "2024-07-10T04:56:16.776Z"
   },
   {
    "duration": 5,
    "start_time": "2024-07-10T04:57:00.778Z"
   },
   {
    "duration": 372,
    "start_time": "2024-07-10T04:57:47.805Z"
   },
   {
    "duration": 68,
    "start_time": "2024-07-10T04:57:48.179Z"
   },
   {
    "duration": 24,
    "start_time": "2024-07-10T04:57:48.249Z"
   },
   {
    "duration": 18,
    "start_time": "2024-07-10T04:57:48.275Z"
   },
   {
    "duration": 15,
    "start_time": "2024-07-10T04:57:48.294Z"
   },
   {
    "duration": 11,
    "start_time": "2024-07-10T04:57:48.310Z"
   },
   {
    "duration": 47,
    "start_time": "2024-07-10T04:57:48.322Z"
   },
   {
    "duration": 7,
    "start_time": "2024-07-10T04:57:48.370Z"
   },
   {
    "duration": 18,
    "start_time": "2024-07-10T04:57:48.378Z"
   },
   {
    "duration": 29,
    "start_time": "2024-07-10T04:57:48.398Z"
   },
   {
    "duration": 34,
    "start_time": "2024-07-10T04:57:48.428Z"
   },
   {
    "duration": 10,
    "start_time": "2024-07-10T04:57:48.464Z"
   },
   {
    "duration": 63,
    "start_time": "2024-07-10T04:57:48.475Z"
   },
   {
    "duration": 1,
    "start_time": "2024-07-10T04:57:48.539Z"
   },
   {
    "duration": 0,
    "start_time": "2024-07-10T04:57:48.541Z"
   },
   {
    "duration": 1,
    "start_time": "2024-07-10T04:57:48.542Z"
   },
   {
    "duration": 393,
    "start_time": "2024-07-10T05:01:59.294Z"
   },
   {
    "duration": 73,
    "start_time": "2024-07-10T05:01:59.689Z"
   },
   {
    "duration": 33,
    "start_time": "2024-07-10T05:01:59.764Z"
   },
   {
    "duration": 9,
    "start_time": "2024-07-10T05:01:59.800Z"
   },
   {
    "duration": 121,
    "start_time": "2024-07-10T05:01:59.811Z"
   },
   {
    "duration": 0,
    "start_time": "2024-07-10T05:01:59.935Z"
   },
   {
    "duration": 0,
    "start_time": "2024-07-10T05:01:59.936Z"
   },
   {
    "duration": 0,
    "start_time": "2024-07-10T05:01:59.937Z"
   },
   {
    "duration": 0,
    "start_time": "2024-07-10T05:01:59.939Z"
   },
   {
    "duration": 0,
    "start_time": "2024-07-10T05:01:59.940Z"
   },
   {
    "duration": 0,
    "start_time": "2024-07-10T05:01:59.941Z"
   },
   {
    "duration": 0,
    "start_time": "2024-07-10T05:01:59.943Z"
   },
   {
    "duration": 0,
    "start_time": "2024-07-10T05:01:59.944Z"
   },
   {
    "duration": 0,
    "start_time": "2024-07-10T05:01:59.945Z"
   },
   {
    "duration": 0,
    "start_time": "2024-07-10T05:01:59.961Z"
   },
   {
    "duration": 0,
    "start_time": "2024-07-10T05:01:59.962Z"
   },
   {
    "duration": 0,
    "start_time": "2024-07-10T05:01:59.964Z"
   },
   {
    "duration": 0,
    "start_time": "2024-07-10T05:01:59.965Z"
   },
   {
    "duration": 67,
    "start_time": "2024-07-10T05:03:03.443Z"
   },
   {
    "duration": 20,
    "start_time": "2024-07-10T05:03:03.742Z"
   },
   {
    "duration": 7,
    "start_time": "2024-07-10T05:03:04.576Z"
   },
   {
    "duration": 9,
    "start_time": "2024-07-10T05:03:50.101Z"
   },
   {
    "duration": 423,
    "start_time": "2024-07-10T05:05:18.054Z"
   },
   {
    "duration": 69,
    "start_time": "2024-07-10T05:05:18.479Z"
   },
   {
    "duration": 23,
    "start_time": "2024-07-10T05:05:18.550Z"
   },
   {
    "duration": 16,
    "start_time": "2024-07-10T05:05:18.575Z"
   },
   {
    "duration": 14,
    "start_time": "2024-07-10T05:05:18.593Z"
   },
   {
    "duration": 10,
    "start_time": "2024-07-10T05:05:18.608Z"
   },
   {
    "duration": 47,
    "start_time": "2024-07-10T05:05:18.619Z"
   },
   {
    "duration": 7,
    "start_time": "2024-07-10T05:05:18.668Z"
   },
   {
    "duration": 38,
    "start_time": "2024-07-10T05:05:18.676Z"
   },
   {
    "duration": 14,
    "start_time": "2024-07-10T05:05:18.717Z"
   },
   {
    "duration": 11,
    "start_time": "2024-07-10T05:05:18.733Z"
   },
   {
    "duration": 17,
    "start_time": "2024-07-10T05:05:18.746Z"
   },
   {
    "duration": 71,
    "start_time": "2024-07-10T05:05:18.765Z"
   },
   {
    "duration": 0,
    "start_time": "2024-07-10T05:05:18.838Z"
   },
   {
    "duration": 0,
    "start_time": "2024-07-10T05:05:18.839Z"
   },
   {
    "duration": 8,
    "start_time": "2024-07-10T05:05:23.411Z"
   },
   {
    "duration": 6,
    "start_time": "2024-07-10T05:05:31.933Z"
   },
   {
    "duration": 12,
    "start_time": "2024-07-10T05:05:33.156Z"
   },
   {
    "duration": 526,
    "start_time": "2024-07-10T05:33:02.914Z"
   },
   {
    "duration": 5,
    "start_time": "2024-07-10T05:33:35.530Z"
   },
   {
    "duration": 146,
    "start_time": "2024-07-10T06:17:18.367Z"
   },
   {
    "duration": 670,
    "start_time": "2024-07-10T06:19:24.954Z"
   },
   {
    "duration": 69,
    "start_time": "2024-07-10T06:19:25.626Z"
   },
   {
    "duration": 19,
    "start_time": "2024-07-10T06:19:25.696Z"
   },
   {
    "duration": 19,
    "start_time": "2024-07-10T06:19:25.716Z"
   },
   {
    "duration": 14,
    "start_time": "2024-07-10T06:19:25.737Z"
   },
   {
    "duration": 12,
    "start_time": "2024-07-10T06:19:25.752Z"
   },
   {
    "duration": 15,
    "start_time": "2024-07-10T06:19:25.766Z"
   },
   {
    "duration": 7,
    "start_time": "2024-07-10T06:19:25.782Z"
   },
   {
    "duration": 14,
    "start_time": "2024-07-10T06:19:25.791Z"
   },
   {
    "duration": 10,
    "start_time": "2024-07-10T06:19:25.807Z"
   },
   {
    "duration": 44,
    "start_time": "2024-07-10T06:19:25.818Z"
   },
   {
    "duration": 4,
    "start_time": "2024-07-10T06:19:25.863Z"
   },
   {
    "duration": 6,
    "start_time": "2024-07-10T06:19:25.869Z"
   },
   {
    "duration": 13,
    "start_time": "2024-07-10T06:19:25.878Z"
   },
   {
    "duration": 191,
    "start_time": "2024-07-10T06:19:25.893Z"
   },
   {
    "duration": 143,
    "start_time": "2024-07-10T06:21:57.345Z"
   },
   {
    "duration": 141,
    "start_time": "2024-07-10T06:22:10.886Z"
   },
   {
    "duration": 139,
    "start_time": "2024-07-10T06:22:23.687Z"
   },
   {
    "duration": 186,
    "start_time": "2024-07-10T06:23:19.021Z"
   },
   {
    "duration": 137,
    "start_time": "2024-07-10T06:23:26.539Z"
   },
   {
    "duration": 140,
    "start_time": "2024-07-10T06:24:09.542Z"
   },
   {
    "duration": 147,
    "start_time": "2024-07-10T06:24:14.556Z"
   },
   {
    "duration": 5,
    "start_time": "2024-07-10T06:27:44.516Z"
   },
   {
    "duration": 18,
    "start_time": "2024-07-10T06:28:06.848Z"
   },
   {
    "duration": 210,
    "start_time": "2024-07-10T06:28:09.000Z"
   },
   {
    "duration": 197,
    "start_time": "2024-07-10T06:28:48.089Z"
   },
   {
    "duration": 194,
    "start_time": "2024-07-10T06:29:02.523Z"
   },
   {
    "duration": 206,
    "start_time": "2024-07-10T06:29:06.717Z"
   },
   {
    "duration": 195,
    "start_time": "2024-07-10T06:29:12.693Z"
   },
   {
    "duration": 64,
    "start_time": "2024-07-10T06:30:09.487Z"
   },
   {
    "duration": 209,
    "start_time": "2024-07-10T06:30:16.024Z"
   },
   {
    "duration": 215,
    "start_time": "2024-07-10T06:32:08.387Z"
   },
   {
    "duration": 11,
    "start_time": "2024-07-10T06:32:35.333Z"
   },
   {
    "duration": 280,
    "start_time": "2024-07-10T06:32:36.669Z"
   },
   {
    "duration": 203,
    "start_time": "2024-07-10T06:36:58.874Z"
   },
   {
    "duration": 209,
    "start_time": "2024-07-10T06:37:16.785Z"
   },
   {
    "duration": 12,
    "start_time": "2024-07-10T06:37:45.745Z"
   },
   {
    "duration": 190,
    "start_time": "2024-07-10T06:37:46.833Z"
   },
   {
    "duration": 15,
    "start_time": "2024-07-10T06:38:25.981Z"
   },
   {
    "duration": 14,
    "start_time": "2024-07-10T06:38:50.277Z"
   },
   {
    "duration": 184,
    "start_time": "2024-07-10T06:39:21.214Z"
   },
   {
    "duration": 184,
    "start_time": "2024-07-10T06:39:38.046Z"
   },
   {
    "duration": 16,
    "start_time": "2024-07-10T06:41:17.856Z"
   },
   {
    "duration": 31,
    "start_time": "2024-07-10T06:44:51.209Z"
   },
   {
    "duration": 82,
    "start_time": "2024-07-10T06:45:39.666Z"
   },
   {
    "duration": 33,
    "start_time": "2024-07-10T06:48:09.944Z"
   },
   {
    "duration": 228,
    "start_time": "2024-07-10T06:48:17.792Z"
   },
   {
    "duration": 29,
    "start_time": "2024-07-10T06:50:04.824Z"
   },
   {
    "duration": 659,
    "start_time": "2024-07-10T06:50:19.924Z"
   },
   {
    "duration": 70,
    "start_time": "2024-07-10T06:50:20.584Z"
   },
   {
    "duration": 20,
    "start_time": "2024-07-10T06:50:20.655Z"
   },
   {
    "duration": 17,
    "start_time": "2024-07-10T06:50:20.677Z"
   },
   {
    "duration": 14,
    "start_time": "2024-07-10T06:50:20.696Z"
   },
   {
    "duration": 9,
    "start_time": "2024-07-10T06:50:20.711Z"
   },
   {
    "duration": 40,
    "start_time": "2024-07-10T06:50:20.722Z"
   },
   {
    "duration": 7,
    "start_time": "2024-07-10T06:50:20.764Z"
   },
   {
    "duration": 13,
    "start_time": "2024-07-10T06:50:20.773Z"
   },
   {
    "duration": 61,
    "start_time": "2024-07-10T06:50:20.789Z"
   },
   {
    "duration": 13,
    "start_time": "2024-07-10T06:50:20.851Z"
   },
   {
    "duration": 5,
    "start_time": "2024-07-10T06:50:20.865Z"
   },
   {
    "duration": 18,
    "start_time": "2024-07-10T06:50:20.872Z"
   },
   {
    "duration": 14,
    "start_time": "2024-07-10T06:50:20.892Z"
   },
   {
    "duration": 18,
    "start_time": "2024-07-10T06:50:20.907Z"
   },
   {
    "duration": 48,
    "start_time": "2024-07-10T06:50:20.927Z"
   },
   {
    "duration": 239,
    "start_time": "2024-07-10T06:50:20.977Z"
   },
   {
    "duration": 20,
    "start_time": "2024-07-10T06:52:29.893Z"
   },
   {
    "duration": 17,
    "start_time": "2024-07-10T06:53:14.899Z"
   },
   {
    "duration": 24,
    "start_time": "2024-07-10T06:53:45.563Z"
   },
   {
    "duration": 236,
    "start_time": "2024-07-10T06:53:49.970Z"
   },
   {
    "duration": 84,
    "start_time": "2024-07-10T06:56:52.881Z"
   },
   {
    "duration": 21,
    "start_time": "2024-07-10T06:57:13.049Z"
   },
   {
    "duration": 19,
    "start_time": "2024-07-10T06:58:54.089Z"
   },
   {
    "duration": 18,
    "start_time": "2024-07-10T06:59:40.035Z"
   },
   {
    "duration": 12,
    "start_time": "2024-07-10T07:00:09.737Z"
   },
   {
    "duration": 183,
    "start_time": "2024-07-10T07:00:13.294Z"
   },
   {
    "duration": 34,
    "start_time": "2024-07-10T07:03:53.489Z"
   },
   {
    "duration": 183,
    "start_time": "2024-07-10T07:04:02.121Z"
   },
   {
    "duration": 4,
    "start_time": "2024-07-10T07:04:50.028Z"
   },
   {
    "duration": 31,
    "start_time": "2024-07-10T07:05:03.206Z"
   },
   {
    "duration": 104,
    "start_time": "2024-07-10T07:05:19.726Z"
   },
   {
    "duration": 32,
    "start_time": "2024-07-10T07:05:24.495Z"
   },
   {
    "duration": 187,
    "start_time": "2024-07-10T07:05:34.353Z"
   },
   {
    "duration": 185,
    "start_time": "2024-07-10T07:07:08.761Z"
   },
   {
    "duration": 10,
    "start_time": "2024-07-10T07:10:24.080Z"
   },
   {
    "duration": 8,
    "start_time": "2024-07-10T07:10:33.514Z"
   },
   {
    "duration": 5,
    "start_time": "2024-07-10T07:10:48.313Z"
   },
   {
    "duration": 5,
    "start_time": "2024-07-10T07:11:34.460Z"
   },
   {
    "duration": 210,
    "start_time": "2024-07-10T07:25:42.518Z"
   },
   {
    "duration": 33,
    "start_time": "2024-07-10T07:25:52.498Z"
   },
   {
    "duration": 167,
    "start_time": "2024-07-10T07:25:54.832Z"
   },
   {
    "duration": 6,
    "start_time": "2024-07-10T07:27:43.537Z"
   },
   {
    "duration": 4,
    "start_time": "2024-07-10T07:27:49.488Z"
   },
   {
    "duration": 5,
    "start_time": "2024-07-10T07:28:21.162Z"
   },
   {
    "duration": 150,
    "start_time": "2024-07-10T07:29:24.913Z"
   },
   {
    "duration": 153,
    "start_time": "2024-07-10T07:30:00.118Z"
   },
   {
    "duration": 10,
    "start_time": "2024-07-10T07:30:34.798Z"
   },
   {
    "duration": 175,
    "start_time": "2024-07-10T07:30:49.846Z"
   },
   {
    "duration": 176,
    "start_time": "2024-07-10T07:31:17.875Z"
   },
   {
    "duration": 148,
    "start_time": "2024-07-10T07:32:15.371Z"
   },
   {
    "duration": 152,
    "start_time": "2024-07-10T07:32:51.394Z"
   },
   {
    "duration": 165,
    "start_time": "2024-07-10T07:33:12.395Z"
   },
   {
    "duration": 235,
    "start_time": "2024-07-10T07:33:27.685Z"
   },
   {
    "duration": 6,
    "start_time": "2024-07-10T07:34:27.860Z"
   },
   {
    "duration": 223,
    "start_time": "2024-07-10T07:51:21.119Z"
   },
   {
    "duration": 10,
    "start_time": "2024-07-10T07:54:07.480Z"
   },
   {
    "duration": 988,
    "start_time": "2024-07-10T07:58:37.952Z"
   },
   {
    "duration": 9,
    "start_time": "2024-07-10T07:59:51.178Z"
   },
   {
    "duration": 1677,
    "start_time": "2024-07-10T08:00:07.970Z"
   },
   {
    "duration": 67,
    "start_time": "2024-07-10T08:00:37.382Z"
   },
   {
    "duration": 55,
    "start_time": "2024-07-10T08:04:59.662Z"
   },
   {
    "duration": 1002,
    "start_time": "2024-07-10T08:09:44.390Z"
   },
   {
    "duration": 10,
    "start_time": "2024-07-10T08:09:56.682Z"
   },
   {
    "duration": 925,
    "start_time": "2024-07-10T08:09:57.794Z"
   },
   {
    "duration": 1072,
    "start_time": "2024-07-10T08:10:14.990Z"
   },
   {
    "duration": 188,
    "start_time": "2024-07-10T08:10:24.752Z"
   },
   {
    "duration": 207,
    "start_time": "2024-07-10T08:10:56.040Z"
   },
   {
    "duration": 13,
    "start_time": "2024-07-10T08:12:16.235Z"
   },
   {
    "duration": 10,
    "start_time": "2024-07-10T08:12:28.267Z"
   },
   {
    "duration": 186,
    "start_time": "2024-07-10T08:12:45.192Z"
   },
   {
    "duration": 66,
    "start_time": "2024-07-10T08:13:39.928Z"
   },
   {
    "duration": 201,
    "start_time": "2024-07-10T08:13:50.480Z"
   },
   {
    "duration": 273,
    "start_time": "2024-07-10T08:14:48.984Z"
   },
   {
    "duration": 202,
    "start_time": "2024-07-10T08:14:58.248Z"
   },
   {
    "duration": 196,
    "start_time": "2024-07-10T08:15:03.485Z"
   },
   {
    "duration": 210,
    "start_time": "2024-07-10T08:15:20.619Z"
   },
   {
    "duration": 222,
    "start_time": "2024-07-10T08:16:36.561Z"
   },
   {
    "duration": 246,
    "start_time": "2024-07-10T08:17:33.069Z"
   },
   {
    "duration": 219,
    "start_time": "2024-07-10T08:17:54.679Z"
   },
   {
    "duration": 232,
    "start_time": "2024-07-10T08:18:17.581Z"
   },
   {
    "duration": 258,
    "start_time": "2024-07-10T08:20:01.205Z"
   },
   {
    "duration": 235,
    "start_time": "2024-07-10T08:20:27.570Z"
   },
   {
    "duration": 382,
    "start_time": "2024-07-10T08:21:32.473Z"
   },
   {
    "duration": 263,
    "start_time": "2024-07-10T08:21:45.332Z"
   },
   {
    "duration": 260,
    "start_time": "2024-07-10T08:23:30.954Z"
   },
   {
    "duration": 231,
    "start_time": "2024-07-10T08:23:50.842Z"
   },
   {
    "duration": 344,
    "start_time": "2024-07-10T08:24:35.702Z"
   },
   {
    "duration": 231,
    "start_time": "2024-07-10T08:24:49.000Z"
   },
   {
    "duration": 93,
    "start_time": "2024-07-10T08:25:19.939Z"
   },
   {
    "duration": 92,
    "start_time": "2024-07-10T08:26:38.848Z"
   },
   {
    "duration": 335,
    "start_time": "2024-07-10T08:26:46.988Z"
   },
   {
    "duration": 353,
    "start_time": "2024-07-10T08:26:59.838Z"
   },
   {
    "duration": 262,
    "start_time": "2024-07-10T08:28:26.138Z"
   },
   {
    "duration": 230,
    "start_time": "2024-07-10T08:28:42.417Z"
   },
   {
    "duration": 244,
    "start_time": "2024-07-10T08:29:48.346Z"
   },
   {
    "duration": 239,
    "start_time": "2024-07-10T08:30:02.558Z"
   },
   {
    "duration": 234,
    "start_time": "2024-07-10T08:30:21.438Z"
   },
   {
    "duration": 233,
    "start_time": "2024-07-10T08:30:31.098Z"
   },
   {
    "duration": 337,
    "start_time": "2024-07-10T08:30:45.358Z"
   },
   {
    "duration": 326,
    "start_time": "2024-07-10T08:30:59.051Z"
   },
   {
    "duration": 352,
    "start_time": "2024-07-10T08:31:05.118Z"
   },
   {
    "duration": 208,
    "start_time": "2024-07-10T08:31:27.579Z"
   },
   {
    "duration": 618,
    "start_time": "2024-07-10T08:32:06.470Z"
   },
   {
    "duration": 74,
    "start_time": "2024-07-10T08:32:07.090Z"
   },
   {
    "duration": 19,
    "start_time": "2024-07-10T08:32:07.166Z"
   },
   {
    "duration": 16,
    "start_time": "2024-07-10T08:32:07.186Z"
   },
   {
    "duration": 19,
    "start_time": "2024-07-10T08:32:07.204Z"
   },
   {
    "duration": 27,
    "start_time": "2024-07-10T08:32:07.225Z"
   },
   {
    "duration": 17,
    "start_time": "2024-07-10T08:32:07.254Z"
   },
   {
    "duration": 21,
    "start_time": "2024-07-10T08:32:07.272Z"
   },
   {
    "duration": 13,
    "start_time": "2024-07-10T08:32:07.295Z"
   },
   {
    "duration": 18,
    "start_time": "2024-07-10T08:32:07.310Z"
   },
   {
    "duration": 28,
    "start_time": "2024-07-10T08:32:07.329Z"
   },
   {
    "duration": 19,
    "start_time": "2024-07-10T08:32:07.359Z"
   },
   {
    "duration": 14,
    "start_time": "2024-07-10T08:32:07.379Z"
   },
   {
    "duration": 40,
    "start_time": "2024-07-10T08:32:07.395Z"
   },
   {
    "duration": 58,
    "start_time": "2024-07-10T08:32:07.436Z"
   },
   {
    "duration": 48,
    "start_time": "2024-07-10T08:32:07.496Z"
   },
   {
    "duration": 205,
    "start_time": "2024-07-10T08:32:07.545Z"
   },
   {
    "duration": 14,
    "start_time": "2024-07-10T08:32:07.751Z"
   },
   {
    "duration": 242,
    "start_time": "2024-07-10T08:32:07.766Z"
   },
   {
    "duration": 889,
    "start_time": "2024-07-10T08:32:08.010Z"
   },
   {
    "duration": 4,
    "start_time": "2024-07-10T08:32:39.613Z"
   },
   {
    "duration": 222,
    "start_time": "2024-07-10T08:34:28.123Z"
   },
   {
    "duration": 840,
    "start_time": "2024-07-10T11:44:17.149Z"
   },
   {
    "duration": 214,
    "start_time": "2024-07-10T11:44:17.991Z"
   },
   {
    "duration": 21,
    "start_time": "2024-07-10T11:44:18.206Z"
   },
   {
    "duration": 36,
    "start_time": "2024-07-10T11:44:18.229Z"
   },
   {
    "duration": 42,
    "start_time": "2024-07-10T11:44:18.266Z"
   },
   {
    "duration": 9,
    "start_time": "2024-07-10T11:44:18.310Z"
   },
   {
    "duration": 13,
    "start_time": "2024-07-10T11:44:18.321Z"
   },
   {
    "duration": 7,
    "start_time": "2024-07-10T11:44:18.336Z"
   },
   {
    "duration": 15,
    "start_time": "2024-07-10T11:44:18.345Z"
   },
   {
    "duration": 38,
    "start_time": "2024-07-10T11:44:18.362Z"
   },
   {
    "duration": 14,
    "start_time": "2024-07-10T11:44:18.402Z"
   },
   {
    "duration": 13,
    "start_time": "2024-07-10T11:44:18.418Z"
   },
   {
    "duration": 12,
    "start_time": "2024-07-10T11:44:18.433Z"
   },
   {
    "duration": 24,
    "start_time": "2024-07-10T11:44:18.447Z"
   },
   {
    "duration": 5,
    "start_time": "2024-07-10T11:44:18.473Z"
   },
   {
    "duration": 44,
    "start_time": "2024-07-10T11:44:18.480Z"
   },
   {
    "duration": 228,
    "start_time": "2024-07-10T11:44:18.526Z"
   },
   {
    "duration": 12,
    "start_time": "2024-07-10T11:44:18.756Z"
   },
   {
    "duration": 271,
    "start_time": "2024-07-10T11:44:18.770Z"
   },
   {
    "duration": 4,
    "start_time": "2024-07-10T11:44:19.043Z"
   },
   {
    "duration": 8,
    "start_time": "2024-07-10T11:44:25.697Z"
   },
   {
    "duration": 4,
    "start_time": "2024-07-10T11:44:44.511Z"
   },
   {
    "duration": 5,
    "start_time": "2024-07-10T11:45:17.668Z"
   },
   {
    "duration": 19343,
    "start_time": "2024-07-10T11:47:43.373Z"
   },
   {
    "duration": 78,
    "start_time": "2024-07-10T11:48:46.605Z"
   },
   {
    "duration": 11,
    "start_time": "2024-07-10T11:49:26.830Z"
   },
   {
    "duration": 294,
    "start_time": "2024-07-10T11:49:35.236Z"
   },
   {
    "duration": 153,
    "start_time": "2024-07-10T11:50:02.290Z"
   },
   {
    "duration": 155,
    "start_time": "2024-07-10T11:50:19.835Z"
   },
   {
    "duration": 404,
    "start_time": "2024-07-10T11:50:29.077Z"
   },
   {
    "duration": 176,
    "start_time": "2024-07-10T11:50:34.260Z"
   },
   {
    "duration": 173,
    "start_time": "2024-07-10T11:53:35.484Z"
   },
   {
    "duration": 185,
    "start_time": "2024-07-10T11:53:44.958Z"
   },
   {
    "duration": 173,
    "start_time": "2024-07-10T11:53:50.317Z"
   },
   {
    "duration": 15,
    "start_time": "2024-07-10T12:04:45.047Z"
   },
   {
    "duration": 15,
    "start_time": "2024-07-10T12:08:33.734Z"
   },
   {
    "duration": 10,
    "start_time": "2024-07-10T12:09:08.781Z"
   },
   {
    "duration": 7,
    "start_time": "2024-07-10T12:09:19.996Z"
   },
   {
    "duration": 161,
    "start_time": "2024-07-10T12:09:48.905Z"
   },
   {
    "duration": 156,
    "start_time": "2024-07-10T12:11:23.691Z"
   },
   {
    "duration": 165,
    "start_time": "2024-07-10T12:11:34.771Z"
   },
   {
    "duration": 156,
    "start_time": "2024-07-10T12:11:40.211Z"
   },
   {
    "duration": 189,
    "start_time": "2024-07-10T12:13:45.977Z"
   },
   {
    "duration": 189,
    "start_time": "2024-07-10T12:14:20.460Z"
   },
   {
    "duration": 724,
    "start_time": "2024-07-10T12:16:19.059Z"
   },
   {
    "duration": 709,
    "start_time": "2024-07-10T12:16:56.070Z"
   },
   {
    "duration": 724,
    "start_time": "2024-07-10T12:17:45.116Z"
   },
   {
    "duration": 710,
    "start_time": "2024-07-10T12:17:59.109Z"
   },
   {
    "duration": 947,
    "start_time": "2024-07-10T12:18:53.703Z"
   },
   {
    "duration": 374,
    "start_time": "2024-07-10T12:19:04.418Z"
   },
   {
    "duration": 314,
    "start_time": "2024-07-10T12:19:14.186Z"
   },
   {
    "duration": 484,
    "start_time": "2024-07-10T12:19:49.516Z"
   },
   {
    "duration": 300,
    "start_time": "2024-07-10T12:20:25.093Z"
   },
   {
    "duration": 304,
    "start_time": "2024-07-10T12:20:42.257Z"
   },
   {
    "duration": 177,
    "start_time": "2024-07-10T12:23:24.300Z"
   },
   {
    "duration": 162,
    "start_time": "2024-07-10T12:23:46.890Z"
   },
   {
    "duration": 195,
    "start_time": "2024-07-10T12:23:51.886Z"
   },
   {
    "duration": 196,
    "start_time": "2024-07-10T12:25:12.359Z"
   },
   {
    "duration": 190,
    "start_time": "2024-07-10T12:25:39.729Z"
   },
   {
    "duration": 218,
    "start_time": "2024-07-10T12:25:56.581Z"
   },
   {
    "duration": 70,
    "start_time": "2024-07-10T12:26:18.881Z"
   },
   {
    "duration": 199,
    "start_time": "2024-07-10T12:26:31.732Z"
   },
   {
    "duration": 371,
    "start_time": "2024-07-10T12:26:56.548Z"
   },
   {
    "duration": 11654,
    "start_time": "2024-07-10T12:35:16.744Z"
   },
   {
    "duration": 649,
    "start_time": "2024-07-10T12:35:40.460Z"
   },
   {
    "duration": 67,
    "start_time": "2024-07-10T12:35:41.110Z"
   },
   {
    "duration": 19,
    "start_time": "2024-07-10T12:35:41.179Z"
   },
   {
    "duration": 17,
    "start_time": "2024-07-10T12:35:41.200Z"
   },
   {
    "duration": 14,
    "start_time": "2024-07-10T12:35:41.219Z"
   },
   {
    "duration": 17,
    "start_time": "2024-07-10T12:35:41.234Z"
   },
   {
    "duration": 16,
    "start_time": "2024-07-10T12:35:41.253Z"
   },
   {
    "duration": 8,
    "start_time": "2024-07-10T12:35:41.270Z"
   },
   {
    "duration": 172,
    "start_time": "2024-07-10T12:35:41.280Z"
   },
   {
    "duration": 15,
    "start_time": "2024-07-10T12:35:41.454Z"
   },
   {
    "duration": 12,
    "start_time": "2024-07-10T12:35:41.471Z"
   },
   {
    "duration": 12,
    "start_time": "2024-07-10T12:35:41.485Z"
   },
   {
    "duration": 6,
    "start_time": "2024-07-10T12:35:41.499Z"
   },
   {
    "duration": 14,
    "start_time": "2024-07-10T12:35:41.509Z"
   },
   {
    "duration": 30,
    "start_time": "2024-07-10T12:35:41.525Z"
   },
   {
    "duration": 41,
    "start_time": "2024-07-10T12:35:41.557Z"
   },
   {
    "duration": 236,
    "start_time": "2024-07-10T12:35:41.599Z"
   },
   {
    "duration": 20,
    "start_time": "2024-07-10T12:35:41.837Z"
   },
   {
    "duration": 277,
    "start_time": "2024-07-10T12:35:41.859Z"
   },
   {
    "duration": 9,
    "start_time": "2024-07-10T12:35:42.138Z"
   },
   {
    "duration": 5,
    "start_time": "2024-07-10T12:35:42.148Z"
   },
   {
    "duration": 195,
    "start_time": "2024-07-10T12:35:42.155Z"
   },
   {
    "duration": 16,
    "start_time": "2024-07-10T12:35:42.352Z"
   },
   {
    "duration": 213,
    "start_time": "2024-07-10T12:35:42.370Z"
   },
   {
    "duration": 268,
    "start_time": "2024-07-10T12:35:42.585Z"
   },
   {
    "duration": 226,
    "start_time": "2024-07-10T12:37:04.073Z"
   },
   {
    "duration": 27,
    "start_time": "2024-07-10T12:51:03.872Z"
   },
   {
    "duration": 24,
    "start_time": "2024-07-10T12:52:15.764Z"
   },
   {
    "duration": 34,
    "start_time": "2024-07-10T12:53:00.009Z"
   },
   {
    "duration": 1203,
    "start_time": "2024-07-10T12:58:36.655Z"
   },
   {
    "duration": 67,
    "start_time": "2024-07-10T12:58:37.860Z"
   },
   {
    "duration": 79,
    "start_time": "2024-07-10T12:58:37.929Z"
   },
   {
    "duration": 0,
    "start_time": "2024-07-10T12:58:38.010Z"
   },
   {
    "duration": 0,
    "start_time": "2024-07-10T12:58:38.011Z"
   },
   {
    "duration": 0,
    "start_time": "2024-07-10T12:58:38.012Z"
   },
   {
    "duration": 0,
    "start_time": "2024-07-10T12:58:38.013Z"
   },
   {
    "duration": 0,
    "start_time": "2024-07-10T12:58:38.014Z"
   },
   {
    "duration": 0,
    "start_time": "2024-07-10T12:58:38.015Z"
   },
   {
    "duration": 0,
    "start_time": "2024-07-10T12:58:38.016Z"
   },
   {
    "duration": 0,
    "start_time": "2024-07-10T12:58:38.017Z"
   },
   {
    "duration": 0,
    "start_time": "2024-07-10T12:58:38.019Z"
   },
   {
    "duration": 0,
    "start_time": "2024-07-10T12:58:38.019Z"
   },
   {
    "duration": 1,
    "start_time": "2024-07-10T12:58:38.020Z"
   },
   {
    "duration": 0,
    "start_time": "2024-07-10T12:58:38.021Z"
   },
   {
    "duration": 0,
    "start_time": "2024-07-10T12:58:38.023Z"
   },
   {
    "duration": 0,
    "start_time": "2024-07-10T12:58:38.046Z"
   },
   {
    "duration": 0,
    "start_time": "2024-07-10T12:58:38.047Z"
   },
   {
    "duration": 0,
    "start_time": "2024-07-10T12:58:38.048Z"
   },
   {
    "duration": 0,
    "start_time": "2024-07-10T12:58:38.049Z"
   },
   {
    "duration": 0,
    "start_time": "2024-07-10T12:58:38.051Z"
   },
   {
    "duration": 0,
    "start_time": "2024-07-10T12:58:38.052Z"
   },
   {
    "duration": 0,
    "start_time": "2024-07-10T12:58:38.053Z"
   },
   {
    "duration": 0,
    "start_time": "2024-07-10T12:58:38.054Z"
   },
   {
    "duration": 0,
    "start_time": "2024-07-10T12:58:38.055Z"
   },
   {
    "duration": 0,
    "start_time": "2024-07-10T12:58:38.056Z"
   },
   {
    "duration": 696,
    "start_time": "2024-07-10T12:59:06.718Z"
   },
   {
    "duration": 69,
    "start_time": "2024-07-10T12:59:07.416Z"
   },
   {
    "duration": 20,
    "start_time": "2024-07-10T12:59:07.487Z"
   },
   {
    "duration": 18,
    "start_time": "2024-07-10T12:59:07.509Z"
   },
   {
    "duration": 20,
    "start_time": "2024-07-10T12:59:07.528Z"
   },
   {
    "duration": 8,
    "start_time": "2024-07-10T12:59:07.550Z"
   },
   {
    "duration": 11,
    "start_time": "2024-07-10T12:59:07.560Z"
   },
   {
    "duration": 7,
    "start_time": "2024-07-10T12:59:07.572Z"
   },
   {
    "duration": 15,
    "start_time": "2024-07-10T12:59:07.581Z"
   },
   {
    "duration": 11,
    "start_time": "2024-07-10T12:59:07.598Z"
   },
   {
    "duration": 43,
    "start_time": "2024-07-10T12:59:07.611Z"
   },
   {
    "duration": 19,
    "start_time": "2024-07-10T12:59:07.656Z"
   },
   {
    "duration": 22,
    "start_time": "2024-07-10T12:59:07.677Z"
   },
   {
    "duration": 13,
    "start_time": "2024-07-10T12:59:07.701Z"
   },
   {
    "duration": 4,
    "start_time": "2024-07-10T12:59:07.715Z"
   },
   {
    "duration": 37,
    "start_time": "2024-07-10T12:59:07.721Z"
   },
   {
    "duration": 217,
    "start_time": "2024-07-10T12:59:07.759Z"
   },
   {
    "duration": 12,
    "start_time": "2024-07-10T12:59:07.977Z"
   },
   {
    "duration": 260,
    "start_time": "2024-07-10T12:59:07.991Z"
   },
   {
    "duration": 5,
    "start_time": "2024-07-10T12:59:08.253Z"
   },
   {
    "duration": 9,
    "start_time": "2024-07-10T12:59:08.259Z"
   },
   {
    "duration": 201,
    "start_time": "2024-07-10T12:59:08.269Z"
   },
   {
    "duration": 16,
    "start_time": "2024-07-10T12:59:08.471Z"
   },
   {
    "duration": 216,
    "start_time": "2024-07-10T12:59:08.488Z"
   },
   {
    "duration": 283,
    "start_time": "2024-07-10T12:59:08.706Z"
   },
   {
    "duration": 22,
    "start_time": "2024-07-10T12:59:08.990Z"
   },
   {
    "duration": 34,
    "start_time": "2024-07-10T12:59:20.986Z"
   },
   {
    "duration": 11,
    "start_time": "2024-07-10T13:01:38.969Z"
   },
   {
    "duration": 20,
    "start_time": "2024-07-10T13:01:52.598Z"
   },
   {
    "duration": 71,
    "start_time": "2024-07-10T13:02:04.036Z"
   },
   {
    "duration": 4,
    "start_time": "2024-07-10T13:02:09.256Z"
   },
   {
    "duration": 18,
    "start_time": "2024-07-10T13:02:15.534Z"
   },
   {
    "duration": 4,
    "start_time": "2024-07-10T13:02:21.165Z"
   },
   {
    "duration": 4,
    "start_time": "2024-07-10T13:02:51.946Z"
   },
   {
    "duration": 4,
    "start_time": "2024-07-10T13:03:40.373Z"
   },
   {
    "duration": 4,
    "start_time": "2024-07-10T13:04:20.777Z"
   },
   {
    "duration": 4,
    "start_time": "2024-07-10T13:04:23.262Z"
   },
   {
    "duration": 170,
    "start_time": "2024-07-10T13:46:40.982Z"
   },
   {
    "duration": 176,
    "start_time": "2024-07-10T13:46:55.426Z"
   },
   {
    "duration": 224,
    "start_time": "2024-07-10T13:48:39.747Z"
   },
   {
    "duration": 230,
    "start_time": "2024-07-10T13:49:16.978Z"
   },
   {
    "duration": 222,
    "start_time": "2024-07-10T13:50:01.099Z"
   },
   {
    "duration": 214,
    "start_time": "2024-07-10T13:50:07.854Z"
   },
   {
    "duration": 293,
    "start_time": "2024-07-10T13:50:19.077Z"
   },
   {
    "duration": 245,
    "start_time": "2024-07-10T13:50:54.690Z"
   },
   {
    "duration": 254,
    "start_time": "2024-07-10T13:51:52.674Z"
   },
   {
    "duration": 239,
    "start_time": "2024-07-10T13:52:01.087Z"
   },
   {
    "duration": 261,
    "start_time": "2024-07-10T13:52:05.238Z"
   },
   {
    "duration": 337,
    "start_time": "2024-07-10T13:52:30.098Z"
   },
   {
    "duration": 260,
    "start_time": "2024-07-10T13:52:38.738Z"
   },
   {
    "duration": 256,
    "start_time": "2024-07-10T13:52:59.296Z"
   },
   {
    "duration": 291,
    "start_time": "2024-07-10T13:54:46.846Z"
   },
   {
    "duration": 265,
    "start_time": "2024-07-10T13:56:20.091Z"
   },
   {
    "duration": 252,
    "start_time": "2024-07-10T13:56:27.087Z"
   },
   {
    "duration": 15,
    "start_time": "2024-07-10T14:04:35.904Z"
   },
   {
    "duration": 14,
    "start_time": "2024-07-10T14:05:40.820Z"
   },
   {
    "duration": 18,
    "start_time": "2024-07-10T14:05:45.931Z"
   },
   {
    "duration": 14,
    "start_time": "2024-07-10T14:06:41.847Z"
   },
   {
    "duration": 25,
    "start_time": "2024-07-10T14:06:42.966Z"
   },
   {
    "duration": 34,
    "start_time": "2024-07-10T14:10:31.917Z"
   },
   {
    "duration": 31,
    "start_time": "2024-07-10T14:20:25.877Z"
   },
   {
    "duration": 144,
    "start_time": "2024-07-10T14:21:54.065Z"
   },
   {
    "duration": 14,
    "start_time": "2024-07-10T14:22:19.390Z"
   },
   {
    "duration": 24,
    "start_time": "2024-07-10T14:22:24.731Z"
   },
   {
    "duration": 36,
    "start_time": "2024-07-10T14:28:16.125Z"
   },
   {
    "duration": 47,
    "start_time": "2024-07-10T14:28:24.294Z"
   },
   {
    "duration": 41,
    "start_time": "2024-07-10T14:28:52.083Z"
   },
   {
    "duration": 645,
    "start_time": "2024-07-10T14:29:01.683Z"
   },
   {
    "duration": 70,
    "start_time": "2024-07-10T14:29:02.330Z"
   },
   {
    "duration": 245,
    "start_time": "2024-07-10T14:29:02.402Z"
   },
   {
    "duration": 182,
    "start_time": "2024-07-10T14:29:02.649Z"
   },
   {
    "duration": 75,
    "start_time": "2024-07-10T14:29:02.834Z"
   },
   {
    "duration": 40,
    "start_time": "2024-07-10T14:29:02.912Z"
   },
   {
    "duration": 14,
    "start_time": "2024-07-10T14:29:02.953Z"
   },
   {
    "duration": 27,
    "start_time": "2024-07-10T14:29:02.969Z"
   },
   {
    "duration": 13,
    "start_time": "2024-07-10T14:29:02.998Z"
   },
   {
    "duration": 11,
    "start_time": "2024-07-10T14:29:03.013Z"
   },
   {
    "duration": 12,
    "start_time": "2024-07-10T14:29:03.026Z"
   },
   {
    "duration": 8,
    "start_time": "2024-07-10T14:29:03.046Z"
   },
   {
    "duration": 15,
    "start_time": "2024-07-10T14:29:03.055Z"
   },
   {
    "duration": 18,
    "start_time": "2024-07-10T14:29:03.074Z"
   },
   {
    "duration": 28,
    "start_time": "2024-07-10T14:29:03.094Z"
   },
   {
    "duration": 41,
    "start_time": "2024-07-10T14:29:03.124Z"
   },
   {
    "duration": 217,
    "start_time": "2024-07-10T14:29:03.167Z"
   },
   {
    "duration": 10,
    "start_time": "2024-07-10T14:29:03.385Z"
   },
   {
    "duration": 255,
    "start_time": "2024-07-10T14:29:03.397Z"
   },
   {
    "duration": 3,
    "start_time": "2024-07-10T14:29:03.654Z"
   },
   {
    "duration": 23,
    "start_time": "2024-07-10T14:29:03.659Z"
   },
   {
    "duration": 208,
    "start_time": "2024-07-10T14:29:03.684Z"
   },
   {
    "duration": 15,
    "start_time": "2024-07-10T14:29:03.894Z"
   },
   {
    "duration": 382,
    "start_time": "2024-07-10T14:29:03.911Z"
   },
   {
    "duration": 280,
    "start_time": "2024-07-10T14:29:04.295Z"
   },
   {
    "duration": 40,
    "start_time": "2024-07-10T14:29:04.577Z"
   },
   {
    "duration": 28,
    "start_time": "2024-07-10T14:29:04.618Z"
   },
   {
    "duration": 5,
    "start_time": "2024-07-10T14:29:04.648Z"
   },
   {
    "duration": 276,
    "start_time": "2024-07-10T14:29:04.654Z"
   },
   {
    "duration": 281,
    "start_time": "2024-07-10T14:29:04.932Z"
   },
   {
    "duration": 52,
    "start_time": "2024-07-10T14:29:05.214Z"
   },
   {
    "duration": 77,
    "start_time": "2024-07-10T14:29:05.268Z"
   },
   {
    "duration": 722,
    "start_time": "2024-07-10T14:33:45.524Z"
   },
   {
    "duration": 67,
    "start_time": "2024-07-10T14:33:46.248Z"
   },
   {
    "duration": 21,
    "start_time": "2024-07-10T14:33:46.317Z"
   },
   {
    "duration": 19,
    "start_time": "2024-07-10T14:33:46.340Z"
   },
   {
    "duration": 14,
    "start_time": "2024-07-10T14:33:46.361Z"
   },
   {
    "duration": 43,
    "start_time": "2024-07-10T14:33:46.377Z"
   },
   {
    "duration": 12,
    "start_time": "2024-07-10T14:33:46.422Z"
   },
   {
    "duration": 7,
    "start_time": "2024-07-10T14:33:46.436Z"
   },
   {
    "duration": 28,
    "start_time": "2024-07-10T14:33:46.444Z"
   },
   {
    "duration": 34,
    "start_time": "2024-07-10T14:33:46.474Z"
   },
   {
    "duration": 56,
    "start_time": "2024-07-10T14:33:46.510Z"
   },
   {
    "duration": 13,
    "start_time": "2024-07-10T14:33:46.568Z"
   },
   {
    "duration": 7,
    "start_time": "2024-07-10T14:33:46.583Z"
   },
   {
    "duration": 12,
    "start_time": "2024-07-10T14:33:46.594Z"
   },
   {
    "duration": 7,
    "start_time": "2024-07-10T14:33:46.608Z"
   },
   {
    "duration": 52,
    "start_time": "2024-07-10T14:33:46.617Z"
   },
   {
    "duration": 224,
    "start_time": "2024-07-10T14:33:46.671Z"
   },
   {
    "duration": 13,
    "start_time": "2024-07-10T14:33:46.896Z"
   },
   {
    "duration": 285,
    "start_time": "2024-07-10T14:33:46.910Z"
   },
   {
    "duration": 4,
    "start_time": "2024-07-10T14:33:47.196Z"
   },
   {
    "duration": 16,
    "start_time": "2024-07-10T14:33:47.202Z"
   },
   {
    "duration": 254,
    "start_time": "2024-07-10T14:33:47.220Z"
   },
   {
    "duration": 14,
    "start_time": "2024-07-10T14:33:47.476Z"
   },
   {
    "duration": 219,
    "start_time": "2024-07-10T14:33:47.492Z"
   },
   {
    "duration": 260,
    "start_time": "2024-07-10T14:33:47.713Z"
   },
   {
    "duration": 34,
    "start_time": "2024-07-10T14:33:47.975Z"
   },
   {
    "duration": 12,
    "start_time": "2024-07-10T14:33:48.010Z"
   },
   {
    "duration": 23,
    "start_time": "2024-07-10T14:33:48.024Z"
   },
   {
    "duration": 277,
    "start_time": "2024-07-10T14:33:48.049Z"
   },
   {
    "duration": 328,
    "start_time": "2024-07-10T14:33:48.327Z"
   },
   {
    "duration": 76,
    "start_time": "2024-07-10T14:33:48.658Z"
   },
   {
    "duration": 0,
    "start_time": "2024-07-10T14:33:48.736Z"
   },
   {
    "duration": 27,
    "start_time": "2024-07-10T14:34:02.063Z"
   },
   {
    "duration": 29,
    "start_time": "2024-07-10T14:34:28.470Z"
   },
   {
    "duration": 47,
    "start_time": "2024-07-10T14:34:49.453Z"
   },
   {
    "duration": 35,
    "start_time": "2024-07-10T14:35:03.926Z"
   },
   {
    "duration": 78,
    "start_time": "2024-07-10T14:35:31.901Z"
   },
   {
    "duration": 27,
    "start_time": "2024-07-10T14:35:48.723Z"
   },
   {
    "duration": 26,
    "start_time": "2024-07-10T14:36:04.927Z"
   },
   {
    "duration": 32,
    "start_time": "2024-07-10T14:46:36.774Z"
   },
   {
    "duration": 702,
    "start_time": "2024-07-10T14:46:59.207Z"
   },
   {
    "duration": 69,
    "start_time": "2024-07-10T14:46:59.911Z"
   },
   {
    "duration": 23,
    "start_time": "2024-07-10T14:46:59.982Z"
   },
   {
    "duration": 17,
    "start_time": "2024-07-10T14:47:00.007Z"
   },
   {
    "duration": 33,
    "start_time": "2024-07-10T14:47:00.026Z"
   },
   {
    "duration": 36,
    "start_time": "2024-07-10T14:47:00.060Z"
   },
   {
    "duration": 37,
    "start_time": "2024-07-10T14:47:00.098Z"
   },
   {
    "duration": 63,
    "start_time": "2024-07-10T14:47:00.136Z"
   },
   {
    "duration": 47,
    "start_time": "2024-07-10T14:47:00.201Z"
   },
   {
    "duration": 30,
    "start_time": "2024-07-10T14:47:00.251Z"
   },
   {
    "duration": 57,
    "start_time": "2024-07-10T14:47:00.282Z"
   },
   {
    "duration": 45,
    "start_time": "2024-07-10T14:47:00.341Z"
   },
   {
    "duration": 56,
    "start_time": "2024-07-10T14:47:00.388Z"
   },
   {
    "duration": 54,
    "start_time": "2024-07-10T14:47:00.446Z"
   },
   {
    "duration": 41,
    "start_time": "2024-07-10T14:47:00.502Z"
   },
   {
    "duration": 149,
    "start_time": "2024-07-10T14:47:00.544Z"
   },
   {
    "duration": 230,
    "start_time": "2024-07-10T14:47:00.694Z"
   },
   {
    "duration": 12,
    "start_time": "2024-07-10T14:47:00.925Z"
   },
   {
    "duration": 404,
    "start_time": "2024-07-10T14:47:00.939Z"
   },
   {
    "duration": 5,
    "start_time": "2024-07-10T14:47:01.345Z"
   },
   {
    "duration": 95,
    "start_time": "2024-07-10T14:47:01.352Z"
   },
   {
    "duration": 243,
    "start_time": "2024-07-10T14:47:01.448Z"
   },
   {
    "duration": 16,
    "start_time": "2024-07-10T14:47:01.693Z"
   },
   {
    "duration": 252,
    "start_time": "2024-07-10T14:47:01.710Z"
   },
   {
    "duration": 273,
    "start_time": "2024-07-10T14:47:01.964Z"
   },
   {
    "duration": 63,
    "start_time": "2024-07-10T14:47:02.239Z"
   },
   {
    "duration": 282,
    "start_time": "2024-07-10T14:47:02.304Z"
   },
   {
    "duration": 70,
    "start_time": "2024-07-10T14:47:02.590Z"
   },
   {
    "duration": 300,
    "start_time": "2024-07-10T14:47:02.662Z"
   },
   {
    "duration": 310,
    "start_time": "2024-07-10T14:47:02.963Z"
   },
   {
    "duration": 32,
    "start_time": "2024-07-10T14:47:03.275Z"
   },
   {
    "duration": 78,
    "start_time": "2024-07-10T14:47:03.309Z"
   },
   {
    "duration": 37,
    "start_time": "2024-07-10T14:53:09.266Z"
   },
   {
    "duration": 33,
    "start_time": "2024-07-10T14:53:37.377Z"
   },
   {
    "duration": 12,
    "start_time": "2024-07-10T14:58:06.653Z"
   },
   {
    "duration": 288,
    "start_time": "2024-07-10T15:00:17.187Z"
   },
   {
    "duration": 10317,
    "start_time": "2024-07-10T15:01:07.178Z"
   },
   {
    "duration": 18,
    "start_time": "2024-07-10T15:01:57.860Z"
   },
   {
    "duration": 19,
    "start_time": "2024-07-10T15:03:28.200Z"
   },
   {
    "duration": 8627,
    "start_time": "2024-07-10T15:04:31.200Z"
   },
   {
    "duration": 234,
    "start_time": "2024-07-10T15:07:33.201Z"
   },
   {
    "duration": 189,
    "start_time": "2024-07-10T15:08:07.685Z"
   },
   {
    "duration": 198,
    "start_time": "2024-07-10T15:08:17.730Z"
   },
   {
    "duration": 63,
    "start_time": "2024-07-10T15:18:51.360Z"
   },
   {
    "duration": 9,
    "start_time": "2024-07-10T15:18:56.519Z"
   },
   {
    "duration": 669,
    "start_time": "2024-07-10T15:19:16.381Z"
   },
   {
    "duration": 198,
    "start_time": "2024-07-10T15:19:17.052Z"
   },
   {
    "duration": 21,
    "start_time": "2024-07-10T15:19:17.251Z"
   },
   {
    "duration": 17,
    "start_time": "2024-07-10T15:19:17.274Z"
   },
   {
    "duration": 24,
    "start_time": "2024-07-10T15:19:17.293Z"
   },
   {
    "duration": 35,
    "start_time": "2024-07-10T15:19:17.319Z"
   },
   {
    "duration": 14,
    "start_time": "2024-07-10T15:19:17.355Z"
   },
   {
    "duration": 6,
    "start_time": "2024-07-10T15:19:17.371Z"
   },
   {
    "duration": 49,
    "start_time": "2024-07-10T15:19:17.379Z"
   },
   {
    "duration": 11,
    "start_time": "2024-07-10T15:19:17.430Z"
   },
   {
    "duration": 30,
    "start_time": "2024-07-10T15:19:17.443Z"
   },
   {
    "duration": 22,
    "start_time": "2024-07-10T15:19:17.475Z"
   },
   {
    "duration": 27,
    "start_time": "2024-07-10T15:19:17.498Z"
   },
   {
    "duration": 40,
    "start_time": "2024-07-10T15:19:17.527Z"
   },
   {
    "duration": 15,
    "start_time": "2024-07-10T15:19:17.569Z"
   },
   {
    "duration": 45,
    "start_time": "2024-07-10T15:19:17.585Z"
   },
   {
    "duration": 213,
    "start_time": "2024-07-10T15:19:17.632Z"
   },
   {
    "duration": 11,
    "start_time": "2024-07-10T15:19:17.847Z"
   },
   {
    "duration": 285,
    "start_time": "2024-07-10T15:19:17.860Z"
   },
   {
    "duration": 5,
    "start_time": "2024-07-10T15:19:18.147Z"
   },
   {
    "duration": 54,
    "start_time": "2024-07-10T15:19:18.153Z"
   },
   {
    "duration": 189,
    "start_time": "2024-07-10T15:19:18.209Z"
   },
   {
    "duration": 16,
    "start_time": "2024-07-10T15:19:18.399Z"
   },
   {
    "duration": 253,
    "start_time": "2024-07-10T15:19:18.417Z"
   },
   {
    "duration": 283,
    "start_time": "2024-07-10T15:19:18.673Z"
   },
   {
    "duration": 34,
    "start_time": "2024-07-10T15:19:18.958Z"
   },
   {
    "duration": 10,
    "start_time": "2024-07-10T15:19:18.994Z"
   },
   {
    "duration": 4,
    "start_time": "2024-07-10T15:19:19.007Z"
   },
   {
    "duration": 310,
    "start_time": "2024-07-10T15:19:19.012Z"
   },
   {
    "duration": 285,
    "start_time": "2024-07-10T15:19:19.324Z"
   },
   {
    "duration": 44,
    "start_time": "2024-07-10T15:19:19.611Z"
   },
   {
    "duration": 15,
    "start_time": "2024-07-10T15:19:19.656Z"
   },
   {
    "duration": 7,
    "start_time": "2024-07-10T15:19:19.672Z"
   },
   {
    "duration": 10,
    "start_time": "2024-07-10T15:21:01.142Z"
   },
   {
    "duration": 17,
    "start_time": "2024-07-10T15:21:11.905Z"
   },
   {
    "duration": 15,
    "start_time": "2024-07-10T15:22:47.883Z"
   },
   {
    "duration": 20,
    "start_time": "2024-07-10T15:23:22.544Z"
   },
   {
    "duration": 9,
    "start_time": "2024-07-10T15:23:28.200Z"
   },
   {
    "duration": 12,
    "start_time": "2024-07-10T15:23:43.026Z"
   },
   {
    "duration": 8,
    "start_time": "2024-07-10T15:23:48.512Z"
   },
   {
    "duration": 81,
    "start_time": "2024-07-10T15:23:59.136Z"
   },
   {
    "duration": 9,
    "start_time": "2024-07-10T15:24:04.377Z"
   },
   {
    "duration": 425,
    "start_time": "2024-07-10T18:47:53.375Z"
   },
   {
    "duration": 3,
    "start_time": "2024-07-10T18:49:49.822Z"
   },
   {
    "duration": 7,
    "start_time": "2024-07-10T18:49:57.542Z"
   },
   {
    "duration": 6,
    "start_time": "2024-07-10T18:51:44.215Z"
   },
   {
    "duration": 3,
    "start_time": "2024-07-10T18:52:26.650Z"
   },
   {
    "duration": 2,
    "start_time": "2024-07-10T18:52:29.081Z"
   },
   {
    "duration": 5,
    "start_time": "2024-07-10T18:54:37.095Z"
   },
   {
    "duration": 54,
    "start_time": "2024-07-10T18:54:46.948Z"
   },
   {
    "duration": 4,
    "start_time": "2024-07-10T18:54:52.775Z"
   },
   {
    "duration": 4,
    "start_time": "2024-07-10T18:55:10.135Z"
   },
   {
    "duration": 5,
    "start_time": "2024-07-10T18:55:28.809Z"
   },
   {
    "duration": 7,
    "start_time": "2024-07-10T18:55:44.629Z"
   },
   {
    "duration": 3,
    "start_time": "2024-07-10T18:56:05.324Z"
   },
   {
    "duration": 3,
    "start_time": "2024-07-10T18:56:45.082Z"
   },
   {
    "duration": 4,
    "start_time": "2024-07-10T18:57:40.120Z"
   },
   {
    "duration": 4,
    "start_time": "2024-07-10T18:58:28.824Z"
   },
   {
    "duration": 8,
    "start_time": "2024-07-10T18:59:30.184Z"
   },
   {
    "duration": 12,
    "start_time": "2024-07-10T18:59:42.466Z"
   },
   {
    "duration": 5,
    "start_time": "2024-07-10T18:59:50.832Z"
   },
   {
    "duration": 10,
    "start_time": "2024-07-10T18:59:54.835Z"
   },
   {
    "duration": 6,
    "start_time": "2024-07-10T19:00:06.030Z"
   },
   {
    "duration": 4,
    "start_time": "2024-07-10T19:00:34.180Z"
   },
   {
    "duration": 9,
    "start_time": "2024-07-10T19:00:37.502Z"
   },
   {
    "duration": 6,
    "start_time": "2024-07-10T19:00:46.353Z"
   },
   {
    "duration": 6,
    "start_time": "2024-07-10T19:00:48.402Z"
   },
   {
    "duration": 3,
    "start_time": "2024-07-10T19:00:48.960Z"
   },
   {
    "duration": 5,
    "start_time": "2024-07-10T19:01:42.218Z"
   },
   {
    "duration": 5,
    "start_time": "2024-07-10T19:01:48.128Z"
   },
   {
    "duration": 5,
    "start_time": "2024-07-10T19:02:00.597Z"
   },
   {
    "duration": 52,
    "start_time": "2024-07-10T19:02:06.849Z"
   },
   {
    "duration": 3,
    "start_time": "2024-07-10T19:02:14.889Z"
   },
   {
    "duration": 7,
    "start_time": "2024-07-10T19:03:24.252Z"
   },
   {
    "duration": 6,
    "start_time": "2024-07-10T19:03:59.531Z"
   },
   {
    "duration": 4,
    "start_time": "2024-07-10T19:04:17.929Z"
   },
   {
    "duration": 3,
    "start_time": "2024-07-10T19:05:12.260Z"
   },
   {
    "duration": 1131,
    "start_time": "2024-07-10T19:05:19.675Z"
   },
   {
    "duration": 69,
    "start_time": "2024-07-10T19:05:20.808Z"
   },
   {
    "duration": 20,
    "start_time": "2024-07-10T19:05:20.879Z"
   },
   {
    "duration": 15,
    "start_time": "2024-07-10T19:05:20.901Z"
   },
   {
    "duration": 14,
    "start_time": "2024-07-10T19:05:20.918Z"
   },
   {
    "duration": 9,
    "start_time": "2024-07-10T19:05:20.946Z"
   },
   {
    "duration": 32,
    "start_time": "2024-07-10T19:05:20.956Z"
   },
   {
    "duration": 8,
    "start_time": "2024-07-10T19:05:20.990Z"
   },
   {
    "duration": 12,
    "start_time": "2024-07-10T19:05:20.999Z"
   },
   {
    "duration": 10,
    "start_time": "2024-07-10T19:05:21.013Z"
   },
   {
    "duration": 23,
    "start_time": "2024-07-10T19:05:21.024Z"
   },
   {
    "duration": 6,
    "start_time": "2024-07-10T19:05:21.048Z"
   },
   {
    "duration": 5,
    "start_time": "2024-07-10T19:05:21.055Z"
   },
   {
    "duration": 11,
    "start_time": "2024-07-10T19:05:21.064Z"
   },
   {
    "duration": 11,
    "start_time": "2024-07-10T19:05:21.076Z"
   },
   {
    "duration": 59,
    "start_time": "2024-07-10T19:05:21.088Z"
   },
   {
    "duration": 211,
    "start_time": "2024-07-10T19:05:21.148Z"
   },
   {
    "duration": 10,
    "start_time": "2024-07-10T19:05:21.361Z"
   },
   {
    "duration": 259,
    "start_time": "2024-07-10T19:05:21.372Z"
   },
   {
    "duration": 4,
    "start_time": "2024-07-10T19:05:21.633Z"
   },
   {
    "duration": 9,
    "start_time": "2024-07-10T19:05:21.645Z"
   },
   {
    "duration": 208,
    "start_time": "2024-07-10T19:05:21.656Z"
   },
   {
    "duration": 15,
    "start_time": "2024-07-10T19:05:21.865Z"
   },
   {
    "duration": 225,
    "start_time": "2024-07-10T19:05:21.882Z"
   },
   {
    "duration": 198,
    "start_time": "2024-07-10T19:05:22.109Z"
   },
   {
    "duration": 39,
    "start_time": "2024-07-10T19:05:22.308Z"
   },
   {
    "duration": 12,
    "start_time": "2024-07-10T19:05:22.348Z"
   },
   {
    "duration": 3,
    "start_time": "2024-07-10T19:05:22.362Z"
   },
   {
    "duration": 287,
    "start_time": "2024-07-10T19:05:22.367Z"
   },
   {
    "duration": 293,
    "start_time": "2024-07-10T19:05:22.656Z"
   },
   {
    "duration": 33,
    "start_time": "2024-07-10T19:05:22.951Z"
   },
   {
    "duration": 19,
    "start_time": "2024-07-10T19:05:22.986Z"
   },
   {
    "duration": 12,
    "start_time": "2024-07-10T19:05:23.007Z"
   },
   {
    "duration": 29,
    "start_time": "2024-07-10T19:05:23.020Z"
   },
   {
    "duration": 32,
    "start_time": "2024-07-10T19:05:23.051Z"
   },
   {
    "duration": 9,
    "start_time": "2024-07-10T19:05:23.084Z"
   },
   {
    "duration": 5,
    "start_time": "2024-07-10T19:05:23.095Z"
   },
   {
    "duration": 3,
    "start_time": "2024-07-10T19:10:57.700Z"
   },
   {
    "duration": 5,
    "start_time": "2024-07-10T19:10:58.523Z"
   },
   {
    "duration": 5,
    "start_time": "2024-07-10T19:10:59.779Z"
   },
   {
    "duration": 5,
    "start_time": "2024-07-10T19:11:01.171Z"
   },
   {
    "duration": 21,
    "start_time": "2024-07-10T19:12:51.460Z"
   },
   {
    "duration": 40,
    "start_time": "2024-07-10T19:13:31.877Z"
   },
   {
    "duration": 19,
    "start_time": "2024-07-10T19:13:42.409Z"
   },
   {
    "duration": 7,
    "start_time": "2024-07-10T19:53:56.928Z"
   },
   {
    "duration": 4,
    "start_time": "2024-07-10T19:54:11.769Z"
   },
   {
    "duration": 4,
    "start_time": "2024-07-10T19:54:35.362Z"
   },
   {
    "duration": 4,
    "start_time": "2024-07-10T19:54:49.462Z"
   },
   {
    "duration": 4,
    "start_time": "2024-07-10T19:55:28.213Z"
   },
   {
    "duration": 5,
    "start_time": "2024-07-10T19:56:30.078Z"
   },
   {
    "duration": 4,
    "start_time": "2024-07-10T19:56:39.342Z"
   },
   {
    "duration": 49,
    "start_time": "2024-07-11T04:16:45.743Z"
   },
   {
    "duration": 1281,
    "start_time": "2024-07-11T04:16:51.293Z"
   },
   {
    "duration": 212,
    "start_time": "2024-07-11T04:16:52.576Z"
   },
   {
    "duration": 22,
    "start_time": "2024-07-11T04:16:52.789Z"
   },
   {
    "duration": 18,
    "start_time": "2024-07-11T04:16:52.813Z"
   },
   {
    "duration": 14,
    "start_time": "2024-07-11T04:16:52.834Z"
   },
   {
    "duration": 9,
    "start_time": "2024-07-11T04:16:52.850Z"
   },
   {
    "duration": 22,
    "start_time": "2024-07-11T04:16:52.860Z"
   },
   {
    "duration": 11,
    "start_time": "2024-07-11T04:16:52.905Z"
   },
   {
    "duration": 16,
    "start_time": "2024-07-11T04:16:52.918Z"
   },
   {
    "duration": 13,
    "start_time": "2024-07-11T04:16:52.936Z"
   },
   {
    "duration": 14,
    "start_time": "2024-07-11T04:16:52.951Z"
   },
   {
    "duration": 39,
    "start_time": "2024-07-11T04:16:52.967Z"
   },
   {
    "duration": 8,
    "start_time": "2024-07-11T04:16:53.011Z"
   },
   {
    "duration": 14,
    "start_time": "2024-07-11T04:16:53.023Z"
   },
   {
    "duration": 5,
    "start_time": "2024-07-11T04:16:53.039Z"
   },
   {
    "duration": 34,
    "start_time": "2024-07-11T04:16:53.045Z"
   },
   {
    "duration": 196,
    "start_time": "2024-07-11T04:16:53.105Z"
   },
   {
    "duration": 10,
    "start_time": "2024-07-11T04:16:53.305Z"
   },
   {
    "duration": 235,
    "start_time": "2024-07-11T04:16:53.316Z"
   },
   {
    "duration": 4,
    "start_time": "2024-07-11T04:16:53.552Z"
   },
   {
    "duration": 13,
    "start_time": "2024-07-11T04:16:53.557Z"
   },
   {
    "duration": 198,
    "start_time": "2024-07-11T04:16:53.571Z"
   },
   {
    "duration": 13,
    "start_time": "2024-07-11T04:16:53.770Z"
   },
   {
    "duration": 191,
    "start_time": "2024-07-11T04:16:53.785Z"
   },
   {
    "duration": 196,
    "start_time": "2024-07-11T04:16:53.978Z"
   },
   {
    "duration": 38,
    "start_time": "2024-07-11T04:16:54.176Z"
   },
   {
    "duration": 13,
    "start_time": "2024-07-11T04:16:54.215Z"
   },
   {
    "duration": 4,
    "start_time": "2024-07-11T04:16:54.229Z"
   },
   {
    "duration": 264,
    "start_time": "2024-07-11T04:16:54.235Z"
   },
   {
    "duration": 279,
    "start_time": "2024-07-11T04:16:54.501Z"
   },
   {
    "duration": 42,
    "start_time": "2024-07-11T04:16:54.781Z"
   },
   {
    "duration": 24,
    "start_time": "2024-07-11T04:16:54.824Z"
   },
   {
    "duration": 13,
    "start_time": "2024-07-11T04:16:54.849Z"
   },
   {
    "duration": 108,
    "start_time": "2024-07-11T04:16:54.864Z"
   },
   {
    "duration": 2,
    "start_time": "2024-07-11T04:16:54.974Z"
   },
   {
    "duration": 9,
    "start_time": "2024-07-11T04:16:54.978Z"
   },
   {
    "duration": 17,
    "start_time": "2024-07-11T04:16:54.988Z"
   },
   {
    "duration": 4,
    "start_time": "2024-07-11T04:16:55.006Z"
   },
   {
    "duration": 9,
    "start_time": "2024-07-11T04:16:55.011Z"
   },
   {
    "duration": 16,
    "start_time": "2024-07-11T04:16:55.021Z"
   },
   {
    "duration": 3,
    "start_time": "2024-07-11T04:16:55.041Z"
   },
   {
    "duration": 15,
    "start_time": "2024-07-11T04:16:55.045Z"
   },
   {
    "duration": 11,
    "start_time": "2024-07-11T04:21:13.674Z"
   },
   {
    "duration": 14,
    "start_time": "2024-07-11T04:23:20.155Z"
   },
   {
    "duration": 12,
    "start_time": "2024-07-11T04:24:19.056Z"
   },
   {
    "duration": 14,
    "start_time": "2024-07-11T04:29:55.407Z"
   },
   {
    "duration": 14,
    "start_time": "2024-07-11T04:31:16.970Z"
   },
   {
    "duration": 4,
    "start_time": "2024-07-11T04:32:12.128Z"
   },
   {
    "duration": 14,
    "start_time": "2024-07-11T04:32:26.596Z"
   },
   {
    "duration": 5,
    "start_time": "2024-07-11T04:32:28.079Z"
   },
   {
    "duration": 5,
    "start_time": "2024-07-11T04:32:48.656Z"
   },
   {
    "duration": 14,
    "start_time": "2024-07-11T04:36:16.897Z"
   },
   {
    "duration": 4,
    "start_time": "2024-07-11T04:36:17.894Z"
   },
   {
    "duration": 5,
    "start_time": "2024-07-11T04:36:18.558Z"
   },
   {
    "duration": 5,
    "start_time": "2024-07-11T04:37:23.116Z"
   },
   {
    "duration": 13,
    "start_time": "2024-07-11T04:39:48.860Z"
   },
   {
    "duration": 4,
    "start_time": "2024-07-11T04:40:06.876Z"
   },
   {
    "duration": 5,
    "start_time": "2024-07-11T04:40:07.895Z"
   },
   {
    "duration": 4,
    "start_time": "2024-07-11T04:40:15.237Z"
   },
   {
    "duration": 4,
    "start_time": "2024-07-11T04:40:15.993Z"
   },
   {
    "duration": 4,
    "start_time": "2024-07-11T04:40:25.094Z"
   },
   {
    "duration": 3,
    "start_time": "2024-07-11T04:40:25.776Z"
   },
   {
    "duration": 6,
    "start_time": "2024-07-11T04:42:32.883Z"
   },
   {
    "duration": 6,
    "start_time": "2024-07-11T04:43:14.922Z"
   },
   {
    "duration": 6,
    "start_time": "2024-07-11T04:43:39.336Z"
   },
   {
    "duration": 9,
    "start_time": "2024-07-11T04:46:35.407Z"
   },
   {
    "duration": 94,
    "start_time": "2024-07-11T04:46:37.095Z"
   },
   {
    "duration": 10,
    "start_time": "2024-07-11T04:46:59.491Z"
   },
   {
    "duration": 22,
    "start_time": "2024-07-11T04:47:18.372Z"
   },
   {
    "duration": 18,
    "start_time": "2024-07-11T04:47:32.514Z"
   },
   {
    "duration": 12,
    "start_time": "2024-07-11T04:47:47.327Z"
   },
   {
    "duration": 9,
    "start_time": "2024-07-11T04:47:59.087Z"
   },
   {
    "duration": 5,
    "start_time": "2024-07-11T04:48:00.567Z"
   },
   {
    "duration": 14,
    "start_time": "2024-07-11T04:48:04.148Z"
   },
   {
    "duration": 14,
    "start_time": "2024-07-11T04:48:30.069Z"
   },
   {
    "duration": 11,
    "start_time": "2024-07-11T04:48:49.659Z"
   },
   {
    "duration": 13,
    "start_time": "2024-07-11T04:48:53.874Z"
   },
   {
    "duration": 10,
    "start_time": "2024-07-11T04:49:22.083Z"
   },
   {
    "duration": 5,
    "start_time": "2024-07-11T04:49:23.522Z"
   },
   {
    "duration": 12,
    "start_time": "2024-07-11T04:49:26.382Z"
   },
   {
    "duration": 13,
    "start_time": "2024-07-11T04:49:52.070Z"
   },
   {
    "duration": 10,
    "start_time": "2024-07-11T04:52:00.199Z"
   },
   {
    "duration": 15,
    "start_time": "2024-07-11T04:52:06.615Z"
   },
   {
    "duration": 16,
    "start_time": "2024-07-11T04:52:19.222Z"
   },
   {
    "duration": 13,
    "start_time": "2024-07-11T04:52:31.838Z"
   },
   {
    "duration": 4,
    "start_time": "2024-07-11T04:52:33.055Z"
   },
   {
    "duration": 5,
    "start_time": "2024-07-11T04:52:42.984Z"
   },
   {
    "duration": 5,
    "start_time": "2024-07-11T04:58:31.015Z"
   },
   {
    "duration": 5,
    "start_time": "2024-07-11T04:58:47.616Z"
   },
   {
    "duration": 5,
    "start_time": "2024-07-11T04:59:32.715Z"
   },
   {
    "duration": 6,
    "start_time": "2024-07-11T04:59:33.101Z"
   },
   {
    "duration": 3,
    "start_time": "2024-07-11T05:23:55.453Z"
   },
   {
    "duration": 265,
    "start_time": "2024-07-11T05:24:22.892Z"
   },
   {
    "duration": 207,
    "start_time": "2024-07-11T05:24:33.616Z"
   },
   {
    "duration": 144,
    "start_time": "2024-07-11T05:24:39.659Z"
   },
   {
    "duration": 387,
    "start_time": "2024-07-11T05:31:43.529Z"
   },
   {
    "duration": 261,
    "start_time": "2024-07-11T05:31:51.801Z"
   },
   {
    "duration": 1584,
    "start_time": "2024-07-11T05:32:11.210Z"
   },
   {
    "duration": 8335,
    "start_time": "2024-07-11T05:36:05.922Z"
   },
   {
    "duration": 856,
    "start_time": "2024-07-11T05:36:24.176Z"
   },
   {
    "duration": 2213,
    "start_time": "2024-07-11T05:40:17.109Z"
   },
   {
    "duration": 3,
    "start_time": "2024-07-11T05:43:40.598Z"
   },
   {
    "duration": 3,
    "start_time": "2024-07-11T05:43:43.196Z"
   },
   {
    "duration": 5,
    "start_time": "2024-07-11T05:43:53.456Z"
   },
   {
    "duration": 3,
    "start_time": "2024-07-11T05:44:03.139Z"
   },
   {
    "duration": 5,
    "start_time": "2024-07-11T05:44:04.528Z"
   },
   {
    "duration": 3,
    "start_time": "2024-07-11T05:44:13.240Z"
   },
   {
    "duration": 4,
    "start_time": "2024-07-11T05:44:14.300Z"
   },
   {
    "duration": 2,
    "start_time": "2024-07-11T05:44:43.450Z"
   },
   {
    "duration": 5,
    "start_time": "2024-07-11T05:44:44.688Z"
   },
   {
    "duration": 2,
    "start_time": "2024-07-11T05:45:04.218Z"
   },
   {
    "duration": 5,
    "start_time": "2024-07-11T05:45:05.348Z"
   },
   {
    "duration": 3,
    "start_time": "2024-07-11T05:45:21.908Z"
   },
   {
    "duration": 5,
    "start_time": "2024-07-11T05:45:23.508Z"
   },
   {
    "duration": 3,
    "start_time": "2024-07-11T05:45:28.056Z"
   },
   {
    "duration": 5,
    "start_time": "2024-07-11T05:45:29.577Z"
   },
   {
    "duration": 2,
    "start_time": "2024-07-11T05:45:36.689Z"
   },
   {
    "duration": 5,
    "start_time": "2024-07-11T05:45:37.729Z"
   },
   {
    "duration": 2,
    "start_time": "2024-07-11T05:45:42.205Z"
   },
   {
    "duration": 5,
    "start_time": "2024-07-11T05:45:42.577Z"
   },
   {
    "duration": 3,
    "start_time": "2024-07-11T05:45:48.361Z"
   },
   {
    "duration": 5,
    "start_time": "2024-07-11T05:45:48.969Z"
   },
   {
    "duration": 3,
    "start_time": "2024-07-11T05:45:53.479Z"
   },
   {
    "duration": 6,
    "start_time": "2024-07-11T05:45:53.984Z"
   },
   {
    "duration": 1542,
    "start_time": "2024-07-11T05:54:54.617Z"
   },
   {
    "duration": 922,
    "start_time": "2024-07-11T05:55:07.587Z"
   },
   {
    "duration": 250,
    "start_time": "2024-07-11T05:55:22.215Z"
   },
   {
    "duration": 250,
    "start_time": "2024-07-11T05:55:36.176Z"
   },
   {
    "duration": 1680,
    "start_time": "2024-07-11T05:55:53.468Z"
   },
   {
    "duration": 357,
    "start_time": "2024-07-11T05:56:17.968Z"
   },
   {
    "duration": 276,
    "start_time": "2024-07-11T05:56:47.764Z"
   },
   {
    "duration": 321,
    "start_time": "2024-07-11T05:56:58.820Z"
   },
   {
    "duration": 2261,
    "start_time": "2024-07-11T05:57:02.230Z"
   },
   {
    "duration": 3,
    "start_time": "2024-07-11T06:02:44.303Z"
   },
   {
    "duration": 4,
    "start_time": "2024-07-11T06:05:54.989Z"
   },
   {
    "duration": 3,
    "start_time": "2024-07-11T06:06:03.572Z"
   },
   {
    "duration": 4,
    "start_time": "2024-07-11T06:06:04.213Z"
   },
   {
    "duration": 128,
    "start_time": "2024-07-11T06:06:10.140Z"
   },
   {
    "duration": 3,
    "start_time": "2024-07-11T06:06:47.065Z"
   },
   {
    "duration": 5,
    "start_time": "2024-07-11T06:06:48.706Z"
   },
   {
    "duration": 3,
    "start_time": "2024-07-11T06:07:01.462Z"
   },
   {
    "duration": 4,
    "start_time": "2024-07-11T06:07:02.585Z"
   },
   {
    "duration": 3,
    "start_time": "2024-07-11T06:07:13.362Z"
   },
   {
    "duration": 5,
    "start_time": "2024-07-11T06:07:15.218Z"
   },
   {
    "duration": 3,
    "start_time": "2024-07-11T06:07:20.354Z"
   },
   {
    "duration": 5,
    "start_time": "2024-07-11T06:07:21.662Z"
   },
   {
    "duration": 2,
    "start_time": "2024-07-11T06:07:42.756Z"
   },
   {
    "duration": 140,
    "start_time": "2024-07-11T06:07:43.770Z"
   },
   {
    "duration": 3,
    "start_time": "2024-07-11T06:07:48.572Z"
   },
   {
    "duration": 147,
    "start_time": "2024-07-11T06:07:49.563Z"
   },
   {
    "duration": 3,
    "start_time": "2024-07-11T06:08:19.623Z"
   },
   {
    "duration": 2,
    "start_time": "2024-07-11T06:08:30.672Z"
   },
   {
    "duration": 8,
    "start_time": "2024-07-11T06:08:31.562Z"
   },
   {
    "duration": 3,
    "start_time": "2024-07-11T06:09:09.411Z"
   },
   {
    "duration": 127,
    "start_time": "2024-07-11T06:09:10.292Z"
   },
   {
    "duration": 3,
    "start_time": "2024-07-11T06:09:24.773Z"
   },
   {
    "duration": 113,
    "start_time": "2024-07-11T06:09:25.537Z"
   },
   {
    "duration": 3,
    "start_time": "2024-07-11T06:09:36.371Z"
   },
   {
    "duration": 4,
    "start_time": "2024-07-11T06:09:38.510Z"
   },
   {
    "duration": 3,
    "start_time": "2024-07-11T06:09:47.071Z"
   },
   {
    "duration": 5,
    "start_time": "2024-07-11T06:09:48.407Z"
   },
   {
    "duration": 127,
    "start_time": "2024-07-11T06:10:04.618Z"
   },
   {
    "duration": 2,
    "start_time": "2024-07-11T06:10:06.571Z"
   },
   {
    "duration": 141,
    "start_time": "2024-07-11T06:10:06.839Z"
   },
   {
    "duration": 128,
    "start_time": "2024-07-11T06:10:21.485Z"
   },
   {
    "duration": 2,
    "start_time": "2024-07-11T06:10:26.175Z"
   },
   {
    "duration": 128,
    "start_time": "2024-07-11T06:10:26.551Z"
   },
   {
    "duration": 149,
    "start_time": "2024-07-11T06:11:17.735Z"
   },
   {
    "duration": 127,
    "start_time": "2024-07-11T06:12:43.390Z"
   },
   {
    "duration": 2,
    "start_time": "2024-07-11T06:16:20.755Z"
   },
   {
    "duration": 135,
    "start_time": "2024-07-11T06:16:22.251Z"
   },
   {
    "duration": 3,
    "start_time": "2024-07-11T06:18:02.067Z"
   },
   {
    "duration": 141,
    "start_time": "2024-07-11T06:18:03.159Z"
   },
   {
    "duration": 2,
    "start_time": "2024-07-11T06:19:33.218Z"
   },
   {
    "duration": 253,
    "start_time": "2024-07-11T06:20:03.471Z"
   },
   {
    "duration": 132,
    "start_time": "2024-07-11T06:20:15.423Z"
   },
   {
    "duration": 130,
    "start_time": "2024-07-11T06:20:24.175Z"
   },
   {
    "duration": 124,
    "start_time": "2024-07-11T06:20:50.491Z"
   },
   {
    "duration": 1655,
    "start_time": "2024-07-11T06:22:22.576Z"
   },
   {
    "duration": 2480,
    "start_time": "2024-07-11T06:22:46.706Z"
   },
   {
    "duration": 253,
    "start_time": "2024-07-11T06:23:07.204Z"
   },
   {
    "duration": 258,
    "start_time": "2024-07-11T06:24:57.357Z"
   },
   {
    "duration": 1729,
    "start_time": "2024-07-11T06:26:27.217Z"
   },
   {
    "duration": 170,
    "start_time": "2024-07-11T06:27:44.646Z"
   },
   {
    "duration": 793,
    "start_time": "2024-07-11T06:28:40.903Z"
   },
   {
    "duration": 118,
    "start_time": "2024-07-11T06:30:11.812Z"
   },
   {
    "duration": 244,
    "start_time": "2024-07-11T06:30:52.382Z"
   },
   {
    "duration": 127,
    "start_time": "2024-07-11T06:31:13.742Z"
   },
   {
    "duration": 2527,
    "start_time": "2024-07-11T06:31:32.513Z"
   },
   {
    "duration": 812,
    "start_time": "2024-07-11T06:32:42.889Z"
   },
   {
    "duration": 219,
    "start_time": "2024-07-11T06:33:30.689Z"
   },
   {
    "duration": 172,
    "start_time": "2024-07-11T06:33:41.224Z"
   },
   {
    "duration": 156,
    "start_time": "2024-07-11T06:33:51.433Z"
   },
   {
    "duration": 165,
    "start_time": "2024-07-11T06:36:16.776Z"
   },
   {
    "duration": 133,
    "start_time": "2024-07-11T06:36:21.983Z"
   },
   {
    "duration": 14488,
    "start_time": "2024-07-11T06:36:47.340Z"
   },
   {
    "duration": 13571,
    "start_time": "2024-07-11T06:37:34.969Z"
   },
   {
    "duration": 244,
    "start_time": "2024-07-11T06:38:20.326Z"
   },
   {
    "duration": 261,
    "start_time": "2024-07-11T06:39:01.368Z"
   },
   {
    "duration": 261,
    "start_time": "2024-07-11T06:40:17.327Z"
   },
   {
    "duration": 256,
    "start_time": "2024-07-11T06:40:21.544Z"
   },
   {
    "duration": 2839,
    "start_time": "2024-07-11T06:40:38.661Z"
   },
   {
    "duration": 1886,
    "start_time": "2024-07-11T06:41:06.218Z"
   },
   {
    "duration": 253,
    "start_time": "2024-07-11T06:41:31.659Z"
   },
   {
    "duration": 1713,
    "start_time": "2024-07-11T06:41:41.268Z"
   },
   {
    "duration": 1643,
    "start_time": "2024-07-11T06:42:50.685Z"
   },
   {
    "duration": 3,
    "start_time": "2024-07-11T06:56:12.678Z"
   },
   {
    "duration": 4,
    "start_time": "2024-07-11T06:56:22.583Z"
   },
   {
    "duration": 2,
    "start_time": "2024-07-11T06:56:38.307Z"
   },
   {
    "duration": 5,
    "start_time": "2024-07-11T06:56:39.666Z"
   },
   {
    "duration": 3,
    "start_time": "2024-07-11T06:56:51.745Z"
   },
   {
    "duration": 4,
    "start_time": "2024-07-11T06:56:54.743Z"
   },
   {
    "duration": 2,
    "start_time": "2024-07-11T06:57:38.342Z"
   },
   {
    "duration": 4,
    "start_time": "2024-07-11T06:57:38.710Z"
   },
   {
    "duration": 11,
    "start_time": "2024-07-11T06:58:45.127Z"
   },
   {
    "duration": 4,
    "start_time": "2024-07-11T06:58:51.686Z"
   },
   {
    "duration": 4,
    "start_time": "2024-07-11T06:59:08.356Z"
   },
   {
    "duration": 4,
    "start_time": "2024-07-11T07:12:41.449Z"
   },
   {
    "duration": 3,
    "start_time": "2024-07-11T07:13:05.146Z"
   },
   {
    "duration": 4,
    "start_time": "2024-07-11T07:13:15.487Z"
   },
   {
    "duration": 9,
    "start_time": "2024-07-11T07:14:10.367Z"
   },
   {
    "duration": 3,
    "start_time": "2024-07-11T07:16:44.108Z"
   },
   {
    "duration": 3,
    "start_time": "2024-07-11T07:16:49.571Z"
   },
   {
    "duration": 4,
    "start_time": "2024-07-11T07:16:52.459Z"
   },
   {
    "duration": 4,
    "start_time": "2024-07-11T07:20:52.948Z"
   },
   {
    "duration": 5,
    "start_time": "2024-07-11T07:21:34.264Z"
   },
   {
    "duration": 8,
    "start_time": "2024-07-11T07:24:17.352Z"
   },
   {
    "duration": 147,
    "start_time": "2024-07-11T07:28:09.217Z"
   },
   {
    "duration": 164,
    "start_time": "2024-07-11T07:28:29.113Z"
   },
   {
    "duration": 140,
    "start_time": "2024-07-11T07:28:38.905Z"
   },
   {
    "duration": 6,
    "start_time": "2024-07-11T07:34:13.178Z"
   },
   {
    "duration": 5,
    "start_time": "2024-07-11T07:34:34.259Z"
   },
   {
    "duration": 159,
    "start_time": "2024-07-11T07:36:02.764Z"
   },
   {
    "duration": 133,
    "start_time": "2024-07-11T07:36:27.237Z"
   },
   {
    "duration": 140,
    "start_time": "2024-07-11T07:37:11.154Z"
   },
   {
    "duration": 1282,
    "start_time": "2024-07-11T07:40:26.777Z"
   },
   {
    "duration": 78,
    "start_time": "2024-07-11T07:40:28.062Z"
   },
   {
    "duration": 31,
    "start_time": "2024-07-11T07:40:28.142Z"
   },
   {
    "duration": 21,
    "start_time": "2024-07-11T07:40:28.176Z"
   },
   {
    "duration": 26,
    "start_time": "2024-07-11T07:40:28.198Z"
   },
   {
    "duration": 12,
    "start_time": "2024-07-11T07:40:28.226Z"
   },
   {
    "duration": 15,
    "start_time": "2024-07-11T07:40:28.241Z"
   },
   {
    "duration": 11,
    "start_time": "2024-07-11T07:40:28.258Z"
   },
   {
    "duration": 12,
    "start_time": "2024-07-11T07:40:28.306Z"
   },
   {
    "duration": 24,
    "start_time": "2024-07-11T07:40:28.321Z"
   },
   {
    "duration": 13,
    "start_time": "2024-07-11T07:40:28.347Z"
   },
   {
    "duration": 5,
    "start_time": "2024-07-11T07:40:28.363Z"
   },
   {
    "duration": 35,
    "start_time": "2024-07-11T07:40:28.370Z"
   },
   {
    "duration": 13,
    "start_time": "2024-07-11T07:40:28.407Z"
   },
   {
    "duration": 4,
    "start_time": "2024-07-11T07:40:28.422Z"
   },
   {
    "duration": 49,
    "start_time": "2024-07-11T07:40:28.428Z"
   },
   {
    "duration": 242,
    "start_time": "2024-07-11T07:40:28.505Z"
   },
   {
    "duration": 16,
    "start_time": "2024-07-11T07:40:28.749Z"
   },
   {
    "duration": 327,
    "start_time": "2024-07-11T07:40:28.767Z"
   },
   {
    "duration": 10,
    "start_time": "2024-07-11T07:40:29.096Z"
   },
   {
    "duration": 11,
    "start_time": "2024-07-11T07:40:29.108Z"
   },
   {
    "duration": 231,
    "start_time": "2024-07-11T07:40:29.121Z"
   },
   {
    "duration": 20,
    "start_time": "2024-07-11T07:40:29.354Z"
   },
   {
    "duration": 204,
    "start_time": "2024-07-11T07:40:29.376Z"
   },
   {
    "duration": 225,
    "start_time": "2024-07-11T07:40:29.582Z"
   },
   {
    "duration": 33,
    "start_time": "2024-07-11T07:40:29.808Z"
   },
   {
    "duration": 19,
    "start_time": "2024-07-11T07:40:29.843Z"
   },
   {
    "duration": 6,
    "start_time": "2024-07-11T07:40:29.868Z"
   },
   {
    "duration": 307,
    "start_time": "2024-07-11T07:40:29.876Z"
   },
   {
    "duration": 324,
    "start_time": "2024-07-11T07:40:30.184Z"
   },
   {
    "duration": 43,
    "start_time": "2024-07-11T07:40:30.510Z"
   },
   {
    "duration": 102,
    "start_time": "2024-07-11T07:40:30.555Z"
   },
   {
    "duration": 41,
    "start_time": "2024-07-11T07:40:30.659Z"
   },
   {
    "duration": 38,
    "start_time": "2024-07-11T07:40:30.702Z"
   },
   {
    "duration": 127,
    "start_time": "2024-07-11T07:40:30.742Z"
   },
   {
    "duration": 262,
    "start_time": "2024-07-11T07:40:30.871Z"
   },
   {
    "duration": 79,
    "start_time": "2024-07-11T07:40:31.135Z"
   },
   {
    "duration": 75,
    "start_time": "2024-07-11T07:40:31.216Z"
   },
   {
    "duration": 230,
    "start_time": "2024-07-11T07:40:31.293Z"
   },
   {
    "duration": 40,
    "start_time": "2024-07-11T07:40:31.525Z"
   },
   {
    "duration": 24,
    "start_time": "2024-07-11T07:40:31.567Z"
   },
   {
    "duration": 33,
    "start_time": "2024-07-11T07:40:31.593Z"
   },
   {
    "duration": 54,
    "start_time": "2024-07-11T07:40:31.627Z"
   },
   {
    "duration": 15,
    "start_time": "2024-07-11T07:40:31.683Z"
   },
   {
    "duration": 24,
    "start_time": "2024-07-11T07:40:31.700Z"
   },
   {
    "duration": 29,
    "start_time": "2024-07-11T07:40:31.725Z"
   },
   {
    "duration": 31,
    "start_time": "2024-07-11T07:40:31.756Z"
   },
   {
    "duration": 172,
    "start_time": "2024-07-11T07:40:31.789Z"
   },
   {
    "duration": 2004,
    "start_time": "2024-07-11T07:40:31.963Z"
   },
   {
    "duration": 3,
    "start_time": "2024-07-11T07:40:33.969Z"
   },
   {
    "duration": 6,
    "start_time": "2024-07-11T07:40:33.974Z"
   },
   {
    "duration": 24,
    "start_time": "2024-07-11T07:40:33.982Z"
   },
   {
    "duration": 77,
    "start_time": "2024-07-11T07:40:34.008Z"
   },
   {
    "duration": 195,
    "start_time": "2024-07-11T07:40:34.087Z"
   },
   {
    "duration": 5,
    "start_time": "2024-07-11T07:43:23.104Z"
   },
   {
    "duration": 6,
    "start_time": "2024-07-11T07:43:32.775Z"
   },
   {
    "duration": 4,
    "start_time": "2024-07-11T07:44:07.444Z"
   },
   {
    "duration": 255,
    "start_time": "2024-07-11T08:01:57.006Z"
   },
   {
    "duration": 269,
    "start_time": "2024-07-11T08:02:00.098Z"
   },
   {
    "duration": 7,
    "start_time": "2024-07-11T08:07:47.875Z"
   },
   {
    "duration": 3,
    "start_time": "2024-07-11T08:34:12.701Z"
   },
   {
    "duration": 4,
    "start_time": "2024-07-11T08:34:14.461Z"
   },
   {
    "duration": 5,
    "start_time": "2024-07-11T08:34:19.460Z"
   },
   {
    "duration": 4,
    "start_time": "2024-07-11T08:34:20.060Z"
   },
   {
    "duration": 1225,
    "start_time": "2024-07-11T09:06:02.616Z"
   },
   {
    "duration": 75,
    "start_time": "2024-07-11T09:06:03.843Z"
   },
   {
    "duration": 30,
    "start_time": "2024-07-11T09:06:03.919Z"
   },
   {
    "duration": 25,
    "start_time": "2024-07-11T09:06:03.951Z"
   },
   {
    "duration": 29,
    "start_time": "2024-07-11T09:06:03.978Z"
   },
   {
    "duration": 8,
    "start_time": "2024-07-11T09:06:04.009Z"
   },
   {
    "duration": 19,
    "start_time": "2024-07-11T09:06:04.018Z"
   },
   {
    "duration": 7,
    "start_time": "2024-07-11T09:06:04.039Z"
   },
   {
    "duration": 13,
    "start_time": "2024-07-11T09:06:04.048Z"
   },
   {
    "duration": 20,
    "start_time": "2024-07-11T09:06:04.063Z"
   },
   {
    "duration": 27,
    "start_time": "2024-07-11T09:06:04.085Z"
   },
   {
    "duration": 21,
    "start_time": "2024-07-11T09:06:04.114Z"
   },
   {
    "duration": 48,
    "start_time": "2024-07-11T09:06:04.137Z"
   },
   {
    "duration": 16,
    "start_time": "2024-07-11T09:06:04.189Z"
   },
   {
    "duration": 45,
    "start_time": "2024-07-11T09:06:04.207Z"
   },
   {
    "duration": 60,
    "start_time": "2024-07-11T09:06:04.254Z"
   },
   {
    "duration": 245,
    "start_time": "2024-07-11T09:06:04.316Z"
   },
   {
    "duration": 11,
    "start_time": "2024-07-11T09:06:04.562Z"
   },
   {
    "duration": 274,
    "start_time": "2024-07-11T09:06:04.575Z"
   },
   {
    "duration": 5,
    "start_time": "2024-07-11T09:06:04.851Z"
   },
   {
    "duration": 19,
    "start_time": "2024-07-11T09:06:04.858Z"
   },
   {
    "duration": 188,
    "start_time": "2024-07-11T09:06:04.878Z"
   },
   {
    "duration": 20,
    "start_time": "2024-07-11T09:06:05.067Z"
   },
   {
    "duration": 214,
    "start_time": "2024-07-11T09:06:05.105Z"
   },
   {
    "duration": 230,
    "start_time": "2024-07-11T09:06:05.320Z"
   },
   {
    "duration": 33,
    "start_time": "2024-07-11T09:06:05.552Z"
   },
   {
    "duration": 26,
    "start_time": "2024-07-11T09:06:05.587Z"
   },
   {
    "duration": 38,
    "start_time": "2024-07-11T09:06:05.614Z"
   },
   {
    "duration": 286,
    "start_time": "2024-07-11T09:06:05.654Z"
   },
   {
    "duration": 313,
    "start_time": "2024-07-11T09:06:05.941Z"
   },
   {
    "duration": 33,
    "start_time": "2024-07-11T09:06:06.255Z"
   },
   {
    "duration": 93,
    "start_time": "2024-07-11T09:06:06.290Z"
   },
   {
    "duration": 12,
    "start_time": "2024-07-11T09:06:06.384Z"
   },
   {
    "duration": 20,
    "start_time": "2024-07-11T09:06:06.398Z"
   },
   {
    "duration": 44,
    "start_time": "2024-07-11T09:06:06.419Z"
   },
   {
    "duration": 28,
    "start_time": "2024-07-11T09:06:06.465Z"
   },
   {
    "duration": 84,
    "start_time": "2024-07-11T09:06:06.495Z"
   },
   {
    "duration": 22,
    "start_time": "2024-07-11T09:06:06.581Z"
   },
   {
    "duration": 36,
    "start_time": "2024-07-11T09:06:06.605Z"
   },
   {
    "duration": 55,
    "start_time": "2024-07-11T09:06:06.643Z"
   },
   {
    "duration": 31,
    "start_time": "2024-07-11T09:06:06.702Z"
   },
   {
    "duration": 16,
    "start_time": "2024-07-11T09:06:06.734Z"
   },
   {
    "duration": 26,
    "start_time": "2024-07-11T09:06:06.752Z"
   },
   {
    "duration": 40,
    "start_time": "2024-07-11T09:06:06.780Z"
   },
   {
    "duration": 9,
    "start_time": "2024-07-11T09:06:06.822Z"
   },
   {
    "duration": 44,
    "start_time": "2024-07-11T09:06:06.833Z"
   },
   {
    "duration": 38,
    "start_time": "2024-07-11T09:06:06.879Z"
   },
   {
    "duration": 34,
    "start_time": "2024-07-11T09:06:06.919Z"
   },
   {
    "duration": 157,
    "start_time": "2024-07-11T09:06:06.955Z"
   },
   {
    "duration": 1895,
    "start_time": "2024-07-11T09:06:07.114Z"
   },
   {
    "duration": 3,
    "start_time": "2024-07-11T09:06:09.011Z"
   },
   {
    "duration": 16,
    "start_time": "2024-07-11T09:06:09.016Z"
   },
   {
    "duration": 5,
    "start_time": "2024-07-11T09:06:09.034Z"
   },
   {
    "duration": 6,
    "start_time": "2024-07-11T09:06:09.041Z"
   },
   {
    "duration": 152,
    "start_time": "2024-07-11T09:06:09.048Z"
   },
   {
    "duration": 21,
    "start_time": "2024-07-11T09:12:24.512Z"
   },
   {
    "duration": 5,
    "start_time": "2024-07-11T09:13:06.143Z"
   },
   {
    "duration": 19,
    "start_time": "2024-07-11T09:13:24.212Z"
   },
   {
    "duration": 6,
    "start_time": "2024-07-11T09:13:37.739Z"
   },
   {
    "duration": 6,
    "start_time": "2024-07-11T09:15:25.467Z"
   },
   {
    "duration": 4,
    "start_time": "2024-07-11T09:16:25.083Z"
   },
   {
    "duration": 4,
    "start_time": "2024-07-11T09:16:40.392Z"
   },
   {
    "duration": 3,
    "start_time": "2024-07-11T09:17:05.249Z"
   },
   {
    "duration": 4,
    "start_time": "2024-07-11T09:17:28.617Z"
   },
   {
    "duration": 1415,
    "start_time": "2024-07-11T09:41:53.536Z"
   },
   {
    "duration": 215,
    "start_time": "2024-07-11T09:41:54.955Z"
   },
   {
    "duration": 25,
    "start_time": "2024-07-11T09:41:55.172Z"
   },
   {
    "duration": 28,
    "start_time": "2024-07-11T09:41:55.198Z"
   },
   {
    "duration": 17,
    "start_time": "2024-07-11T09:41:55.228Z"
   },
   {
    "duration": 10,
    "start_time": "2024-07-11T09:41:55.247Z"
   },
   {
    "duration": 19,
    "start_time": "2024-07-11T09:41:55.259Z"
   },
   {
    "duration": 8,
    "start_time": "2024-07-11T09:41:55.280Z"
   },
   {
    "duration": 14,
    "start_time": "2024-07-11T09:41:55.290Z"
   },
   {
    "duration": 15,
    "start_time": "2024-07-11T09:41:55.307Z"
   },
   {
    "duration": 47,
    "start_time": "2024-07-11T09:41:55.324Z"
   },
   {
    "duration": 8,
    "start_time": "2024-07-11T09:41:55.373Z"
   },
   {
    "duration": 19,
    "start_time": "2024-07-11T09:41:55.383Z"
   },
   {
    "duration": 20,
    "start_time": "2024-07-11T09:41:55.407Z"
   },
   {
    "duration": 29,
    "start_time": "2024-07-11T09:41:55.429Z"
   },
   {
    "duration": 55,
    "start_time": "2024-07-11T09:41:55.463Z"
   },
   {
    "duration": 224,
    "start_time": "2024-07-11T09:41:55.520Z"
   },
   {
    "duration": 14,
    "start_time": "2024-07-11T09:41:55.746Z"
   },
   {
    "duration": 334,
    "start_time": "2024-07-11T09:41:55.761Z"
   },
   {
    "duration": 4,
    "start_time": "2024-07-11T09:41:56.097Z"
   },
   {
    "duration": 18,
    "start_time": "2024-07-11T09:41:56.103Z"
   },
   {
    "duration": 216,
    "start_time": "2024-07-11T09:41:56.123Z"
   },
   {
    "duration": 27,
    "start_time": "2024-07-11T09:41:56.341Z"
   },
   {
    "duration": 227,
    "start_time": "2024-07-11T09:41:56.371Z"
   },
   {
    "duration": 217,
    "start_time": "2024-07-11T09:41:56.600Z"
   },
   {
    "duration": 123,
    "start_time": "2024-07-11T09:41:56.819Z"
   },
   {
    "duration": 0,
    "start_time": "2024-07-11T09:41:56.945Z"
   },
   {
    "duration": 0,
    "start_time": "2024-07-11T09:41:56.947Z"
   },
   {
    "duration": 0,
    "start_time": "2024-07-11T09:41:56.956Z"
   },
   {
    "duration": 0,
    "start_time": "2024-07-11T09:41:56.958Z"
   },
   {
    "duration": 0,
    "start_time": "2024-07-11T09:41:56.959Z"
   },
   {
    "duration": 0,
    "start_time": "2024-07-11T09:41:56.961Z"
   },
   {
    "duration": 0,
    "start_time": "2024-07-11T09:41:56.962Z"
   },
   {
    "duration": 0,
    "start_time": "2024-07-11T09:41:56.964Z"
   },
   {
    "duration": 0,
    "start_time": "2024-07-11T09:41:56.965Z"
   },
   {
    "duration": 0,
    "start_time": "2024-07-11T09:41:56.967Z"
   },
   {
    "duration": 0,
    "start_time": "2024-07-11T09:41:56.968Z"
   },
   {
    "duration": 0,
    "start_time": "2024-07-11T09:41:56.970Z"
   },
   {
    "duration": 0,
    "start_time": "2024-07-11T09:41:56.972Z"
   },
   {
    "duration": 0,
    "start_time": "2024-07-11T09:41:56.974Z"
   },
   {
    "duration": 0,
    "start_time": "2024-07-11T09:41:56.975Z"
   },
   {
    "duration": 0,
    "start_time": "2024-07-11T09:41:56.977Z"
   },
   {
    "duration": 1,
    "start_time": "2024-07-11T09:41:56.978Z"
   },
   {
    "duration": 0,
    "start_time": "2024-07-11T09:41:56.980Z"
   },
   {
    "duration": 0,
    "start_time": "2024-07-11T09:41:56.981Z"
   },
   {
    "duration": 1,
    "start_time": "2024-07-11T09:41:56.982Z"
   },
   {
    "duration": 0,
    "start_time": "2024-07-11T09:41:56.985Z"
   },
   {
    "duration": 0,
    "start_time": "2024-07-11T09:41:56.987Z"
   },
   {
    "duration": 0,
    "start_time": "2024-07-11T09:41:56.988Z"
   },
   {
    "duration": 0,
    "start_time": "2024-07-11T09:41:56.989Z"
   },
   {
    "duration": 0,
    "start_time": "2024-07-11T09:41:56.991Z"
   },
   {
    "duration": 0,
    "start_time": "2024-07-11T09:41:56.993Z"
   },
   {
    "duration": 0,
    "start_time": "2024-07-11T09:41:56.994Z"
   },
   {
    "duration": 0,
    "start_time": "2024-07-11T09:41:56.995Z"
   },
   {
    "duration": 0,
    "start_time": "2024-07-11T09:41:57.056Z"
   },
   {
    "duration": 0,
    "start_time": "2024-07-11T09:41:57.059Z"
   },
   {
    "duration": 0,
    "start_time": "2024-07-11T09:41:57.060Z"
   },
   {
    "duration": 1299,
    "start_time": "2024-07-11T10:42:29.332Z"
   },
   {
    "duration": 211,
    "start_time": "2024-07-11T10:42:30.634Z"
   },
   {
    "duration": 21,
    "start_time": "2024-07-11T10:42:30.847Z"
   },
   {
    "duration": 66,
    "start_time": "2024-07-11T10:42:30.870Z"
   },
   {
    "duration": 45,
    "start_time": "2024-07-11T10:42:30.939Z"
   },
   {
    "duration": 96,
    "start_time": "2024-07-11T10:42:30.985Z"
   },
   {
    "duration": 122,
    "start_time": "2024-07-11T10:42:31.083Z"
   },
   {
    "duration": 186,
    "start_time": "2024-07-11T10:42:31.207Z"
   },
   {
    "duration": 54,
    "start_time": "2024-07-11T10:42:31.395Z"
   },
   {
    "duration": 37,
    "start_time": "2024-07-11T10:42:31.451Z"
   },
   {
    "duration": 347,
    "start_time": "2024-07-11T10:42:31.490Z"
   },
   {
    "duration": 11,
    "start_time": "2024-07-11T10:42:31.838Z"
   },
   {
    "duration": 31,
    "start_time": "2024-07-11T10:42:31.850Z"
   },
   {
    "duration": 20,
    "start_time": "2024-07-11T10:42:31.885Z"
   },
   {
    "duration": 19,
    "start_time": "2024-07-11T10:42:31.906Z"
   },
   {
    "duration": 74,
    "start_time": "2024-07-11T10:42:31.926Z"
   },
   {
    "duration": 304,
    "start_time": "2024-07-11T10:42:32.002Z"
   },
   {
    "duration": 13,
    "start_time": "2024-07-11T10:42:32.307Z"
   },
   {
    "duration": 415,
    "start_time": "2024-07-11T10:42:32.322Z"
   },
   {
    "duration": 4,
    "start_time": "2024-07-11T10:42:32.738Z"
   },
   {
    "duration": 18,
    "start_time": "2024-07-11T10:42:32.744Z"
   },
   {
    "duration": 196,
    "start_time": "2024-07-11T10:42:32.764Z"
   },
   {
    "duration": 14,
    "start_time": "2024-07-11T10:42:32.962Z"
   },
   {
    "duration": 216,
    "start_time": "2024-07-11T10:42:32.978Z"
   },
   {
    "duration": 193,
    "start_time": "2024-07-11T10:42:33.196Z"
   },
   {
    "duration": 43,
    "start_time": "2024-07-11T10:42:33.391Z"
   },
   {
    "duration": 14,
    "start_time": "2024-07-11T10:42:33.436Z"
   },
   {
    "duration": 22,
    "start_time": "2024-07-11T10:42:33.452Z"
   },
   {
    "duration": 288,
    "start_time": "2024-07-11T10:42:33.475Z"
   },
   {
    "duration": 343,
    "start_time": "2024-07-11T10:42:33.764Z"
   },
   {
    "duration": 32,
    "start_time": "2024-07-11T10:42:34.108Z"
   },
   {
    "duration": 27,
    "start_time": "2024-07-11T10:42:34.142Z"
   },
   {
    "duration": 38,
    "start_time": "2024-07-11T10:42:34.170Z"
   },
   {
    "duration": 5,
    "start_time": "2024-07-11T10:42:34.210Z"
   },
   {
    "duration": 27,
    "start_time": "2024-07-11T10:42:34.217Z"
   },
   {
    "duration": 17,
    "start_time": "2024-07-11T10:42:34.246Z"
   },
   {
    "duration": 96,
    "start_time": "2024-07-11T10:42:34.264Z"
   },
   {
    "duration": 8,
    "start_time": "2024-07-11T10:42:34.362Z"
   },
   {
    "duration": 5,
    "start_time": "2024-07-11T10:42:34.372Z"
   },
   {
    "duration": 4,
    "start_time": "2024-07-11T10:42:34.379Z"
   },
   {
    "duration": 3,
    "start_time": "2024-07-11T10:42:34.405Z"
   },
   {
    "duration": 18,
    "start_time": "2024-07-11T10:42:34.410Z"
   },
   {
    "duration": 11,
    "start_time": "2024-07-11T10:42:34.430Z"
   },
   {
    "duration": 22,
    "start_time": "2024-07-11T10:42:34.443Z"
   },
   {
    "duration": 4,
    "start_time": "2024-07-11T10:42:34.467Z"
   },
   {
    "duration": 25,
    "start_time": "2024-07-11T10:42:34.472Z"
   },
   {
    "duration": 17,
    "start_time": "2024-07-11T10:42:34.499Z"
   },
   {
    "duration": 5,
    "start_time": "2024-07-11T10:42:34.518Z"
   },
   {
    "duration": 151,
    "start_time": "2024-07-11T10:42:34.525Z"
   },
   {
    "duration": 1956,
    "start_time": "2024-07-11T10:42:34.678Z"
   },
   {
    "duration": 3,
    "start_time": "2024-07-11T10:42:36.635Z"
   },
   {
    "duration": 59,
    "start_time": "2024-07-11T10:42:36.639Z"
   },
   {
    "duration": 7,
    "start_time": "2024-07-11T10:42:36.700Z"
   },
   {
    "duration": 11,
    "start_time": "2024-07-11T10:42:36.708Z"
   },
   {
    "duration": 148,
    "start_time": "2024-07-11T10:42:36.720Z"
   },
   {
    "duration": 1093,
    "start_time": "2024-07-11T10:45:17.074Z"
   },
   {
    "duration": 66,
    "start_time": "2024-07-11T10:45:18.169Z"
   },
   {
    "duration": 19,
    "start_time": "2024-07-11T10:45:18.236Z"
   },
   {
    "duration": 15,
    "start_time": "2024-07-11T10:45:18.257Z"
   },
   {
    "duration": 12,
    "start_time": "2024-07-11T10:45:18.274Z"
   },
   {
    "duration": 10,
    "start_time": "2024-07-11T10:45:18.288Z"
   },
   {
    "duration": 12,
    "start_time": "2024-07-11T10:45:18.305Z"
   },
   {
    "duration": 7,
    "start_time": "2024-07-11T10:45:18.318Z"
   },
   {
    "duration": 15,
    "start_time": "2024-07-11T10:45:18.327Z"
   },
   {
    "duration": 11,
    "start_time": "2024-07-11T10:45:18.344Z"
   },
   {
    "duration": 18,
    "start_time": "2024-07-11T10:45:18.356Z"
   },
   {
    "duration": 14,
    "start_time": "2024-07-11T10:45:18.375Z"
   },
   {
    "duration": 6,
    "start_time": "2024-07-11T10:45:18.409Z"
   },
   {
    "duration": 14,
    "start_time": "2024-07-11T10:45:18.417Z"
   },
   {
    "duration": 5,
    "start_time": "2024-07-11T10:45:18.433Z"
   },
   {
    "duration": 33,
    "start_time": "2024-07-11T10:45:18.439Z"
   },
   {
    "duration": 225,
    "start_time": "2024-07-11T10:45:18.473Z"
   },
   {
    "duration": 12,
    "start_time": "2024-07-11T10:45:18.700Z"
   },
   {
    "duration": 274,
    "start_time": "2024-07-11T10:45:18.714Z"
   },
   {
    "duration": 4,
    "start_time": "2024-07-11T10:45:18.990Z"
   },
   {
    "duration": 24,
    "start_time": "2024-07-11T10:45:19.005Z"
   },
   {
    "duration": 217,
    "start_time": "2024-07-11T10:45:19.031Z"
   },
   {
    "duration": 15,
    "start_time": "2024-07-11T10:45:19.250Z"
   },
   {
    "duration": 207,
    "start_time": "2024-07-11T10:45:19.267Z"
   },
   {
    "duration": 202,
    "start_time": "2024-07-11T10:45:19.475Z"
   },
   {
    "duration": 37,
    "start_time": "2024-07-11T10:45:19.679Z"
   },
   {
    "duration": 49,
    "start_time": "2024-07-11T10:45:19.718Z"
   },
   {
    "duration": 19,
    "start_time": "2024-07-11T10:45:19.771Z"
   },
   {
    "duration": 276,
    "start_time": "2024-07-11T10:45:19.791Z"
   },
   {
    "duration": 301,
    "start_time": "2024-07-11T10:45:20.068Z"
   },
   {
    "duration": 38,
    "start_time": "2024-07-11T10:45:20.371Z"
   },
   {
    "duration": 21,
    "start_time": "2024-07-11T10:45:20.411Z"
   },
   {
    "duration": 10,
    "start_time": "2024-07-11T10:45:20.434Z"
   },
   {
    "duration": 23,
    "start_time": "2024-07-11T10:45:20.446Z"
   },
   {
    "duration": 23,
    "start_time": "2024-07-11T10:45:20.471Z"
   },
   {
    "duration": 3,
    "start_time": "2024-07-11T10:45:20.505Z"
   },
   {
    "duration": 12,
    "start_time": "2024-07-11T10:45:20.510Z"
   },
   {
    "duration": 9,
    "start_time": "2024-07-11T10:45:20.523Z"
   },
   {
    "duration": 88,
    "start_time": "2024-07-11T10:45:20.534Z"
   },
   {
    "duration": 126,
    "start_time": "2024-07-11T10:45:20.623Z"
   },
   {
    "duration": 24,
    "start_time": "2024-07-11T10:45:20.751Z"
   },
   {
    "duration": 12,
    "start_time": "2024-07-11T10:45:20.777Z"
   },
   {
    "duration": 21,
    "start_time": "2024-07-11T10:45:20.791Z"
   },
   {
    "duration": 27,
    "start_time": "2024-07-11T10:45:20.813Z"
   },
   {
    "duration": 4,
    "start_time": "2024-07-11T10:45:20.843Z"
   },
   {
    "duration": 16,
    "start_time": "2024-07-11T10:45:20.848Z"
   },
   {
    "duration": 14,
    "start_time": "2024-07-11T10:45:20.866Z"
   },
   {
    "duration": 8,
    "start_time": "2024-07-11T10:45:20.881Z"
   },
   {
    "duration": 135,
    "start_time": "2024-07-11T10:45:20.890Z"
   },
   {
    "duration": 1757,
    "start_time": "2024-07-11T10:45:21.027Z"
   },
   {
    "duration": 3,
    "start_time": "2024-07-11T10:45:22.786Z"
   },
   {
    "duration": 20,
    "start_time": "2024-07-11T10:45:22.791Z"
   },
   {
    "duration": 15,
    "start_time": "2024-07-11T10:45:22.812Z"
   },
   {
    "duration": 13,
    "start_time": "2024-07-11T10:45:22.828Z"
   },
   {
    "duration": 165,
    "start_time": "2024-07-11T10:45:22.843Z"
   },
   {
    "duration": 1139,
    "start_time": "2024-07-11T15:03:24.135Z"
   },
   {
    "duration": 69,
    "start_time": "2024-07-11T15:03:25.275Z"
   },
   {
    "duration": 19,
    "start_time": "2024-07-11T15:03:25.346Z"
   },
   {
    "duration": 15,
    "start_time": "2024-07-11T15:03:25.367Z"
   },
   {
    "duration": 13,
    "start_time": "2024-07-11T15:03:25.384Z"
   },
   {
    "duration": 8,
    "start_time": "2024-07-11T15:03:25.398Z"
   },
   {
    "duration": 12,
    "start_time": "2024-07-11T15:03:25.407Z"
   },
   {
    "duration": 6,
    "start_time": "2024-07-11T15:03:25.420Z"
   },
   {
    "duration": 38,
    "start_time": "2024-07-11T15:03:25.428Z"
   },
   {
    "duration": 11,
    "start_time": "2024-07-11T15:03:25.469Z"
   },
   {
    "duration": 12,
    "start_time": "2024-07-11T15:03:25.482Z"
   },
   {
    "duration": 5,
    "start_time": "2024-07-11T15:03:25.496Z"
   },
   {
    "duration": 15,
    "start_time": "2024-07-11T15:03:25.502Z"
   },
   {
    "duration": 13,
    "start_time": "2024-07-11T15:03:25.520Z"
   },
   {
    "duration": 5,
    "start_time": "2024-07-11T15:03:25.560Z"
   },
   {
    "duration": 34,
    "start_time": "2024-07-11T15:03:25.566Z"
   },
   {
    "duration": 218,
    "start_time": "2024-07-11T15:03:25.602Z"
   },
   {
    "duration": 12,
    "start_time": "2024-07-11T15:03:25.821Z"
   },
   {
    "duration": 255,
    "start_time": "2024-07-11T15:03:25.834Z"
   },
   {
    "duration": 4,
    "start_time": "2024-07-11T15:03:26.091Z"
   },
   {
    "duration": 6,
    "start_time": "2024-07-11T15:03:26.097Z"
   },
   {
    "duration": 192,
    "start_time": "2024-07-11T15:03:26.105Z"
   },
   {
    "duration": 14,
    "start_time": "2024-07-11T15:03:26.299Z"
   },
   {
    "duration": 200,
    "start_time": "2024-07-11T15:03:26.314Z"
   },
   {
    "duration": 185,
    "start_time": "2024-07-11T15:03:26.516Z"
   },
   {
    "duration": 30,
    "start_time": "2024-07-11T15:03:26.703Z"
   },
   {
    "duration": 31,
    "start_time": "2024-07-11T15:03:26.735Z"
   },
   {
    "duration": 9,
    "start_time": "2024-07-11T15:03:26.767Z"
   },
   {
    "duration": 242,
    "start_time": "2024-07-11T15:03:26.777Z"
   },
   {
    "duration": 249,
    "start_time": "2024-07-11T15:03:27.021Z"
   },
   {
    "duration": 30,
    "start_time": "2024-07-11T15:03:27.271Z"
   },
   {
    "duration": 18,
    "start_time": "2024-07-11T15:03:27.302Z"
   },
   {
    "duration": 9,
    "start_time": "2024-07-11T15:03:27.322Z"
   },
   {
    "duration": 32,
    "start_time": "2024-07-11T15:03:27.332Z"
   },
   {
    "duration": 18,
    "start_time": "2024-07-11T15:03:27.365Z"
   },
   {
    "duration": 8,
    "start_time": "2024-07-11T15:03:27.385Z"
   },
   {
    "duration": 106,
    "start_time": "2024-07-11T15:03:27.395Z"
   },
   {
    "duration": 6,
    "start_time": "2024-07-11T15:03:27.503Z"
   },
   {
    "duration": 5,
    "start_time": "2024-07-11T15:03:27.510Z"
   },
   {
    "duration": 10,
    "start_time": "2024-07-11T15:03:27.516Z"
   },
   {
    "duration": 3,
    "start_time": "2024-07-11T15:03:27.530Z"
   },
   {
    "duration": 5,
    "start_time": "2024-07-11T15:03:27.534Z"
   },
   {
    "duration": 9,
    "start_time": "2024-07-11T15:03:27.561Z"
   },
   {
    "duration": 35,
    "start_time": "2024-07-11T15:03:27.572Z"
   },
   {
    "duration": 92,
    "start_time": "2024-07-11T15:03:27.609Z"
   },
   {
    "duration": 6,
    "start_time": "2024-07-11T15:03:27.702Z"
   },
   {
    "duration": 5,
    "start_time": "2024-07-11T15:03:27.709Z"
   },
   {
    "duration": 3,
    "start_time": "2024-07-11T15:03:27.716Z"
   },
   {
    "duration": 128,
    "start_time": "2024-07-11T15:03:27.720Z"
   },
   {
    "duration": 1713,
    "start_time": "2024-07-11T15:03:27.850Z"
   },
   {
    "duration": 4,
    "start_time": "2024-07-11T15:03:29.565Z"
   },
   {
    "duration": 8,
    "start_time": "2024-07-11T15:03:29.571Z"
   },
   {
    "duration": 121,
    "start_time": "2024-07-11T15:03:29.581Z"
   },
   {
    "duration": 6,
    "start_time": "2024-07-11T15:03:29.703Z"
   },
   {
    "duration": 150,
    "start_time": "2024-07-11T15:03:29.711Z"
   },
   {
    "duration": 1761,
    "start_time": "2024-07-12T05:28:35.685Z"
   },
   {
    "duration": 226,
    "start_time": "2024-07-12T05:28:37.448Z"
   },
   {
    "duration": 33,
    "start_time": "2024-07-12T05:28:37.676Z"
   },
   {
    "duration": 27,
    "start_time": "2024-07-12T05:28:37.712Z"
   },
   {
    "duration": 50,
    "start_time": "2024-07-12T05:28:37.741Z"
   },
   {
    "duration": 16,
    "start_time": "2024-07-12T05:28:37.796Z"
   },
   {
    "duration": 18,
    "start_time": "2024-07-12T05:28:37.814Z"
   },
   {
    "duration": 11,
    "start_time": "2024-07-12T05:28:37.834Z"
   },
   {
    "duration": 84,
    "start_time": "2024-07-12T05:28:37.848Z"
   },
   {
    "duration": 15,
    "start_time": "2024-07-12T05:28:37.937Z"
   },
   {
    "duration": 20,
    "start_time": "2024-07-12T05:28:37.954Z"
   },
   {
    "duration": 27,
    "start_time": "2024-07-12T05:28:37.976Z"
   },
   {
    "duration": 14,
    "start_time": "2024-07-12T05:28:38.005Z"
   },
   {
    "duration": 23,
    "start_time": "2024-07-12T05:28:38.022Z"
   },
   {
    "duration": 6,
    "start_time": "2024-07-12T05:28:38.048Z"
   },
   {
    "duration": 64,
    "start_time": "2024-07-12T05:28:38.057Z"
   },
   {
    "duration": 305,
    "start_time": "2024-07-12T05:28:38.124Z"
   },
   {
    "duration": 17,
    "start_time": "2024-07-12T05:28:38.432Z"
   },
   {
    "duration": 307,
    "start_time": "2024-07-12T05:28:38.451Z"
   },
   {
    "duration": 6,
    "start_time": "2024-07-12T05:28:38.760Z"
   },
   {
    "duration": 8,
    "start_time": "2024-07-12T05:28:38.784Z"
   },
   {
    "duration": 275,
    "start_time": "2024-07-12T05:28:38.794Z"
   },
   {
    "duration": 30,
    "start_time": "2024-07-12T05:28:39.072Z"
   },
   {
    "duration": 305,
    "start_time": "2024-07-12T05:28:39.104Z"
   },
   {
    "duration": 231,
    "start_time": "2024-07-12T05:28:39.414Z"
   },
   {
    "duration": 52,
    "start_time": "2024-07-12T05:28:39.647Z"
   },
   {
    "duration": 16,
    "start_time": "2024-07-12T05:28:39.700Z"
   },
   {
    "duration": 5,
    "start_time": "2024-07-12T05:28:39.719Z"
   },
   {
    "duration": 327,
    "start_time": "2024-07-12T05:28:39.725Z"
   },
   {
    "duration": 341,
    "start_time": "2024-07-12T05:28:40.054Z"
   },
   {
    "duration": 58,
    "start_time": "2024-07-12T05:28:40.396Z"
   },
   {
    "duration": 50,
    "start_time": "2024-07-12T05:28:40.456Z"
   },
   {
    "duration": 15,
    "start_time": "2024-07-12T05:28:40.509Z"
   },
   {
    "duration": 34,
    "start_time": "2024-07-12T05:28:40.526Z"
   },
   {
    "duration": 25,
    "start_time": "2024-07-12T05:28:40.562Z"
   },
   {
    "duration": 9,
    "start_time": "2024-07-12T05:28:40.589Z"
   },
   {
    "duration": 7,
    "start_time": "2024-07-12T05:28:40.608Z"
   },
   {
    "duration": 4,
    "start_time": "2024-07-12T05:28:40.617Z"
   },
   {
    "duration": 119,
    "start_time": "2024-07-12T05:28:40.623Z"
   },
   {
    "duration": 7,
    "start_time": "2024-07-12T05:28:40.744Z"
   },
   {
    "duration": 7,
    "start_time": "2024-07-12T05:28:40.753Z"
   },
   {
    "duration": 37,
    "start_time": "2024-07-12T05:28:40.761Z"
   },
   {
    "duration": 18,
    "start_time": "2024-07-12T05:28:40.803Z"
   },
   {
    "duration": 24,
    "start_time": "2024-07-12T05:28:40.823Z"
   },
   {
    "duration": 6,
    "start_time": "2024-07-12T05:28:40.849Z"
   },
   {
    "duration": 7,
    "start_time": "2024-07-12T05:28:40.857Z"
   },
   {
    "duration": 28,
    "start_time": "2024-07-12T05:28:40.867Z"
   },
   {
    "duration": 11,
    "start_time": "2024-07-12T05:28:40.898Z"
   },
   {
    "duration": 170,
    "start_time": "2024-07-12T05:28:40.911Z"
   },
   {
    "duration": 2240,
    "start_time": "2024-07-12T05:28:41.084Z"
   },
   {
    "duration": 5,
    "start_time": "2024-07-12T05:28:43.326Z"
   },
   {
    "duration": 25,
    "start_time": "2024-07-12T05:28:43.333Z"
   },
   {
    "duration": 23,
    "start_time": "2024-07-12T05:28:43.360Z"
   },
   {
    "duration": 42,
    "start_time": "2024-07-12T05:28:43.385Z"
   },
   {
    "duration": 225,
    "start_time": "2024-07-12T05:28:43.429Z"
   },
   {
    "duration": 1352,
    "start_time": "2024-07-12T05:29:25.735Z"
   },
   {
    "duration": 74,
    "start_time": "2024-07-12T05:29:27.089Z"
   },
   {
    "duration": 31,
    "start_time": "2024-07-12T05:29:27.165Z"
   },
   {
    "duration": 24,
    "start_time": "2024-07-12T05:29:27.200Z"
   },
   {
    "duration": 22,
    "start_time": "2024-07-12T05:29:27.225Z"
   },
   {
    "duration": 50,
    "start_time": "2024-07-12T05:29:27.249Z"
   },
   {
    "duration": 17,
    "start_time": "2024-07-12T05:29:27.309Z"
   },
   {
    "duration": 11,
    "start_time": "2024-07-12T05:29:27.329Z"
   },
   {
    "duration": 39,
    "start_time": "2024-07-12T05:29:27.342Z"
   },
   {
    "duration": 21,
    "start_time": "2024-07-12T05:29:27.398Z"
   },
   {
    "duration": 21,
    "start_time": "2024-07-12T05:29:27.421Z"
   },
   {
    "duration": 6,
    "start_time": "2024-07-12T05:29:27.444Z"
   },
   {
    "duration": 8,
    "start_time": "2024-07-12T05:29:27.452Z"
   },
   {
    "duration": 46,
    "start_time": "2024-07-12T05:29:27.462Z"
   },
   {
    "duration": 10,
    "start_time": "2024-07-12T05:29:27.510Z"
   },
   {
    "duration": 40,
    "start_time": "2024-07-12T05:29:27.523Z"
   },
   {
    "duration": 259,
    "start_time": "2024-07-12T05:29:27.565Z"
   },
   {
    "duration": 18,
    "start_time": "2024-07-12T05:29:27.826Z"
   },
   {
    "duration": 348,
    "start_time": "2024-07-12T05:29:27.846Z"
   },
   {
    "duration": 6,
    "start_time": "2024-07-12T05:29:28.199Z"
   },
   {
    "duration": 118,
    "start_time": "2024-07-12T05:29:28.207Z"
   },
   {
    "duration": 0,
    "start_time": "2024-07-12T05:29:28.328Z"
   },
   {
    "duration": 0,
    "start_time": "2024-07-12T05:29:28.330Z"
   },
   {
    "duration": 0,
    "start_time": "2024-07-12T05:29:28.331Z"
   },
   {
    "duration": 0,
    "start_time": "2024-07-12T05:29:28.332Z"
   },
   {
    "duration": 0,
    "start_time": "2024-07-12T05:29:28.333Z"
   },
   {
    "duration": 0,
    "start_time": "2024-07-12T05:29:28.334Z"
   },
   {
    "duration": 0,
    "start_time": "2024-07-12T05:29:28.336Z"
   },
   {
    "duration": 0,
    "start_time": "2024-07-12T05:29:28.337Z"
   },
   {
    "duration": 0,
    "start_time": "2024-07-12T05:29:28.338Z"
   },
   {
    "duration": 0,
    "start_time": "2024-07-12T05:29:28.339Z"
   },
   {
    "duration": 0,
    "start_time": "2024-07-12T05:29:28.341Z"
   },
   {
    "duration": 0,
    "start_time": "2024-07-12T05:29:28.342Z"
   },
   {
    "duration": 0,
    "start_time": "2024-07-12T05:29:28.343Z"
   },
   {
    "duration": 0,
    "start_time": "2024-07-12T05:29:28.344Z"
   },
   {
    "duration": 0,
    "start_time": "2024-07-12T05:29:28.346Z"
   },
   {
    "duration": 0,
    "start_time": "2024-07-12T05:29:28.389Z"
   },
   {
    "duration": 0,
    "start_time": "2024-07-12T05:29:28.390Z"
   },
   {
    "duration": 0,
    "start_time": "2024-07-12T05:29:28.392Z"
   },
   {
    "duration": 0,
    "start_time": "2024-07-12T05:29:28.393Z"
   },
   {
    "duration": 0,
    "start_time": "2024-07-12T05:29:28.394Z"
   },
   {
    "duration": 0,
    "start_time": "2024-07-12T05:29:28.395Z"
   },
   {
    "duration": 0,
    "start_time": "2024-07-12T05:29:28.396Z"
   },
   {
    "duration": 0,
    "start_time": "2024-07-12T05:29:28.397Z"
   },
   {
    "duration": 0,
    "start_time": "2024-07-12T05:29:28.398Z"
   },
   {
    "duration": 0,
    "start_time": "2024-07-12T05:29:28.399Z"
   },
   {
    "duration": 0,
    "start_time": "2024-07-12T05:29:28.400Z"
   },
   {
    "duration": 0,
    "start_time": "2024-07-12T05:29:28.401Z"
   },
   {
    "duration": 0,
    "start_time": "2024-07-12T05:29:28.402Z"
   },
   {
    "duration": 0,
    "start_time": "2024-07-12T05:29:28.403Z"
   },
   {
    "duration": 0,
    "start_time": "2024-07-12T05:29:28.404Z"
   },
   {
    "duration": 0,
    "start_time": "2024-07-12T05:29:28.405Z"
   },
   {
    "duration": 0,
    "start_time": "2024-07-12T05:29:28.406Z"
   },
   {
    "duration": 0,
    "start_time": "2024-07-12T05:29:28.407Z"
   },
   {
    "duration": 0,
    "start_time": "2024-07-12T05:29:28.408Z"
   },
   {
    "duration": 0,
    "start_time": "2024-07-12T05:29:28.409Z"
   },
   {
    "duration": 9,
    "start_time": "2024-07-12T05:30:30.000Z"
   },
   {
    "duration": 7,
    "start_time": "2024-07-12T05:30:45.929Z"
   },
   {
    "duration": 7,
    "start_time": "2024-07-12T05:30:57.606Z"
   },
   {
    "duration": 17,
    "start_time": "2024-07-12T05:34:55.673Z"
   },
   {
    "duration": 13,
    "start_time": "2024-07-12T05:35:14.789Z"
   },
   {
    "duration": 9,
    "start_time": "2024-07-12T05:35:28.395Z"
   },
   {
    "duration": 8,
    "start_time": "2024-07-12T05:35:38.834Z"
   },
   {
    "duration": 13,
    "start_time": "2024-07-12T05:36:05.130Z"
   },
   {
    "duration": 12,
    "start_time": "2024-07-12T05:37:28.529Z"
   },
   {
    "duration": 12,
    "start_time": "2024-07-12T05:39:40.344Z"
   },
   {
    "duration": 8,
    "start_time": "2024-07-12T05:42:18.024Z"
   },
   {
    "duration": 6,
    "start_time": "2024-07-12T05:42:26.437Z"
   },
   {
    "duration": 9,
    "start_time": "2024-07-12T05:42:29.521Z"
   },
   {
    "duration": 1204,
    "start_time": "2024-07-12T05:48:26.573Z"
   },
   {
    "duration": 86,
    "start_time": "2024-07-12T05:48:27.780Z"
   },
   {
    "duration": 31,
    "start_time": "2024-07-12T05:48:27.868Z"
   },
   {
    "duration": 23,
    "start_time": "2024-07-12T05:48:27.901Z"
   },
   {
    "duration": 81,
    "start_time": "2024-07-12T05:48:27.927Z"
   },
   {
    "duration": 19,
    "start_time": "2024-07-12T05:48:28.012Z"
   },
   {
    "duration": 22,
    "start_time": "2024-07-12T05:48:28.034Z"
   },
   {
    "duration": 18,
    "start_time": "2024-07-12T05:48:28.059Z"
   },
   {
    "duration": 26,
    "start_time": "2024-07-12T05:48:28.079Z"
   },
   {
    "duration": 26,
    "start_time": "2024-07-12T05:48:28.107Z"
   },
   {
    "duration": 30,
    "start_time": "2024-07-12T05:48:28.135Z"
   },
   {
    "duration": 12,
    "start_time": "2024-07-12T05:48:28.166Z"
   },
   {
    "duration": 8,
    "start_time": "2024-07-12T05:48:28.182Z"
   },
   {
    "duration": 17,
    "start_time": "2024-07-12T05:48:28.195Z"
   },
   {
    "duration": 5,
    "start_time": "2024-07-12T05:48:28.213Z"
   },
   {
    "duration": 68,
    "start_time": "2024-07-12T05:48:28.221Z"
   },
   {
    "duration": 262,
    "start_time": "2024-07-12T05:48:28.291Z"
   },
   {
    "duration": 32,
    "start_time": "2024-07-12T05:48:28.555Z"
   },
   {
    "duration": 318,
    "start_time": "2024-07-12T05:48:28.589Z"
   },
   {
    "duration": 6,
    "start_time": "2024-07-12T05:48:28.909Z"
   },
   {
    "duration": 11,
    "start_time": "2024-07-12T05:48:28.916Z"
   },
   {
    "duration": 12,
    "start_time": "2024-07-12T05:48:28.928Z"
   },
   {
    "duration": 229,
    "start_time": "2024-07-12T05:48:28.942Z"
   },
   {
    "duration": 20,
    "start_time": "2024-07-12T05:48:29.173Z"
   },
   {
    "duration": 16,
    "start_time": "2024-07-12T05:48:29.200Z"
   },
   {
    "duration": 229,
    "start_time": "2024-07-12T05:48:29.218Z"
   },
   {
    "duration": 246,
    "start_time": "2024-07-12T05:48:29.449Z"
   },
   {
    "duration": 53,
    "start_time": "2024-07-12T05:48:29.701Z"
   },
   {
    "duration": 17,
    "start_time": "2024-07-12T05:48:29.756Z"
   },
   {
    "duration": 8,
    "start_time": "2024-07-12T05:48:29.785Z"
   },
   {
    "duration": 375,
    "start_time": "2024-07-12T05:48:29.794Z"
   },
   {
    "duration": 353,
    "start_time": "2024-07-12T05:48:30.171Z"
   },
   {
    "duration": 43,
    "start_time": "2024-07-12T05:48:30.526Z"
   },
   {
    "duration": 150,
    "start_time": "2024-07-12T05:48:30.571Z"
   },
   {
    "duration": 44,
    "start_time": "2024-07-12T05:48:30.723Z"
   },
   {
    "duration": 38,
    "start_time": "2024-07-12T05:48:30.769Z"
   },
   {
    "duration": 52,
    "start_time": "2024-07-12T05:48:30.809Z"
   },
   {
    "duration": 75,
    "start_time": "2024-07-12T05:48:30.863Z"
   },
   {
    "duration": 166,
    "start_time": "2024-07-12T05:48:30.940Z"
   },
   {
    "duration": 53,
    "start_time": "2024-07-12T05:48:31.108Z"
   },
   {
    "duration": 35,
    "start_time": "2024-07-12T05:48:31.165Z"
   },
   {
    "duration": 41,
    "start_time": "2024-07-12T05:48:31.201Z"
   },
   {
    "duration": 56,
    "start_time": "2024-07-12T05:48:31.244Z"
   },
   {
    "duration": 39,
    "start_time": "2024-07-12T05:48:31.303Z"
   },
   {
    "duration": 74,
    "start_time": "2024-07-12T05:48:31.344Z"
   },
   {
    "duration": 90,
    "start_time": "2024-07-12T05:48:31.420Z"
   },
   {
    "duration": 84,
    "start_time": "2024-07-12T05:48:31.512Z"
   },
   {
    "duration": 71,
    "start_time": "2024-07-12T05:48:31.597Z"
   },
   {
    "duration": 42,
    "start_time": "2024-07-12T05:48:31.671Z"
   },
   {
    "duration": 18,
    "start_time": "2024-07-12T05:48:31.716Z"
   },
   {
    "duration": 275,
    "start_time": "2024-07-12T05:48:31.736Z"
   },
   {
    "duration": 2229,
    "start_time": "2024-07-12T05:48:32.020Z"
   },
   {
    "duration": 4,
    "start_time": "2024-07-12T05:48:34.250Z"
   },
   {
    "duration": 9,
    "start_time": "2024-07-12T05:48:34.256Z"
   },
   {
    "duration": 33,
    "start_time": "2024-07-12T05:48:34.267Z"
   },
   {
    "duration": 10,
    "start_time": "2024-07-12T05:48:34.302Z"
   },
   {
    "duration": 170,
    "start_time": "2024-07-12T05:48:34.314Z"
   },
   {
    "duration": 241,
    "start_time": "2024-07-12T06:06:39.913Z"
   },
   {
    "duration": 91,
    "start_time": "2024-07-12T06:11:57.523Z"
   },
   {
    "duration": 118,
    "start_time": "2024-07-12T06:12:50.195Z"
   },
   {
    "duration": 157,
    "start_time": "2024-07-12T06:14:58.881Z"
   },
   {
    "duration": 232,
    "start_time": "2024-07-12T06:15:26.426Z"
   },
   {
    "duration": 149,
    "start_time": "2024-07-12T06:15:33.317Z"
   },
   {
    "duration": 904,
    "start_time": "2024-07-12T06:16:23.400Z"
   },
   {
    "duration": 190,
    "start_time": "2024-07-12T06:16:35.762Z"
   },
   {
    "duration": 846,
    "start_time": "2024-07-12T06:17:17.474Z"
   },
   {
    "duration": 6,
    "start_time": "2024-07-12T06:17:35.575Z"
   },
   {
    "duration": 341,
    "start_time": "2024-07-12T06:17:45.831Z"
   },
   {
    "duration": 193,
    "start_time": "2024-07-12T06:18:10.670Z"
   },
   {
    "duration": 186,
    "start_time": "2024-07-12T06:18:51.474Z"
   },
   {
    "duration": 20,
    "start_time": "2024-07-12T06:21:42.342Z"
   },
   {
    "duration": 11,
    "start_time": "2024-07-12T06:22:07.000Z"
   },
   {
    "duration": 98,
    "start_time": "2024-07-12T06:22:26.315Z"
   },
   {
    "duration": 124,
    "start_time": "2024-07-12T06:22:45.141Z"
   },
   {
    "duration": 22,
    "start_time": "2024-07-12T06:23:15.983Z"
   },
   {
    "duration": 6,
    "start_time": "2024-07-12T06:23:49.892Z"
   },
   {
    "duration": 105,
    "start_time": "2024-07-12T06:23:50.765Z"
   },
   {
    "duration": 9,
    "start_time": "2024-07-12T06:25:40.036Z"
   },
   {
    "duration": 14,
    "start_time": "2024-07-12T06:26:11.936Z"
   },
   {
    "duration": 814,
    "start_time": "2024-07-12T06:26:13.525Z"
   },
   {
    "duration": 1427,
    "start_time": "2024-07-12T06:27:02.580Z"
   },
   {
    "duration": 86,
    "start_time": "2024-07-12T06:27:04.011Z"
   },
   {
    "duration": 34,
    "start_time": "2024-07-12T06:27:04.103Z"
   },
   {
    "duration": 28,
    "start_time": "2024-07-12T06:27:04.140Z"
   },
   {
    "duration": 29,
    "start_time": "2024-07-12T06:27:04.181Z"
   },
   {
    "duration": 13,
    "start_time": "2024-07-12T06:27:04.213Z"
   },
   {
    "duration": 27,
    "start_time": "2024-07-12T06:27:04.228Z"
   },
   {
    "duration": 35,
    "start_time": "2024-07-12T06:27:04.257Z"
   },
   {
    "duration": 18,
    "start_time": "2024-07-12T06:27:04.301Z"
   },
   {
    "duration": 17,
    "start_time": "2024-07-12T06:27:04.323Z"
   },
   {
    "duration": 22,
    "start_time": "2024-07-12T06:27:04.342Z"
   },
   {
    "duration": 23,
    "start_time": "2024-07-12T06:27:04.366Z"
   },
   {
    "duration": 16,
    "start_time": "2024-07-12T06:27:04.392Z"
   },
   {
    "duration": 31,
    "start_time": "2024-07-12T06:27:04.410Z"
   },
   {
    "duration": 15,
    "start_time": "2024-07-12T06:27:04.443Z"
   },
   {
    "duration": 69,
    "start_time": "2024-07-12T06:27:04.462Z"
   },
   {
    "duration": 310,
    "start_time": "2024-07-12T06:27:04.533Z"
   },
   {
    "duration": 13,
    "start_time": "2024-07-12T06:27:04.845Z"
   },
   {
    "duration": 328,
    "start_time": "2024-07-12T06:27:04.861Z"
   },
   {
    "duration": 12,
    "start_time": "2024-07-12T06:27:05.192Z"
   },
   {
    "duration": 21,
    "start_time": "2024-07-12T06:27:05.206Z"
   },
   {
    "duration": 207,
    "start_time": "2024-07-12T06:27:05.230Z"
   },
   {
    "duration": 7,
    "start_time": "2024-07-12T06:27:05.439Z"
   },
   {
    "duration": 108,
    "start_time": "2024-07-12T06:27:05.448Z"
   },
   {
    "duration": 6,
    "start_time": "2024-07-12T06:27:05.558Z"
   },
   {
    "duration": 286,
    "start_time": "2024-07-12T06:27:05.566Z"
   },
   {
    "duration": 10,
    "start_time": "2024-07-12T06:27:05.854Z"
   },
   {
    "duration": 20,
    "start_time": "2024-07-12T06:27:05.882Z"
   },
   {
    "duration": 235,
    "start_time": "2024-07-12T06:27:05.905Z"
   },
   {
    "duration": 238,
    "start_time": "2024-07-12T06:27:06.142Z"
   },
   {
    "duration": 40,
    "start_time": "2024-07-12T06:27:06.386Z"
   },
   {
    "duration": 12,
    "start_time": "2024-07-12T06:27:06.428Z"
   },
   {
    "duration": 11,
    "start_time": "2024-07-12T06:27:06.442Z"
   },
   {
    "duration": 315,
    "start_time": "2024-07-12T06:27:06.454Z"
   },
   {
    "duration": 434,
    "start_time": "2024-07-12T06:27:06.772Z"
   },
   {
    "duration": 56,
    "start_time": "2024-07-12T06:27:07.209Z"
   },
   {
    "duration": 40,
    "start_time": "2024-07-12T06:27:07.267Z"
   },
   {
    "duration": 13,
    "start_time": "2024-07-12T06:27:07.310Z"
   },
   {
    "duration": 14,
    "start_time": "2024-07-12T06:27:07.324Z"
   },
   {
    "duration": 33,
    "start_time": "2024-07-12T06:27:07.340Z"
   },
   {
    "duration": 19,
    "start_time": "2024-07-12T06:27:07.385Z"
   },
   {
    "duration": 20,
    "start_time": "2024-07-12T06:27:07.407Z"
   },
   {
    "duration": 21,
    "start_time": "2024-07-12T06:27:07.429Z"
   },
   {
    "duration": 27,
    "start_time": "2024-07-12T06:27:07.453Z"
   },
   {
    "duration": 24,
    "start_time": "2024-07-12T06:27:07.482Z"
   },
   {
    "duration": 11,
    "start_time": "2024-07-12T06:27:07.508Z"
   },
   {
    "duration": 12,
    "start_time": "2024-07-12T06:27:07.521Z"
   },
   {
    "duration": 37,
    "start_time": "2024-07-12T06:27:07.535Z"
   },
   {
    "duration": 41,
    "start_time": "2024-07-12T06:27:07.574Z"
   },
   {
    "duration": 20,
    "start_time": "2024-07-12T06:27:07.618Z"
   },
   {
    "duration": 15,
    "start_time": "2024-07-12T06:27:07.640Z"
   },
   {
    "duration": 47,
    "start_time": "2024-07-12T06:27:07.657Z"
   },
   {
    "duration": 35,
    "start_time": "2024-07-12T06:27:07.706Z"
   },
   {
    "duration": 199,
    "start_time": "2024-07-12T06:27:07.744Z"
   },
   {
    "duration": 2134,
    "start_time": "2024-07-12T06:27:07.945Z"
   },
   {
    "duration": 10,
    "start_time": "2024-07-12T06:27:10.082Z"
   },
   {
    "duration": 23,
    "start_time": "2024-07-12T06:27:10.094Z"
   },
   {
    "duration": 15,
    "start_time": "2024-07-12T06:27:10.120Z"
   },
   {
    "duration": 35,
    "start_time": "2024-07-12T06:27:10.137Z"
   },
   {
    "duration": 180,
    "start_time": "2024-07-12T06:27:10.175Z"
   },
   {
    "duration": 101,
    "start_time": "2024-07-12T06:28:19.141Z"
   },
   {
    "duration": 1326,
    "start_time": "2024-07-12T06:41:48.676Z"
   },
   {
    "duration": 109,
    "start_time": "2024-07-12T06:41:50.006Z"
   },
   {
    "duration": 31,
    "start_time": "2024-07-12T06:41:50.117Z"
   },
   {
    "duration": 72,
    "start_time": "2024-07-12T06:41:50.151Z"
   },
   {
    "duration": 16,
    "start_time": "2024-07-12T06:41:50.224Z"
   },
   {
    "duration": 10,
    "start_time": "2024-07-12T06:41:50.242Z"
   },
   {
    "duration": 16,
    "start_time": "2024-07-12T06:41:50.254Z"
   },
   {
    "duration": 25,
    "start_time": "2024-07-12T06:41:50.272Z"
   },
   {
    "duration": 18,
    "start_time": "2024-07-12T06:41:50.300Z"
   },
   {
    "duration": 14,
    "start_time": "2024-07-12T06:41:50.322Z"
   },
   {
    "duration": 15,
    "start_time": "2024-07-12T06:41:50.339Z"
   },
   {
    "duration": 43,
    "start_time": "2024-07-12T06:41:50.356Z"
   },
   {
    "duration": 29,
    "start_time": "2024-07-12T06:41:50.401Z"
   },
   {
    "duration": 22,
    "start_time": "2024-07-12T06:41:50.431Z"
   },
   {
    "duration": 46,
    "start_time": "2024-07-12T06:41:50.455Z"
   },
   {
    "duration": 46,
    "start_time": "2024-07-12T06:41:50.503Z"
   },
   {
    "duration": 245,
    "start_time": "2024-07-12T06:41:50.552Z"
   },
   {
    "duration": 17,
    "start_time": "2024-07-12T06:41:50.803Z"
   },
   {
    "duration": 303,
    "start_time": "2024-07-12T06:41:50.823Z"
   },
   {
    "duration": 7,
    "start_time": "2024-07-12T06:41:51.128Z"
   },
   {
    "duration": 24,
    "start_time": "2024-07-12T06:41:51.137Z"
   },
   {
    "duration": 167,
    "start_time": "2024-07-12T06:41:51.163Z"
   },
   {
    "duration": 8,
    "start_time": "2024-07-12T06:41:51.333Z"
   },
   {
    "duration": 122,
    "start_time": "2024-07-12T06:41:51.343Z"
   },
   {
    "duration": 6,
    "start_time": "2024-07-12T06:41:51.467Z"
   },
   {
    "duration": 244,
    "start_time": "2024-07-12T06:41:51.474Z"
   },
   {
    "duration": 12,
    "start_time": "2024-07-12T06:41:51.719Z"
   },
   {
    "duration": 26,
    "start_time": "2024-07-12T06:41:51.737Z"
   },
   {
    "duration": 293,
    "start_time": "2024-07-12T06:41:51.765Z"
   },
   {
    "duration": 329,
    "start_time": "2024-07-12T06:41:52.061Z"
   },
   {
    "duration": 99,
    "start_time": "2024-07-12T06:41:52.396Z"
   },
   {
    "duration": 14,
    "start_time": "2024-07-12T06:41:52.499Z"
   },
   {
    "duration": 4,
    "start_time": "2024-07-12T06:41:52.515Z"
   },
   {
    "duration": 496,
    "start_time": "2024-07-12T06:41:52.521Z"
   },
   {
    "duration": 501,
    "start_time": "2024-07-12T06:41:53.019Z"
   },
   {
    "duration": 37,
    "start_time": "2024-07-12T06:41:53.522Z"
   },
   {
    "duration": 48,
    "start_time": "2024-07-12T06:41:53.561Z"
   },
   {
    "duration": 14,
    "start_time": "2024-07-12T06:41:53.611Z"
   },
   {
    "duration": 6,
    "start_time": "2024-07-12T06:41:53.627Z"
   },
   {
    "duration": 29,
    "start_time": "2024-07-12T06:41:53.635Z"
   },
   {
    "duration": 28,
    "start_time": "2024-07-12T06:41:53.666Z"
   },
   {
    "duration": 7,
    "start_time": "2024-07-12T06:41:53.696Z"
   },
   {
    "duration": 6,
    "start_time": "2024-07-12T06:41:53.704Z"
   },
   {
    "duration": 10,
    "start_time": "2024-07-12T06:41:53.711Z"
   },
   {
    "duration": 123,
    "start_time": "2024-07-12T06:41:53.723Z"
   },
   {
    "duration": 0,
    "start_time": "2024-07-12T06:41:53.848Z"
   },
   {
    "duration": 0,
    "start_time": "2024-07-12T06:41:53.850Z"
   },
   {
    "duration": 0,
    "start_time": "2024-07-12T06:41:53.852Z"
   },
   {
    "duration": 0,
    "start_time": "2024-07-12T06:41:53.854Z"
   },
   {
    "duration": 0,
    "start_time": "2024-07-12T06:41:53.855Z"
   },
   {
    "duration": 0,
    "start_time": "2024-07-12T06:41:53.857Z"
   },
   {
    "duration": 0,
    "start_time": "2024-07-12T06:41:53.859Z"
   },
   {
    "duration": 0,
    "start_time": "2024-07-12T06:41:53.860Z"
   },
   {
    "duration": 0,
    "start_time": "2024-07-12T06:41:53.861Z"
   },
   {
    "duration": 0,
    "start_time": "2024-07-12T06:41:53.862Z"
   },
   {
    "duration": 0,
    "start_time": "2024-07-12T06:41:53.882Z"
   },
   {
    "duration": 0,
    "start_time": "2024-07-12T06:41:53.883Z"
   },
   {
    "duration": 0,
    "start_time": "2024-07-12T06:41:53.883Z"
   },
   {
    "duration": 0,
    "start_time": "2024-07-12T06:41:53.884Z"
   },
   {
    "duration": 0,
    "start_time": "2024-07-12T06:41:53.885Z"
   },
   {
    "duration": 0,
    "start_time": "2024-07-12T06:41:53.886Z"
   },
   {
    "duration": 4,
    "start_time": "2024-07-12T06:42:27.067Z"
   },
   {
    "duration": 9,
    "start_time": "2024-07-12T06:42:27.486Z"
   },
   {
    "duration": 4,
    "start_time": "2024-07-12T06:42:31.507Z"
   },
   {
    "duration": 5,
    "start_time": "2024-07-12T06:42:32.260Z"
   },
   {
    "duration": 9,
    "start_time": "2024-07-12T06:42:49.286Z"
   },
   {
    "duration": 4,
    "start_time": "2024-07-12T06:42:50.317Z"
   },
   {
    "duration": 25,
    "start_time": "2024-07-12T06:46:19.588Z"
   },
   {
    "duration": 10,
    "start_time": "2024-07-12T06:47:02.908Z"
   },
   {
    "duration": 4,
    "start_time": "2024-07-12T06:47:05.467Z"
   },
   {
    "duration": 4,
    "start_time": "2024-07-12T06:47:05.957Z"
   },
   {
    "duration": 5,
    "start_time": "2024-07-12T06:47:11.746Z"
   },
   {
    "duration": 8,
    "start_time": "2024-07-12T06:49:29.309Z"
   },
   {
    "duration": 11,
    "start_time": "2024-07-12T06:49:52.396Z"
   },
   {
    "duration": 5,
    "start_time": "2024-07-12T06:50:08.040Z"
   },
   {
    "duration": 11,
    "start_time": "2024-07-12T06:58:48.558Z"
   },
   {
    "duration": 10,
    "start_time": "2024-07-12T06:58:54.421Z"
   },
   {
    "duration": 23,
    "start_time": "2024-07-12T06:58:58.875Z"
   },
   {
    "duration": 20,
    "start_time": "2024-07-12T06:59:21.279Z"
   },
   {
    "duration": 35,
    "start_time": "2024-07-12T06:59:23.564Z"
   },
   {
    "duration": 13,
    "start_time": "2024-07-12T07:00:41.316Z"
   },
   {
    "duration": 9,
    "start_time": "2024-07-12T07:00:45.828Z"
   },
   {
    "duration": 16,
    "start_time": "2024-07-12T07:00:50.718Z"
   },
   {
    "duration": 7,
    "start_time": "2024-07-12T07:01:18.125Z"
   },
   {
    "duration": 8,
    "start_time": "2024-07-12T07:01:38.902Z"
   },
   {
    "duration": 9,
    "start_time": "2024-07-12T07:01:41.758Z"
   },
   {
    "duration": 14,
    "start_time": "2024-07-12T07:02:52.805Z"
   },
   {
    "duration": 29,
    "start_time": "2024-07-12T07:03:13.495Z"
   },
   {
    "duration": 12,
    "start_time": "2024-07-12T07:03:30.403Z"
   },
   {
    "duration": 13,
    "start_time": "2024-07-12T07:03:44.759Z"
   },
   {
    "duration": 12,
    "start_time": "2024-07-12T07:04:35.322Z"
   },
   {
    "duration": 6,
    "start_time": "2024-07-12T07:05:06.917Z"
   },
   {
    "duration": 9,
    "start_time": "2024-07-12T07:05:23.911Z"
   },
   {
    "duration": 11,
    "start_time": "2024-07-12T07:09:25.004Z"
   },
   {
    "duration": 5,
    "start_time": "2024-07-12T07:10:03.748Z"
   },
   {
    "duration": 6,
    "start_time": "2024-07-12T07:10:22.827Z"
   },
   {
    "duration": 9,
    "start_time": "2024-07-12T07:10:25.312Z"
   },
   {
    "duration": 8,
    "start_time": "2024-07-12T07:15:22.404Z"
   },
   {
    "duration": 1370,
    "start_time": "2024-07-12T07:59:58.965Z"
   },
   {
    "duration": 82,
    "start_time": "2024-07-12T08:00:00.337Z"
   },
   {
    "duration": 78,
    "start_time": "2024-07-12T08:00:00.421Z"
   },
   {
    "duration": 54,
    "start_time": "2024-07-12T08:00:00.505Z"
   },
   {
    "duration": 44,
    "start_time": "2024-07-12T08:00:00.561Z"
   },
   {
    "duration": 32,
    "start_time": "2024-07-12T08:00:00.607Z"
   },
   {
    "duration": 43,
    "start_time": "2024-07-12T08:00:00.641Z"
   },
   {
    "duration": 27,
    "start_time": "2024-07-12T08:00:00.688Z"
   },
   {
    "duration": 49,
    "start_time": "2024-07-12T08:00:00.717Z"
   },
   {
    "duration": 35,
    "start_time": "2024-07-12T08:00:00.770Z"
   },
   {
    "duration": 76,
    "start_time": "2024-07-12T08:00:00.807Z"
   },
   {
    "duration": 61,
    "start_time": "2024-07-12T08:00:00.886Z"
   },
   {
    "duration": 41,
    "start_time": "2024-07-12T08:00:00.949Z"
   },
   {
    "duration": 36,
    "start_time": "2024-07-12T08:00:00.992Z"
   },
   {
    "duration": 105,
    "start_time": "2024-07-12T08:00:01.030Z"
   },
   {
    "duration": 105,
    "start_time": "2024-07-12T08:00:01.137Z"
   },
   {
    "duration": 241,
    "start_time": "2024-07-12T08:00:01.244Z"
   },
   {
    "duration": 18,
    "start_time": "2024-07-12T08:00:01.486Z"
   },
   {
    "duration": 412,
    "start_time": "2024-07-12T08:00:01.507Z"
   },
   {
    "duration": 7,
    "start_time": "2024-07-12T08:00:01.921Z"
   },
   {
    "duration": 192,
    "start_time": "2024-07-12T08:00:01.930Z"
   },
   {
    "duration": 153,
    "start_time": "2024-07-12T08:00:02.124Z"
   },
   {
    "duration": 27,
    "start_time": "2024-07-12T08:00:02.281Z"
   },
   {
    "duration": 107,
    "start_time": "2024-07-12T08:00:02.309Z"
   },
   {
    "duration": 5,
    "start_time": "2024-07-12T08:00:02.417Z"
   },
   {
    "duration": 327,
    "start_time": "2024-07-12T08:00:02.424Z"
   },
   {
    "duration": 11,
    "start_time": "2024-07-12T08:00:02.753Z"
   },
   {
    "duration": 51,
    "start_time": "2024-07-12T08:00:02.787Z"
   },
   {
    "duration": 222,
    "start_time": "2024-07-12T08:00:02.840Z"
   },
   {
    "duration": 243,
    "start_time": "2024-07-12T08:00:03.064Z"
   },
   {
    "duration": 55,
    "start_time": "2024-07-12T08:00:03.309Z"
   },
   {
    "duration": 32,
    "start_time": "2024-07-12T08:00:03.366Z"
   },
   {
    "duration": 27,
    "start_time": "2024-07-12T08:00:03.400Z"
   },
   {
    "duration": 331,
    "start_time": "2024-07-12T08:00:03.429Z"
   },
   {
    "duration": 537,
    "start_time": "2024-07-12T08:00:03.763Z"
   },
   {
    "duration": 55,
    "start_time": "2024-07-12T08:00:04.306Z"
   },
   {
    "duration": 45,
    "start_time": "2024-07-12T08:00:04.363Z"
   },
   {
    "duration": 11,
    "start_time": "2024-07-12T08:00:04.411Z"
   },
   {
    "duration": 104,
    "start_time": "2024-07-12T08:00:04.424Z"
   },
   {
    "duration": 14,
    "start_time": "2024-07-12T08:00:04.530Z"
   },
   {
    "duration": 13,
    "start_time": "2024-07-12T08:00:04.546Z"
   },
   {
    "duration": 6,
    "start_time": "2024-07-12T08:00:04.561Z"
   },
   {
    "duration": 7,
    "start_time": "2024-07-12T08:00:04.569Z"
   },
   {
    "duration": 5,
    "start_time": "2024-07-12T08:00:04.578Z"
   },
   {
    "duration": 15,
    "start_time": "2024-07-12T08:00:04.587Z"
   },
   {
    "duration": 6,
    "start_time": "2024-07-12T08:00:04.604Z"
   },
   {
    "duration": 13,
    "start_time": "2024-07-12T08:00:04.614Z"
   },
   {
    "duration": 13,
    "start_time": "2024-07-12T08:00:04.629Z"
   },
   {
    "duration": 5,
    "start_time": "2024-07-12T08:00:04.643Z"
   },
   {
    "duration": 39,
    "start_time": "2024-07-12T08:00:04.650Z"
   },
   {
    "duration": 7,
    "start_time": "2024-07-12T08:00:04.691Z"
   },
   {
    "duration": 221,
    "start_time": "2024-07-12T08:00:04.700Z"
   },
   {
    "duration": 2245,
    "start_time": "2024-07-12T08:00:04.924Z"
   },
   {
    "duration": 3,
    "start_time": "2024-07-12T08:00:07.171Z"
   },
   {
    "duration": 33,
    "start_time": "2024-07-12T08:00:07.175Z"
   },
   {
    "duration": 6,
    "start_time": "2024-07-12T08:00:07.209Z"
   },
   {
    "duration": 12,
    "start_time": "2024-07-12T08:00:07.217Z"
   },
   {
    "duration": 170,
    "start_time": "2024-07-12T08:00:07.231Z"
   },
   {
    "duration": 1367,
    "start_time": "2024-07-12T08:07:25.472Z"
   },
   {
    "duration": 85,
    "start_time": "2024-07-12T08:07:26.843Z"
   },
   {
    "duration": 24,
    "start_time": "2024-07-12T08:07:26.930Z"
   },
   {
    "duration": 19,
    "start_time": "2024-07-12T08:07:26.956Z"
   },
   {
    "duration": 28,
    "start_time": "2024-07-12T08:07:26.984Z"
   },
   {
    "duration": 9,
    "start_time": "2024-07-12T08:07:27.014Z"
   },
   {
    "duration": 13,
    "start_time": "2024-07-12T08:07:27.025Z"
   },
   {
    "duration": 10,
    "start_time": "2024-07-12T08:07:27.040Z"
   },
   {
    "duration": 48,
    "start_time": "2024-07-12T08:07:27.052Z"
   },
   {
    "duration": 50,
    "start_time": "2024-07-12T08:07:27.104Z"
   },
   {
    "duration": 13,
    "start_time": "2024-07-12T08:07:27.156Z"
   },
   {
    "duration": 11,
    "start_time": "2024-07-12T08:07:27.172Z"
   },
   {
    "duration": 22,
    "start_time": "2024-07-12T08:07:27.185Z"
   },
   {
    "duration": 13,
    "start_time": "2024-07-12T08:07:27.210Z"
   },
   {
    "duration": 27,
    "start_time": "2024-07-12T08:07:27.225Z"
   },
   {
    "duration": 48,
    "start_time": "2024-07-12T08:07:27.254Z"
   },
   {
    "duration": 237,
    "start_time": "2024-07-12T08:07:27.304Z"
   },
   {
    "duration": 14,
    "start_time": "2024-07-12T08:07:27.544Z"
   },
   {
    "duration": 308,
    "start_time": "2024-07-12T08:07:27.560Z"
   },
   {
    "duration": 16,
    "start_time": "2024-07-12T08:07:27.872Z"
   },
   {
    "duration": 21,
    "start_time": "2024-07-12T08:07:27.893Z"
   },
   {
    "duration": 188,
    "start_time": "2024-07-12T08:07:27.918Z"
   },
   {
    "duration": 9,
    "start_time": "2024-07-12T08:07:28.109Z"
   },
   {
    "duration": 128,
    "start_time": "2024-07-12T08:07:28.120Z"
   },
   {
    "duration": 6,
    "start_time": "2024-07-12T08:07:28.250Z"
   },
   {
    "duration": 240,
    "start_time": "2024-07-12T08:07:28.258Z"
   },
   {
    "duration": 12,
    "start_time": "2024-07-12T08:07:28.500Z"
   },
   {
    "duration": 34,
    "start_time": "2024-07-12T08:07:28.514Z"
   },
   {
    "duration": 272,
    "start_time": "2024-07-12T08:07:28.550Z"
   },
   {
    "duration": 229,
    "start_time": "2024-07-12T08:07:28.825Z"
   },
   {
    "duration": 47,
    "start_time": "2024-07-12T08:07:29.056Z"
   },
   {
    "duration": 17,
    "start_time": "2024-07-12T08:07:29.105Z"
   },
   {
    "duration": 11,
    "start_time": "2024-07-12T08:07:29.125Z"
   },
   {
    "duration": 319,
    "start_time": "2024-07-12T08:07:29.138Z"
   },
   {
    "duration": 419,
    "start_time": "2024-07-12T08:07:29.459Z"
   },
   {
    "duration": 61,
    "start_time": "2024-07-12T08:07:29.885Z"
   },
   {
    "duration": 33,
    "start_time": "2024-07-12T08:07:29.948Z"
   },
   {
    "duration": 14,
    "start_time": "2024-07-12T08:07:29.992Z"
   },
   {
    "duration": 8,
    "start_time": "2024-07-12T08:07:30.010Z"
   },
   {
    "duration": 50,
    "start_time": "2024-07-12T08:07:30.020Z"
   },
   {
    "duration": 36,
    "start_time": "2024-07-12T08:07:30.078Z"
   },
   {
    "duration": 37,
    "start_time": "2024-07-12T08:07:30.116Z"
   },
   {
    "duration": 55,
    "start_time": "2024-07-12T08:07:30.155Z"
   },
   {
    "duration": 54,
    "start_time": "2024-07-12T08:07:30.212Z"
   },
   {
    "duration": 87,
    "start_time": "2024-07-12T08:07:30.268Z"
   },
   {
    "duration": 203,
    "start_time": "2024-07-12T08:07:30.357Z"
   },
   {
    "duration": 68,
    "start_time": "2024-07-12T08:07:30.562Z"
   },
   {
    "duration": 39,
    "start_time": "2024-07-12T08:07:30.632Z"
   },
   {
    "duration": 44,
    "start_time": "2024-07-12T08:07:30.673Z"
   },
   {
    "duration": 43,
    "start_time": "2024-07-12T08:07:30.719Z"
   },
   {
    "duration": 26,
    "start_time": "2024-07-12T08:07:30.765Z"
   },
   {
    "duration": 207,
    "start_time": "2024-07-12T08:07:30.798Z"
   },
   {
    "duration": 2179,
    "start_time": "2024-07-12T08:07:31.007Z"
   },
   {
    "duration": 10,
    "start_time": "2024-07-12T08:07:33.192Z"
   },
   {
    "duration": 20,
    "start_time": "2024-07-12T08:07:33.204Z"
   },
   {
    "duration": 7,
    "start_time": "2024-07-12T08:07:33.226Z"
   },
   {
    "duration": 9,
    "start_time": "2024-07-12T08:07:33.235Z"
   },
   {
    "duration": 178,
    "start_time": "2024-07-12T08:07:33.246Z"
   },
   {
    "duration": 1020,
    "start_time": "2024-07-12T13:23:11.002Z"
   },
   {
    "duration": 68,
    "start_time": "2024-07-12T13:23:12.024Z"
   },
   {
    "duration": 21,
    "start_time": "2024-07-12T13:23:12.095Z"
   },
   {
    "duration": 14,
    "start_time": "2024-07-12T13:23:12.118Z"
   },
   {
    "duration": 15,
    "start_time": "2024-07-12T13:23:12.134Z"
   },
   {
    "duration": 8,
    "start_time": "2024-07-12T13:23:12.150Z"
   },
   {
    "duration": 29,
    "start_time": "2024-07-12T13:23:12.160Z"
   },
   {
    "duration": 6,
    "start_time": "2024-07-12T13:23:12.191Z"
   },
   {
    "duration": 13,
    "start_time": "2024-07-12T13:23:12.198Z"
   },
   {
    "duration": 13,
    "start_time": "2024-07-12T13:23:12.214Z"
   },
   {
    "duration": 15,
    "start_time": "2024-07-12T13:23:12.228Z"
   },
   {
    "duration": 13,
    "start_time": "2024-07-12T13:23:12.245Z"
   },
   {
    "duration": 5,
    "start_time": "2024-07-12T13:23:12.282Z"
   },
   {
    "duration": 11,
    "start_time": "2024-07-12T13:23:12.289Z"
   },
   {
    "duration": 19,
    "start_time": "2024-07-12T13:23:12.302Z"
   },
   {
    "duration": 33,
    "start_time": "2024-07-12T13:23:12.323Z"
   },
   {
    "duration": 206,
    "start_time": "2024-07-12T13:23:12.357Z"
   },
   {
    "duration": 17,
    "start_time": "2024-07-12T13:23:12.565Z"
   },
   {
    "duration": 228,
    "start_time": "2024-07-12T13:23:12.584Z"
   },
   {
    "duration": 5,
    "start_time": "2024-07-12T13:23:12.813Z"
   },
   {
    "duration": 20,
    "start_time": "2024-07-12T13:23:12.819Z"
   },
   {
    "duration": 128,
    "start_time": "2024-07-12T13:23:12.840Z"
   },
   {
    "duration": 5,
    "start_time": "2024-07-12T13:23:12.970Z"
   },
   {
    "duration": 102,
    "start_time": "2024-07-12T13:23:12.976Z"
   },
   {
    "duration": 4,
    "start_time": "2024-07-12T13:23:13.079Z"
   },
   {
    "duration": 201,
    "start_time": "2024-07-12T13:23:13.085Z"
   },
   {
    "duration": 8,
    "start_time": "2024-07-12T13:23:13.288Z"
   },
   {
    "duration": 18,
    "start_time": "2024-07-12T13:23:13.299Z"
   },
   {
    "duration": 192,
    "start_time": "2024-07-12T13:23:13.318Z"
   },
   {
    "duration": 192,
    "start_time": "2024-07-12T13:23:13.511Z"
   },
   {
    "duration": 30,
    "start_time": "2024-07-12T13:23:13.704Z"
   },
   {
    "duration": 10,
    "start_time": "2024-07-12T13:23:13.735Z"
   },
   {
    "duration": 4,
    "start_time": "2024-07-12T13:23:13.746Z"
   },
   {
    "duration": 261,
    "start_time": "2024-07-12T13:23:13.751Z"
   },
   {
    "duration": 324,
    "start_time": "2024-07-12T13:23:14.014Z"
   },
   {
    "duration": 30,
    "start_time": "2024-07-12T13:23:14.339Z"
   },
   {
    "duration": 19,
    "start_time": "2024-07-12T13:23:14.382Z"
   },
   {
    "duration": 22,
    "start_time": "2024-07-12T13:23:14.402Z"
   },
   {
    "duration": 5,
    "start_time": "2024-07-12T13:23:14.425Z"
   },
   {
    "duration": 15,
    "start_time": "2024-07-12T13:23:14.431Z"
   },
   {
    "duration": 11,
    "start_time": "2024-07-12T13:23:14.447Z"
   },
   {
    "duration": 19,
    "start_time": "2024-07-12T13:23:14.459Z"
   },
   {
    "duration": 6,
    "start_time": "2024-07-12T13:23:14.480Z"
   },
   {
    "duration": 10,
    "start_time": "2024-07-12T13:23:14.488Z"
   },
   {
    "duration": 8,
    "start_time": "2024-07-12T13:23:14.500Z"
   },
   {
    "duration": 9,
    "start_time": "2024-07-12T13:23:14.509Z"
   },
   {
    "duration": 14,
    "start_time": "2024-07-12T13:23:14.519Z"
   },
   {
    "duration": 9,
    "start_time": "2024-07-12T13:23:14.534Z"
   },
   {
    "duration": 4,
    "start_time": "2024-07-12T13:23:14.544Z"
   },
   {
    "duration": 13,
    "start_time": "2024-07-12T13:23:14.549Z"
   },
   {
    "duration": 19,
    "start_time": "2024-07-12T13:23:14.563Z"
   },
   {
    "duration": 160,
    "start_time": "2024-07-12T13:23:14.584Z"
   },
   {
    "duration": 1759,
    "start_time": "2024-07-12T13:23:14.745Z"
   },
   {
    "duration": 2,
    "start_time": "2024-07-12T13:23:16.506Z"
   },
   {
    "duration": 12,
    "start_time": "2024-07-12T13:23:16.509Z"
   },
   {
    "duration": 4,
    "start_time": "2024-07-12T13:23:16.522Z"
   },
   {
    "duration": 7,
    "start_time": "2024-07-12T13:23:16.527Z"
   },
   {
    "duration": 148,
    "start_time": "2024-07-12T13:23:16.535Z"
   }
  ],
  "kernelspec": {
   "display_name": "Python 3 (ipykernel)",
   "language": "python",
   "name": "python3"
  },
  "language_info": {
   "codemirror_mode": {
    "name": "ipython",
    "version": 3
   },
   "file_extension": ".py",
   "mimetype": "text/x-python",
   "name": "python",
   "nbconvert_exporter": "python",
   "pygments_lexer": "ipython3",
   "version": "3.9.5"
  },
  "toc": {
   "base_numbering": 1,
   "nav_menu": {
    "height": "166px",
    "width": "440px"
   },
   "number_sections": true,
   "sideBar": true,
   "skip_h1_title": true,
   "title_cell": "Оглавление",
   "title_sidebar": "Contents",
   "toc_cell": true,
   "toc_position": {
    "height": "calc(100% - 180px)",
    "left": "10px",
    "top": "150px",
    "width": "241.188px"
   },
   "toc_section_display": true,
   "toc_window_display": true
  }
 },
 "nbformat": 4,
 "nbformat_minor": 5
}
